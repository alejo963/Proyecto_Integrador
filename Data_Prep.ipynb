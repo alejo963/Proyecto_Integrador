{
  "cells": [
    {
      "cell_type": "code",
      "execution_count": 211,
      "metadata": {
        "id": "9PlrPAAn7fEA"
      },
      "outputs": [],
      "source": [
        "import pandas as pd\n",
        "import numpy as np\n",
        "import numpy.linalg as la\n",
        "import matplotlib.pyplot as plt\n",
        "from sklearn.preprocessing import StandardScaler\n",
        "from sklearn.model_selection import train_test_split, GridSearchCV\n",
        "from sklearn.covariance import shrunk_covariance, ledoit_wolf, MinCovDet\n",
        "from sklearn.neighbors import KNeighborsClassifier\n",
        "from sklearn.ensemble import RandomForestClassifier\n",
        "from sklearn.metrics import confusion_matrix, ConfusionMatrixDisplay, recall_score, precision_score, f1_score, accuracy_score\n",
        "from sklearn.svm import SVC\n",
        "from sklearn.linear_model import LogisticRegressionCV, LogisticRegression\n",
        "from imblearn.over_sampling import SMOTE\n",
        "from scipy.spatial.distance import mahalanobis"
      ]
    },
    {
      "cell_type": "code",
      "execution_count": 5,
      "metadata": {
        "colab": {
          "base_uri": "https://localhost:8080/"
        },
        "id": "piolSiov8ppO",
        "outputId": "dba38668-0bd2-4228-86ce-9bfa3a549b8f"
      },
      "outputs": [],
      "source": [
        "tx_path = \"./data/train_transaction.csv\"\n",
        "id_path = \"./data/train_identity.csv\""
      ]
    },
    {
      "cell_type": "markdown",
      "metadata": {
        "id": "8QTETy9ItRyx"
      },
      "source": [
        "## Lectura de datos"
      ]
    },
    {
      "cell_type": "code",
      "execution_count": 6,
      "metadata": {
        "id": "c3ddt89A8Xyd"
      },
      "outputs": [],
      "source": [
        "df_tx = pd.read_csv(tx_path)\n",
        "df_id = pd.read_csv(id_path)"
      ]
    },
    {
      "cell_type": "code",
      "execution_count": 7,
      "metadata": {
        "colab": {
          "base_uri": "https://localhost:8080/",
          "height": 236
        },
        "id": "8oehIuL3830g",
        "outputId": "7d5a55c1-10a5-404f-e47d-2524ce9c5252"
      },
      "outputs": [
        {
          "data": {
            "text/html": [
              "<div>\n",
              "<style scoped>\n",
              "    .dataframe tbody tr th:only-of-type {\n",
              "        vertical-align: middle;\n",
              "    }\n",
              "\n",
              "    .dataframe tbody tr th {\n",
              "        vertical-align: top;\n",
              "    }\n",
              "\n",
              "    .dataframe thead th {\n",
              "        text-align: right;\n",
              "    }\n",
              "</style>\n",
              "<table border=\"1\" class=\"dataframe\">\n",
              "  <thead>\n",
              "    <tr style=\"text-align: right;\">\n",
              "      <th></th>\n",
              "      <th>TransactionID</th>\n",
              "      <th>isFraud</th>\n",
              "      <th>TransactionDT</th>\n",
              "      <th>TransactionAmt</th>\n",
              "      <th>ProductCD</th>\n",
              "      <th>card1</th>\n",
              "      <th>card2</th>\n",
              "      <th>card3</th>\n",
              "      <th>card4</th>\n",
              "      <th>card5</th>\n",
              "      <th>...</th>\n",
              "      <th>V330</th>\n",
              "      <th>V331</th>\n",
              "      <th>V332</th>\n",
              "      <th>V333</th>\n",
              "      <th>V334</th>\n",
              "      <th>V335</th>\n",
              "      <th>V336</th>\n",
              "      <th>V337</th>\n",
              "      <th>V338</th>\n",
              "      <th>V339</th>\n",
              "    </tr>\n",
              "  </thead>\n",
              "  <tbody>\n",
              "    <tr>\n",
              "      <th>0</th>\n",
              "      <td>2987000</td>\n",
              "      <td>0</td>\n",
              "      <td>86400</td>\n",
              "      <td>68.5</td>\n",
              "      <td>W</td>\n",
              "      <td>13926</td>\n",
              "      <td>NaN</td>\n",
              "      <td>150.0</td>\n",
              "      <td>discover</td>\n",
              "      <td>142.0</td>\n",
              "      <td>...</td>\n",
              "      <td>NaN</td>\n",
              "      <td>NaN</td>\n",
              "      <td>NaN</td>\n",
              "      <td>NaN</td>\n",
              "      <td>NaN</td>\n",
              "      <td>NaN</td>\n",
              "      <td>NaN</td>\n",
              "      <td>NaN</td>\n",
              "      <td>NaN</td>\n",
              "      <td>NaN</td>\n",
              "    </tr>\n",
              "    <tr>\n",
              "      <th>1</th>\n",
              "      <td>2987001</td>\n",
              "      <td>0</td>\n",
              "      <td>86401</td>\n",
              "      <td>29.0</td>\n",
              "      <td>W</td>\n",
              "      <td>2755</td>\n",
              "      <td>404.0</td>\n",
              "      <td>150.0</td>\n",
              "      <td>mastercard</td>\n",
              "      <td>102.0</td>\n",
              "      <td>...</td>\n",
              "      <td>NaN</td>\n",
              "      <td>NaN</td>\n",
              "      <td>NaN</td>\n",
              "      <td>NaN</td>\n",
              "      <td>NaN</td>\n",
              "      <td>NaN</td>\n",
              "      <td>NaN</td>\n",
              "      <td>NaN</td>\n",
              "      <td>NaN</td>\n",
              "      <td>NaN</td>\n",
              "    </tr>\n",
              "    <tr>\n",
              "      <th>2</th>\n",
              "      <td>2987002</td>\n",
              "      <td>0</td>\n",
              "      <td>86469</td>\n",
              "      <td>59.0</td>\n",
              "      <td>W</td>\n",
              "      <td>4663</td>\n",
              "      <td>490.0</td>\n",
              "      <td>150.0</td>\n",
              "      <td>visa</td>\n",
              "      <td>166.0</td>\n",
              "      <td>...</td>\n",
              "      <td>NaN</td>\n",
              "      <td>NaN</td>\n",
              "      <td>NaN</td>\n",
              "      <td>NaN</td>\n",
              "      <td>NaN</td>\n",
              "      <td>NaN</td>\n",
              "      <td>NaN</td>\n",
              "      <td>NaN</td>\n",
              "      <td>NaN</td>\n",
              "      <td>NaN</td>\n",
              "    </tr>\n",
              "    <tr>\n",
              "      <th>3</th>\n",
              "      <td>2987003</td>\n",
              "      <td>0</td>\n",
              "      <td>86499</td>\n",
              "      <td>50.0</td>\n",
              "      <td>W</td>\n",
              "      <td>18132</td>\n",
              "      <td>567.0</td>\n",
              "      <td>150.0</td>\n",
              "      <td>mastercard</td>\n",
              "      <td>117.0</td>\n",
              "      <td>...</td>\n",
              "      <td>NaN</td>\n",
              "      <td>NaN</td>\n",
              "      <td>NaN</td>\n",
              "      <td>NaN</td>\n",
              "      <td>NaN</td>\n",
              "      <td>NaN</td>\n",
              "      <td>NaN</td>\n",
              "      <td>NaN</td>\n",
              "      <td>NaN</td>\n",
              "      <td>NaN</td>\n",
              "    </tr>\n",
              "    <tr>\n",
              "      <th>4</th>\n",
              "      <td>2987004</td>\n",
              "      <td>0</td>\n",
              "      <td>86506</td>\n",
              "      <td>50.0</td>\n",
              "      <td>H</td>\n",
              "      <td>4497</td>\n",
              "      <td>514.0</td>\n",
              "      <td>150.0</td>\n",
              "      <td>mastercard</td>\n",
              "      <td>102.0</td>\n",
              "      <td>...</td>\n",
              "      <td>0.0</td>\n",
              "      <td>0.0</td>\n",
              "      <td>0.0</td>\n",
              "      <td>0.0</td>\n",
              "      <td>0.0</td>\n",
              "      <td>0.0</td>\n",
              "      <td>0.0</td>\n",
              "      <td>0.0</td>\n",
              "      <td>0.0</td>\n",
              "      <td>0.0</td>\n",
              "    </tr>\n",
              "  </tbody>\n",
              "</table>\n",
              "<p>5 rows × 394 columns</p>\n",
              "</div>"
            ],
            "text/plain": [
              "   TransactionID  isFraud  TransactionDT  TransactionAmt ProductCD  card1  \\\n",
              "0        2987000        0          86400            68.5         W  13926   \n",
              "1        2987001        0          86401            29.0         W   2755   \n",
              "2        2987002        0          86469            59.0         W   4663   \n",
              "3        2987003        0          86499            50.0         W  18132   \n",
              "4        2987004        0          86506            50.0         H   4497   \n",
              "\n",
              "   card2  card3       card4  card5  ... V330  V331  V332  V333  V334 V335  \\\n",
              "0    NaN  150.0    discover  142.0  ...  NaN   NaN   NaN   NaN   NaN  NaN   \n",
              "1  404.0  150.0  mastercard  102.0  ...  NaN   NaN   NaN   NaN   NaN  NaN   \n",
              "2  490.0  150.0        visa  166.0  ...  NaN   NaN   NaN   NaN   NaN  NaN   \n",
              "3  567.0  150.0  mastercard  117.0  ...  NaN   NaN   NaN   NaN   NaN  NaN   \n",
              "4  514.0  150.0  mastercard  102.0  ...  0.0   0.0   0.0   0.0   0.0  0.0   \n",
              "\n",
              "  V336  V337  V338  V339  \n",
              "0  NaN   NaN   NaN   NaN  \n",
              "1  NaN   NaN   NaN   NaN  \n",
              "2  NaN   NaN   NaN   NaN  \n",
              "3  NaN   NaN   NaN   NaN  \n",
              "4  0.0   0.0   0.0   0.0  \n",
              "\n",
              "[5 rows x 394 columns]"
            ]
          },
          "execution_count": 7,
          "metadata": {},
          "output_type": "execute_result"
        }
      ],
      "source": [
        "df_tx.head()"
      ]
    },
    {
      "cell_type": "markdown",
      "metadata": {
        "id": "eTwi6kuatjJQ"
      },
      "source": [
        "## Unión de datasets"
      ]
    },
    {
      "cell_type": "code",
      "execution_count": 8,
      "metadata": {
        "colab": {
          "base_uri": "https://localhost:8080/",
          "height": 236
        },
        "id": "_l_fEotQ_MF1",
        "outputId": "4a090d6b-398a-4652-e864-ca7e3a5b9cb3"
      },
      "outputs": [
        {
          "data": {
            "text/html": [
              "<div>\n",
              "<style scoped>\n",
              "    .dataframe tbody tr th:only-of-type {\n",
              "        vertical-align: middle;\n",
              "    }\n",
              "\n",
              "    .dataframe tbody tr th {\n",
              "        vertical-align: top;\n",
              "    }\n",
              "\n",
              "    .dataframe thead th {\n",
              "        text-align: right;\n",
              "    }\n",
              "</style>\n",
              "<table border=\"1\" class=\"dataframe\">\n",
              "  <thead>\n",
              "    <tr style=\"text-align: right;\">\n",
              "      <th></th>\n",
              "      <th>TransactionID</th>\n",
              "      <th>id_01</th>\n",
              "      <th>id_02</th>\n",
              "      <th>id_03</th>\n",
              "      <th>id_04</th>\n",
              "      <th>id_05</th>\n",
              "      <th>id_06</th>\n",
              "      <th>id_07</th>\n",
              "      <th>id_08</th>\n",
              "      <th>id_09</th>\n",
              "      <th>...</th>\n",
              "      <th>V330</th>\n",
              "      <th>V331</th>\n",
              "      <th>V332</th>\n",
              "      <th>V333</th>\n",
              "      <th>V334</th>\n",
              "      <th>V335</th>\n",
              "      <th>V336</th>\n",
              "      <th>V337</th>\n",
              "      <th>V338</th>\n",
              "      <th>V339</th>\n",
              "    </tr>\n",
              "  </thead>\n",
              "  <tbody>\n",
              "    <tr>\n",
              "      <th>0</th>\n",
              "      <td>2987004</td>\n",
              "      <td>0.0</td>\n",
              "      <td>70787.0</td>\n",
              "      <td>NaN</td>\n",
              "      <td>NaN</td>\n",
              "      <td>NaN</td>\n",
              "      <td>NaN</td>\n",
              "      <td>NaN</td>\n",
              "      <td>NaN</td>\n",
              "      <td>NaN</td>\n",
              "      <td>...</td>\n",
              "      <td>0.0</td>\n",
              "      <td>0.0</td>\n",
              "      <td>0.0</td>\n",
              "      <td>0.0</td>\n",
              "      <td>0.0</td>\n",
              "      <td>0.0</td>\n",
              "      <td>0.0</td>\n",
              "      <td>0.0</td>\n",
              "      <td>0.0</td>\n",
              "      <td>0.0</td>\n",
              "    </tr>\n",
              "    <tr>\n",
              "      <th>1</th>\n",
              "      <td>2987008</td>\n",
              "      <td>-5.0</td>\n",
              "      <td>98945.0</td>\n",
              "      <td>NaN</td>\n",
              "      <td>NaN</td>\n",
              "      <td>0.0</td>\n",
              "      <td>-5.0</td>\n",
              "      <td>NaN</td>\n",
              "      <td>NaN</td>\n",
              "      <td>NaN</td>\n",
              "      <td>...</td>\n",
              "      <td>0.0</td>\n",
              "      <td>0.0</td>\n",
              "      <td>0.0</td>\n",
              "      <td>0.0</td>\n",
              "      <td>0.0</td>\n",
              "      <td>0.0</td>\n",
              "      <td>0.0</td>\n",
              "      <td>0.0</td>\n",
              "      <td>0.0</td>\n",
              "      <td>0.0</td>\n",
              "    </tr>\n",
              "    <tr>\n",
              "      <th>2</th>\n",
              "      <td>2987010</td>\n",
              "      <td>-5.0</td>\n",
              "      <td>191631.0</td>\n",
              "      <td>0.0</td>\n",
              "      <td>0.0</td>\n",
              "      <td>0.0</td>\n",
              "      <td>0.0</td>\n",
              "      <td>NaN</td>\n",
              "      <td>NaN</td>\n",
              "      <td>0.0</td>\n",
              "      <td>...</td>\n",
              "      <td>NaN</td>\n",
              "      <td>NaN</td>\n",
              "      <td>NaN</td>\n",
              "      <td>NaN</td>\n",
              "      <td>NaN</td>\n",
              "      <td>NaN</td>\n",
              "      <td>NaN</td>\n",
              "      <td>NaN</td>\n",
              "      <td>NaN</td>\n",
              "      <td>NaN</td>\n",
              "    </tr>\n",
              "    <tr>\n",
              "      <th>3</th>\n",
              "      <td>2987011</td>\n",
              "      <td>-5.0</td>\n",
              "      <td>221832.0</td>\n",
              "      <td>NaN</td>\n",
              "      <td>NaN</td>\n",
              "      <td>0.0</td>\n",
              "      <td>-6.0</td>\n",
              "      <td>NaN</td>\n",
              "      <td>NaN</td>\n",
              "      <td>NaN</td>\n",
              "      <td>...</td>\n",
              "      <td>NaN</td>\n",
              "      <td>NaN</td>\n",
              "      <td>NaN</td>\n",
              "      <td>NaN</td>\n",
              "      <td>NaN</td>\n",
              "      <td>NaN</td>\n",
              "      <td>NaN</td>\n",
              "      <td>NaN</td>\n",
              "      <td>NaN</td>\n",
              "      <td>NaN</td>\n",
              "    </tr>\n",
              "    <tr>\n",
              "      <th>4</th>\n",
              "      <td>2987016</td>\n",
              "      <td>0.0</td>\n",
              "      <td>7460.0</td>\n",
              "      <td>0.0</td>\n",
              "      <td>0.0</td>\n",
              "      <td>1.0</td>\n",
              "      <td>0.0</td>\n",
              "      <td>NaN</td>\n",
              "      <td>NaN</td>\n",
              "      <td>0.0</td>\n",
              "      <td>...</td>\n",
              "      <td>0.0</td>\n",
              "      <td>0.0</td>\n",
              "      <td>0.0</td>\n",
              "      <td>0.0</td>\n",
              "      <td>0.0</td>\n",
              "      <td>0.0</td>\n",
              "      <td>0.0</td>\n",
              "      <td>0.0</td>\n",
              "      <td>0.0</td>\n",
              "      <td>0.0</td>\n",
              "    </tr>\n",
              "  </tbody>\n",
              "</table>\n",
              "<p>5 rows × 434 columns</p>\n",
              "</div>"
            ],
            "text/plain": [
              "   TransactionID  id_01     id_02  id_03  id_04  id_05  id_06  id_07  id_08  \\\n",
              "0        2987004    0.0   70787.0    NaN    NaN    NaN    NaN    NaN    NaN   \n",
              "1        2987008   -5.0   98945.0    NaN    NaN    0.0   -5.0    NaN    NaN   \n",
              "2        2987010   -5.0  191631.0    0.0    0.0    0.0    0.0    NaN    NaN   \n",
              "3        2987011   -5.0  221832.0    NaN    NaN    0.0   -6.0    NaN    NaN   \n",
              "4        2987016    0.0    7460.0    0.0    0.0    1.0    0.0    NaN    NaN   \n",
              "\n",
              "   id_09  ...  V330  V331 V332  V333  V334 V335 V336  V337  V338  V339  \n",
              "0    NaN  ...   0.0   0.0  0.0   0.0   0.0  0.0  0.0   0.0   0.0   0.0  \n",
              "1    NaN  ...   0.0   0.0  0.0   0.0   0.0  0.0  0.0   0.0   0.0   0.0  \n",
              "2    0.0  ...   NaN   NaN  NaN   NaN   NaN  NaN  NaN   NaN   NaN   NaN  \n",
              "3    NaN  ...   NaN   NaN  NaN   NaN   NaN  NaN  NaN   NaN   NaN   NaN  \n",
              "4    0.0  ...   0.0   0.0  0.0   0.0   0.0  0.0  0.0   0.0   0.0   0.0  \n",
              "\n",
              "[5 rows x 434 columns]"
            ]
          },
          "execution_count": 8,
          "metadata": {},
          "output_type": "execute_result"
        }
      ],
      "source": [
        "df = pd.merge(df_id, df_tx, how='inner', on='TransactionID')\n",
        "df.head()"
      ]
    },
    {
      "cell_type": "code",
      "execution_count": 9,
      "metadata": {
        "colab": {
          "base_uri": "https://localhost:8080/"
        },
        "id": "0o767rJBAPNj",
        "outputId": "23fa650a-ef48-4730-af58-b9035b0c4bbe"
      },
      "outputs": [
        {
          "data": {
            "text/plain": [
              "(144233, 434)"
            ]
          },
          "execution_count": 9,
          "metadata": {},
          "output_type": "execute_result"
        }
      ],
      "source": [
        "df.shape"
      ]
    },
    {
      "cell_type": "markdown",
      "metadata": {
        "id": "kx65Oenitn2X"
      },
      "source": [
        "## Limpieza de datos\n",
        "\n",
        "Se eliminan las columnas que tengan más del 10% de valores de nulos. Después, se eliminan todos los registros que tengan valores nulos"
      ]
    },
    {
      "cell_type": "code",
      "execution_count": 10,
      "metadata": {
        "colab": {
          "base_uri": "https://localhost:8080/"
        },
        "id": "wIKeAAR2AVQy",
        "outputId": "c4bfd394-d6dd-44e5-e333-704755f53802"
      },
      "outputs": [
        {
          "name": "stdout",
          "output_type": "stream",
          "text": [
            "<class 'pandas.core.frame.DataFrame'>\n",
            "Int64Index: 144233 entries, 0 to 144232\n",
            "Columns: 244 entries, TransactionID to V321\n",
            "dtypes: float64(225), int64(4), object(15)\n",
            "memory usage: 269.6+ MB\n"
          ]
        }
      ],
      "source": [
        "thresh_col = df.shape[0]*0.9\n",
        "df.dropna(axis=1, thresh=thresh_col, inplace=True)\n",
        "df.info()"
      ]
    },
    {
      "cell_type": "code",
      "execution_count": 11,
      "metadata": {
        "colab": {
          "base_uri": "https://localhost:8080/"
        },
        "id": "MnW1Cv9ZApok",
        "outputId": "d5b76c29-e21e-4b8c-c854-60899282fb9c"
      },
      "outputs": [
        {
          "name": "stdout",
          "output_type": "stream",
          "text": [
            "<class 'pandas.core.frame.DataFrame'>\n",
            "RangeIndex: 102800 entries, 0 to 102799\n",
            "Columns: 244 entries, TransactionID to V321\n",
            "dtypes: float64(225), int64(4), object(15)\n",
            "memory usage: 191.4+ MB\n"
          ]
        }
      ],
      "source": [
        "df.dropna(axis=0, inplace=True)\n",
        "df.reset_index(drop=True, inplace=True)\n",
        "df.info()"
      ]
    },
    {
      "cell_type": "markdown",
      "metadata": {
        "id": "ezYLzFFat9bj"
      },
      "source": [
        "## Desbalanceo de clase isFraud\n",
        "\n",
        "Solo el 8.5% de los datos están clasificados como fraudulentos, lo cual supone un problema serio de desbalanceo"
      ]
    },
    {
      "cell_type": "code",
      "execution_count": 12,
      "metadata": {
        "colab": {
          "base_uri": "https://localhost:8080/"
        },
        "id": "kfDqJt27Bcf2",
        "outputId": "cb4ca663-5d99-4c69-aa06-0726edd57640"
      },
      "outputs": [
        {
          "data": {
            "text/plain": [
              "0    91.493191\n",
              "1     8.506809\n",
              "Name: isFraud, dtype: float64"
            ]
          },
          "execution_count": 12,
          "metadata": {},
          "output_type": "execute_result"
        }
      ],
      "source": [
        "df.isFraud.value_counts() / df.shape[0] * 100"
      ]
    },
    {
      "cell_type": "markdown",
      "metadata": {
        "id": "G1B38ideuF0D"
      },
      "source": [
        "## Estandarización de datos numéricos\n",
        "\n",
        "Estandarizamos todos los datos númericos (con excepción de TransactionID y TransactionDT) con media 0 y varianza 1"
      ]
    },
    {
      "cell_type": "code",
      "execution_count": 13,
      "metadata": {
        "colab": {
          "base_uri": "https://localhost:8080/",
          "height": 236
        },
        "id": "ceSBYY1gCeW3",
        "outputId": "b516afc9-a40f-4273-c951-47a1cc3fa1d6"
      },
      "outputs": [
        {
          "data": {
            "text/html": [
              "<div>\n",
              "<style scoped>\n",
              "    .dataframe tbody tr th:only-of-type {\n",
              "        vertical-align: middle;\n",
              "    }\n",
              "\n",
              "    .dataframe tbody tr th {\n",
              "        vertical-align: top;\n",
              "    }\n",
              "\n",
              "    .dataframe thead th {\n",
              "        text-align: right;\n",
              "    }\n",
              "</style>\n",
              "<table border=\"1\" class=\"dataframe\">\n",
              "  <thead>\n",
              "    <tr style=\"text-align: right;\">\n",
              "      <th></th>\n",
              "      <th>id_01</th>\n",
              "      <th>id_02</th>\n",
              "      <th>id_05</th>\n",
              "      <th>id_06</th>\n",
              "      <th>id_11</th>\n",
              "      <th>id_17</th>\n",
              "      <th>id_19</th>\n",
              "      <th>id_20</th>\n",
              "      <th>TransactionAmt</th>\n",
              "      <th>card1</th>\n",
              "      <th>...</th>\n",
              "      <th>V312</th>\n",
              "      <th>V313</th>\n",
              "      <th>V314</th>\n",
              "      <th>V315</th>\n",
              "      <th>V316</th>\n",
              "      <th>V317</th>\n",
              "      <th>V318</th>\n",
              "      <th>V319</th>\n",
              "      <th>V320</th>\n",
              "      <th>V321</th>\n",
              "    </tr>\n",
              "  </thead>\n",
              "  <tbody>\n",
              "    <tr>\n",
              "      <th>0</th>\n",
              "      <td>-5.0</td>\n",
              "      <td>191631.0</td>\n",
              "      <td>0.0</td>\n",
              "      <td>0.0</td>\n",
              "      <td>100.0</td>\n",
              "      <td>121.0</td>\n",
              "      <td>410.0</td>\n",
              "      <td>142.0</td>\n",
              "      <td>75.887</td>\n",
              "      <td>16496</td>\n",
              "      <td>...</td>\n",
              "      <td>90.327904</td>\n",
              "      <td>90.327904</td>\n",
              "      <td>90.327904</td>\n",
              "      <td>90.327904</td>\n",
              "      <td>0.0</td>\n",
              "      <td>0.0</td>\n",
              "      <td>0.0</td>\n",
              "      <td>75.887497</td>\n",
              "      <td>75.887497</td>\n",
              "      <td>75.887497</td>\n",
              "    </tr>\n",
              "    <tr>\n",
              "      <th>1</th>\n",
              "      <td>-5.0</td>\n",
              "      <td>221832.0</td>\n",
              "      <td>0.0</td>\n",
              "      <td>-6.0</td>\n",
              "      <td>100.0</td>\n",
              "      <td>225.0</td>\n",
              "      <td>176.0</td>\n",
              "      <td>507.0</td>\n",
              "      <td>16.495</td>\n",
              "      <td>4461</td>\n",
              "      <td>...</td>\n",
              "      <td>0.000000</td>\n",
              "      <td>0.000000</td>\n",
              "      <td>0.000000</td>\n",
              "      <td>0.000000</td>\n",
              "      <td>0.0</td>\n",
              "      <td>0.0</td>\n",
              "      <td>0.0</td>\n",
              "      <td>0.000000</td>\n",
              "      <td>0.000000</td>\n",
              "      <td>0.000000</td>\n",
              "    </tr>\n",
              "    <tr>\n",
              "      <th>2</th>\n",
              "      <td>-10.0</td>\n",
              "      <td>116098.0</td>\n",
              "      <td>0.0</td>\n",
              "      <td>0.0</td>\n",
              "      <td>100.0</td>\n",
              "      <td>121.0</td>\n",
              "      <td>410.0</td>\n",
              "      <td>142.0</td>\n",
              "      <td>75.887</td>\n",
              "      <td>13329</td>\n",
              "      <td>...</td>\n",
              "      <td>0.000000</td>\n",
              "      <td>0.000000</td>\n",
              "      <td>0.000000</td>\n",
              "      <td>0.000000</td>\n",
              "      <td>0.0</td>\n",
              "      <td>0.0</td>\n",
              "      <td>0.0</td>\n",
              "      <td>0.000000</td>\n",
              "      <td>0.000000</td>\n",
              "      <td>0.000000</td>\n",
              "    </tr>\n",
              "    <tr>\n",
              "      <th>3</th>\n",
              "      <td>-5.0</td>\n",
              "      <td>257037.0</td>\n",
              "      <td>0.0</td>\n",
              "      <td>0.0</td>\n",
              "      <td>100.0</td>\n",
              "      <td>225.0</td>\n",
              "      <td>484.0</td>\n",
              "      <td>507.0</td>\n",
              "      <td>42.294</td>\n",
              "      <td>15885</td>\n",
              "      <td>...</td>\n",
              "      <td>0.000000</td>\n",
              "      <td>0.000000</td>\n",
              "      <td>0.000000</td>\n",
              "      <td>0.000000</td>\n",
              "      <td>0.0</td>\n",
              "      <td>0.0</td>\n",
              "      <td>0.0</td>\n",
              "      <td>0.000000</td>\n",
              "      <td>0.000000</td>\n",
              "      <td>0.000000</td>\n",
              "    </tr>\n",
              "    <tr>\n",
              "      <th>4</th>\n",
              "      <td>-5.0</td>\n",
              "      <td>287959.0</td>\n",
              "      <td>1.0</td>\n",
              "      <td>-11.0</td>\n",
              "      <td>100.0</td>\n",
              "      <td>225.0</td>\n",
              "      <td>254.0</td>\n",
              "      <td>507.0</td>\n",
              "      <td>3.595</td>\n",
              "      <td>12730</td>\n",
              "      <td>...</td>\n",
              "      <td>0.000000</td>\n",
              "      <td>0.000000</td>\n",
              "      <td>0.000000</td>\n",
              "      <td>0.000000</td>\n",
              "      <td>0.0</td>\n",
              "      <td>0.0</td>\n",
              "      <td>0.0</td>\n",
              "      <td>0.000000</td>\n",
              "      <td>0.000000</td>\n",
              "      <td>0.000000</td>\n",
              "    </tr>\n",
              "  </tbody>\n",
              "</table>\n",
              "<p>5 rows × 226 columns</p>\n",
              "</div>"
            ],
            "text/plain": [
              "   id_01     id_02  id_05  id_06  id_11  id_17  id_19  id_20  TransactionAmt  \\\n",
              "0   -5.0  191631.0    0.0    0.0  100.0  121.0  410.0  142.0          75.887   \n",
              "1   -5.0  221832.0    0.0   -6.0  100.0  225.0  176.0  507.0          16.495   \n",
              "2  -10.0  116098.0    0.0    0.0  100.0  121.0  410.0  142.0          75.887   \n",
              "3   -5.0  257037.0    0.0    0.0  100.0  225.0  484.0  507.0          42.294   \n",
              "4   -5.0  287959.0    1.0  -11.0  100.0  225.0  254.0  507.0           3.595   \n",
              "\n",
              "   card1  ...       V312       V313       V314       V315  V316  V317  V318  \\\n",
              "0  16496  ...  90.327904  90.327904  90.327904  90.327904   0.0   0.0   0.0   \n",
              "1   4461  ...   0.000000   0.000000   0.000000   0.000000   0.0   0.0   0.0   \n",
              "2  13329  ...   0.000000   0.000000   0.000000   0.000000   0.0   0.0   0.0   \n",
              "3  15885  ...   0.000000   0.000000   0.000000   0.000000   0.0   0.0   0.0   \n",
              "4  12730  ...   0.000000   0.000000   0.000000   0.000000   0.0   0.0   0.0   \n",
              "\n",
              "        V319       V320       V321  \n",
              "0  75.887497  75.887497  75.887497  \n",
              "1   0.000000   0.000000   0.000000  \n",
              "2   0.000000   0.000000   0.000000  \n",
              "3   0.000000   0.000000   0.000000  \n",
              "4   0.000000   0.000000   0.000000  \n",
              "\n",
              "[5 rows x 226 columns]"
            ]
          },
          "execution_count": 13,
          "metadata": {},
          "output_type": "execute_result"
        }
      ],
      "source": [
        "numeric_df = df.select_dtypes('number').drop(['isFraud', 'TransactionID', 'TransactionDT'], axis=1)\n",
        "columns = numeric_df.columns\n",
        "numeric_df.head()"
      ]
    },
    {
      "cell_type": "code",
      "execution_count": 14,
      "metadata": {
        "id": "q4vjj6jVC0lF"
      },
      "outputs": [],
      "source": [
        "scaler = StandardScaler()\n",
        "numeric_array = scaler.fit_transform(numeric_df)"
      ]
    },
    {
      "cell_type": "code",
      "execution_count": 15,
      "metadata": {
        "colab": {
          "base_uri": "https://localhost:8080/",
          "height": 424
        },
        "id": "Bd00ihmydEZR",
        "outputId": "6a3611da-449f-45b2-dde3-215b059582a5"
      },
      "outputs": [
        {
          "data": {
            "text/html": [
              "<div>\n",
              "<style scoped>\n",
              "    .dataframe tbody tr th:only-of-type {\n",
              "        vertical-align: middle;\n",
              "    }\n",
              "\n",
              "    .dataframe tbody tr th {\n",
              "        vertical-align: top;\n",
              "    }\n",
              "\n",
              "    .dataframe thead th {\n",
              "        text-align: right;\n",
              "    }\n",
              "</style>\n",
              "<table border=\"1\" class=\"dataframe\">\n",
              "  <thead>\n",
              "    <tr style=\"text-align: right;\">\n",
              "      <th></th>\n",
              "      <th>id_01</th>\n",
              "      <th>id_02</th>\n",
              "      <th>id_05</th>\n",
              "      <th>id_06</th>\n",
              "      <th>id_11</th>\n",
              "      <th>id_17</th>\n",
              "      <th>id_19</th>\n",
              "      <th>id_20</th>\n",
              "      <th>TransactionAmt</th>\n",
              "      <th>card1</th>\n",
              "      <th>...</th>\n",
              "      <th>V312</th>\n",
              "      <th>V313</th>\n",
              "      <th>V314</th>\n",
              "      <th>V315</th>\n",
              "      <th>V316</th>\n",
              "      <th>V317</th>\n",
              "      <th>V318</th>\n",
              "      <th>V319</th>\n",
              "      <th>V320</th>\n",
              "      <th>V321</th>\n",
              "    </tr>\n",
              "  </thead>\n",
              "  <tbody>\n",
              "    <tr>\n",
              "      <th>0</th>\n",
              "      <td>0.358838</td>\n",
              "      <td>0.017813</td>\n",
              "      <td>-0.301125</td>\n",
              "      <td>0.360888</td>\n",
              "      <td>0.217499</td>\n",
              "      <td>-2.270046</td>\n",
              "      <td>0.446592</td>\n",
              "      <td>-1.701548</td>\n",
              "      <td>-0.130914</td>\n",
              "      <td>1.320825</td>\n",
              "      <td>...</td>\n",
              "      <td>1.481453</td>\n",
              "      <td>1.826733</td>\n",
              "      <td>1.572101</td>\n",
              "      <td>1.703516</td>\n",
              "      <td>-0.101276</td>\n",
              "      <td>-0.112061</td>\n",
              "      <td>-0.106876</td>\n",
              "      <td>0.358337</td>\n",
              "      <td>0.342541</td>\n",
              "      <td>0.350132</td>\n",
              "    </tr>\n",
              "    <tr>\n",
              "      <th>1</th>\n",
              "      <td>0.358838</td>\n",
              "      <td>0.207621</td>\n",
              "      <td>-0.301125</td>\n",
              "      <td>-0.088505</td>\n",
              "      <td>0.217499</td>\n",
              "      <td>1.086452</td>\n",
              "      <td>-1.240663</td>\n",
              "      <td>0.714589</td>\n",
              "      <td>-0.695065</td>\n",
              "      <td>-1.072967</td>\n",
              "      <td>...</td>\n",
              "      <td>-0.142367</td>\n",
              "      <td>-0.165480</td>\n",
              "      <td>-0.167453</td>\n",
              "      <td>-0.165828</td>\n",
              "      <td>-0.101276</td>\n",
              "      <td>-0.112061</td>\n",
              "      <td>-0.106876</td>\n",
              "      <td>-0.093533</td>\n",
              "      <td>-0.099042</td>\n",
              "      <td>-0.097247</td>\n",
              "    </tr>\n",
              "    <tr>\n",
              "      <th>2</th>\n",
              "      <td>0.017014</td>\n",
              "      <td>-0.456900</td>\n",
              "      <td>-0.301125</td>\n",
              "      <td>0.360888</td>\n",
              "      <td>0.217499</td>\n",
              "      <td>-2.270046</td>\n",
              "      <td>0.446592</td>\n",
              "      <td>-1.701548</td>\n",
              "      <td>-0.130914</td>\n",
              "      <td>0.690900</td>\n",
              "      <td>...</td>\n",
              "      <td>-0.142367</td>\n",
              "      <td>-0.165480</td>\n",
              "      <td>-0.167453</td>\n",
              "      <td>-0.165828</td>\n",
              "      <td>-0.101276</td>\n",
              "      <td>-0.112061</td>\n",
              "      <td>-0.106876</td>\n",
              "      <td>-0.093533</td>\n",
              "      <td>-0.099042</td>\n",
              "      <td>-0.097247</td>\n",
              "    </tr>\n",
              "    <tr>\n",
              "      <th>3</th>\n",
              "      <td>0.358838</td>\n",
              "      <td>0.428879</td>\n",
              "      <td>-0.301125</td>\n",
              "      <td>0.360888</td>\n",
              "      <td>0.217499</td>\n",
              "      <td>1.086452</td>\n",
              "      <td>0.980168</td>\n",
              "      <td>0.714589</td>\n",
              "      <td>-0.450006</td>\n",
              "      <td>1.199295</td>\n",
              "      <td>...</td>\n",
              "      <td>-0.142367</td>\n",
              "      <td>-0.165480</td>\n",
              "      <td>-0.167453</td>\n",
              "      <td>-0.165828</td>\n",
              "      <td>-0.101276</td>\n",
              "      <td>-0.112061</td>\n",
              "      <td>-0.106876</td>\n",
              "      <td>-0.093533</td>\n",
              "      <td>-0.099042</td>\n",
              "      <td>-0.097247</td>\n",
              "    </tr>\n",
              "    <tr>\n",
              "      <th>4</th>\n",
              "      <td>0.358838</td>\n",
              "      <td>0.623219</td>\n",
              "      <td>-0.100105</td>\n",
              "      <td>-0.463000</td>\n",
              "      <td>0.217499</td>\n",
              "      <td>1.086452</td>\n",
              "      <td>-0.678245</td>\n",
              "      <td>0.714589</td>\n",
              "      <td>-0.817599</td>\n",
              "      <td>0.571758</td>\n",
              "      <td>...</td>\n",
              "      <td>-0.142367</td>\n",
              "      <td>-0.165480</td>\n",
              "      <td>-0.167453</td>\n",
              "      <td>-0.165828</td>\n",
              "      <td>-0.101276</td>\n",
              "      <td>-0.112061</td>\n",
              "      <td>-0.106876</td>\n",
              "      <td>-0.093533</td>\n",
              "      <td>-0.099042</td>\n",
              "      <td>-0.097247</td>\n",
              "    </tr>\n",
              "    <tr>\n",
              "      <th>...</th>\n",
              "      <td>...</td>\n",
              "      <td>...</td>\n",
              "      <td>...</td>\n",
              "      <td>...</td>\n",
              "      <td>...</td>\n",
              "      <td>...</td>\n",
              "      <td>...</td>\n",
              "      <td>...</td>\n",
              "      <td>...</td>\n",
              "      <td>...</td>\n",
              "      <td>...</td>\n",
              "      <td>...</td>\n",
              "      <td>...</td>\n",
              "      <td>...</td>\n",
              "      <td>...</td>\n",
              "      <td>...</td>\n",
              "      <td>...</td>\n",
              "      <td>...</td>\n",
              "      <td>...</td>\n",
              "      <td>...</td>\n",
              "      <td>...</td>\n",
              "    </tr>\n",
              "    <tr>\n",
              "      <th>102795</th>\n",
              "      <td>0.358838</td>\n",
              "      <td>-0.622474</td>\n",
              "      <td>-0.301125</td>\n",
              "      <td>0.360888</td>\n",
              "      <td>0.217499</td>\n",
              "      <td>1.086452</td>\n",
              "      <td>0.569170</td>\n",
              "      <td>1.297110</td>\n",
              "      <td>-0.295955</td>\n",
              "      <td>0.876079</td>\n",
              "      <td>...</td>\n",
              "      <td>1.435434</td>\n",
              "      <td>1.770274</td>\n",
              "      <td>1.522802</td>\n",
              "      <td>1.650539</td>\n",
              "      <td>2.711934</td>\n",
              "      <td>2.465382</td>\n",
              "      <td>2.503918</td>\n",
              "      <td>-0.093533</td>\n",
              "      <td>-0.099042</td>\n",
              "      <td>-0.097247</td>\n",
              "    </tr>\n",
              "    <tr>\n",
              "      <th>102796</th>\n",
              "      <td>0.358838</td>\n",
              "      <td>-0.810956</td>\n",
              "      <td>-0.301125</td>\n",
              "      <td>0.360888</td>\n",
              "      <td>0.217499</td>\n",
              "      <td>1.086452</td>\n",
              "      <td>0.569170</td>\n",
              "      <td>1.297110</td>\n",
              "      <td>-0.295955</td>\n",
              "      <td>-1.332933</td>\n",
              "      <td>...</td>\n",
              "      <td>-0.142367</td>\n",
              "      <td>-0.165480</td>\n",
              "      <td>-0.167453</td>\n",
              "      <td>-0.165828</td>\n",
              "      <td>0.154471</td>\n",
              "      <td>0.122252</td>\n",
              "      <td>0.130469</td>\n",
              "      <td>-0.093533</td>\n",
              "      <td>-0.099042</td>\n",
              "      <td>-0.097247</td>\n",
              "    </tr>\n",
              "    <tr>\n",
              "      <th>102797</th>\n",
              "      <td>0.358838</td>\n",
              "      <td>0.405424</td>\n",
              "      <td>-0.301125</td>\n",
              "      <td>-1.886080</td>\n",
              "      <td>0.217499</td>\n",
              "      <td>1.086452</td>\n",
              "      <td>0.259119</td>\n",
              "      <td>-1.833940</td>\n",
              "      <td>-0.580775</td>\n",
              "      <td>1.249220</td>\n",
              "      <td>...</td>\n",
              "      <td>0.573816</td>\n",
              "      <td>0.713183</td>\n",
              "      <td>0.599775</td>\n",
              "      <td>0.658644</td>\n",
              "      <td>-0.101276</td>\n",
              "      <td>-0.112061</td>\n",
              "      <td>-0.106876</td>\n",
              "      <td>-0.093533</td>\n",
              "      <td>-0.099042</td>\n",
              "      <td>-0.097247</td>\n",
              "    </tr>\n",
              "    <tr>\n",
              "      <th>102798</th>\n",
              "      <td>-0.324810</td>\n",
              "      <td>-0.269253</td>\n",
              "      <td>-0.301125</td>\n",
              "      <td>0.360888</td>\n",
              "      <td>0.217499</td>\n",
              "      <td>1.086452</td>\n",
              "      <td>0.569170</td>\n",
              "      <td>-1.721407</td>\n",
              "      <td>-0.387476</td>\n",
              "      <td>0.430338</td>\n",
              "      <td>...</td>\n",
              "      <td>0.937436</td>\n",
              "      <td>1.159297</td>\n",
              "      <td>0.989311</td>\n",
              "      <td>1.077243</td>\n",
              "      <td>2.035040</td>\n",
              "      <td>1.845217</td>\n",
              "      <td>1.875728</td>\n",
              "      <td>-0.093533</td>\n",
              "      <td>-0.099042</td>\n",
              "      <td>-0.097247</td>\n",
              "    </tr>\n",
              "    <tr>\n",
              "      <th>102799</th>\n",
              "      <td>-0.666634</td>\n",
              "      <td>2.787856</td>\n",
              "      <td>-0.502146</td>\n",
              "      <td>-2.335474</td>\n",
              "      <td>0.217499</td>\n",
              "      <td>1.086452</td>\n",
              "      <td>1.578639</td>\n",
              "      <td>0.079112</td>\n",
              "      <td>-0.150377</td>\n",
              "      <td>-0.946664</td>\n",
              "      <td>...</td>\n",
              "      <td>-0.142367</td>\n",
              "      <td>-0.165480</td>\n",
              "      <td>-0.167453</td>\n",
              "      <td>-0.165828</td>\n",
              "      <td>-0.101276</td>\n",
              "      <td>-0.112061</td>\n",
              "      <td>-0.106876</td>\n",
              "      <td>-0.093533</td>\n",
              "      <td>-0.099042</td>\n",
              "      <td>-0.097247</td>\n",
              "    </tr>\n",
              "  </tbody>\n",
              "</table>\n",
              "<p>102800 rows × 226 columns</p>\n",
              "</div>"
            ],
            "text/plain": [
              "           id_01     id_02     id_05     id_06     id_11     id_17     id_19  \\\n",
              "0       0.358838  0.017813 -0.301125  0.360888  0.217499 -2.270046  0.446592   \n",
              "1       0.358838  0.207621 -0.301125 -0.088505  0.217499  1.086452 -1.240663   \n",
              "2       0.017014 -0.456900 -0.301125  0.360888  0.217499 -2.270046  0.446592   \n",
              "3       0.358838  0.428879 -0.301125  0.360888  0.217499  1.086452  0.980168   \n",
              "4       0.358838  0.623219 -0.100105 -0.463000  0.217499  1.086452 -0.678245   \n",
              "...          ...       ...       ...       ...       ...       ...       ...   \n",
              "102795  0.358838 -0.622474 -0.301125  0.360888  0.217499  1.086452  0.569170   \n",
              "102796  0.358838 -0.810956 -0.301125  0.360888  0.217499  1.086452  0.569170   \n",
              "102797  0.358838  0.405424 -0.301125 -1.886080  0.217499  1.086452  0.259119   \n",
              "102798 -0.324810 -0.269253 -0.301125  0.360888  0.217499  1.086452  0.569170   \n",
              "102799 -0.666634  2.787856 -0.502146 -2.335474  0.217499  1.086452  1.578639   \n",
              "\n",
              "           id_20  TransactionAmt     card1  ...      V312      V313      V314  \\\n",
              "0      -1.701548       -0.130914  1.320825  ...  1.481453  1.826733  1.572101   \n",
              "1       0.714589       -0.695065 -1.072967  ... -0.142367 -0.165480 -0.167453   \n",
              "2      -1.701548       -0.130914  0.690900  ... -0.142367 -0.165480 -0.167453   \n",
              "3       0.714589       -0.450006  1.199295  ... -0.142367 -0.165480 -0.167453   \n",
              "4       0.714589       -0.817599  0.571758  ... -0.142367 -0.165480 -0.167453   \n",
              "...          ...             ...       ...  ...       ...       ...       ...   \n",
              "102795  1.297110       -0.295955  0.876079  ...  1.435434  1.770274  1.522802   \n",
              "102796  1.297110       -0.295955 -1.332933  ... -0.142367 -0.165480 -0.167453   \n",
              "102797 -1.833940       -0.580775  1.249220  ...  0.573816  0.713183  0.599775   \n",
              "102798 -1.721407       -0.387476  0.430338  ...  0.937436  1.159297  0.989311   \n",
              "102799  0.079112       -0.150377 -0.946664  ... -0.142367 -0.165480 -0.167453   \n",
              "\n",
              "            V315      V316      V317      V318      V319      V320      V321  \n",
              "0       1.703516 -0.101276 -0.112061 -0.106876  0.358337  0.342541  0.350132  \n",
              "1      -0.165828 -0.101276 -0.112061 -0.106876 -0.093533 -0.099042 -0.097247  \n",
              "2      -0.165828 -0.101276 -0.112061 -0.106876 -0.093533 -0.099042 -0.097247  \n",
              "3      -0.165828 -0.101276 -0.112061 -0.106876 -0.093533 -0.099042 -0.097247  \n",
              "4      -0.165828 -0.101276 -0.112061 -0.106876 -0.093533 -0.099042 -0.097247  \n",
              "...          ...       ...       ...       ...       ...       ...       ...  \n",
              "102795  1.650539  2.711934  2.465382  2.503918 -0.093533 -0.099042 -0.097247  \n",
              "102796 -0.165828  0.154471  0.122252  0.130469 -0.093533 -0.099042 -0.097247  \n",
              "102797  0.658644 -0.101276 -0.112061 -0.106876 -0.093533 -0.099042 -0.097247  \n",
              "102798  1.077243  2.035040  1.845217  1.875728 -0.093533 -0.099042 -0.097247  \n",
              "102799 -0.165828 -0.101276 -0.112061 -0.106876 -0.093533 -0.099042 -0.097247  \n",
              "\n",
              "[102800 rows x 226 columns]"
            ]
          },
          "execution_count": 15,
          "metadata": {},
          "output_type": "execute_result"
        }
      ],
      "source": [
        "new_numeric_df = pd.DataFrame(numeric_array, columns = columns)\n",
        "new_numeric_df"
      ]
    },
    {
      "cell_type": "markdown",
      "metadata": {
        "id": "5mqX4Kn8uPP1"
      },
      "source": [
        "## Eliminación de variables numéricas altamente concentradas\n",
        "\n",
        "Estas variables se pueden considerar como constantes y no aportan información al modelo final"
      ]
    },
    {
      "cell_type": "code",
      "execution_count": 16,
      "metadata": {
        "colab": {
          "base_uri": "https://localhost:8080/"
        },
        "id": "dM5xtZL5hb4w",
        "outputId": "750e7703-459b-4f36-ffcd-106e441f9b64"
      },
      "outputs": [
        {
          "data": {
            "text/plain": [
              "182"
            ]
          },
          "execution_count": 16,
          "metadata": {},
          "output_type": "execute_result"
        }
      ],
      "source": [
        "df_process = new_numeric_df.copy()\n",
        "cols_to_drop = []\n",
        "for col in df_process.columns:\n",
        "  try:\n",
        "    temp = df_process[col].value_counts().sort_values(ascending=False)\n",
        "  except:\n",
        "    continue\n",
        "  p = (temp / df_process.shape[0]).iloc[0]\n",
        "  if p > 0.8:\n",
        "    cols_to_drop.append(col)\n",
        "df_process.drop(cols_to_drop, axis=1, inplace=True)\n",
        "len(cols_to_drop)"
      ]
    },
    {
      "cell_type": "markdown",
      "metadata": {
        "id": "QPfgEJQmujy8"
      },
      "source": [
        "## Procesamiento de variables categóricas (Re-categorización)"
      ]
    },
    {
      "cell_type": "code",
      "execution_count": 17,
      "metadata": {
        "colab": {
          "base_uri": "https://localhost:8080/",
          "height": 206
        },
        "id": "x7AHZHAbrcXU",
        "outputId": "13da7718-9dff-40fa-eff4-ab76f3214863"
      },
      "outputs": [
        {
          "data": {
            "text/html": [
              "<div>\n",
              "<style scoped>\n",
              "    .dataframe tbody tr th:only-of-type {\n",
              "        vertical-align: middle;\n",
              "    }\n",
              "\n",
              "    .dataframe tbody tr th {\n",
              "        vertical-align: top;\n",
              "    }\n",
              "\n",
              "    .dataframe thead th {\n",
              "        text-align: right;\n",
              "    }\n",
              "</style>\n",
              "<table border=\"1\" class=\"dataframe\">\n",
              "  <thead>\n",
              "    <tr style=\"text-align: right;\">\n",
              "      <th></th>\n",
              "      <th>id_12</th>\n",
              "      <th>id_15</th>\n",
              "      <th>id_28</th>\n",
              "      <th>id_29</th>\n",
              "      <th>id_31</th>\n",
              "      <th>id_35</th>\n",
              "      <th>id_36</th>\n",
              "      <th>id_37</th>\n",
              "      <th>id_38</th>\n",
              "      <th>DeviceType</th>\n",
              "      <th>ProductCD</th>\n",
              "      <th>card4</th>\n",
              "      <th>card6</th>\n",
              "      <th>P_emaildomain</th>\n",
              "      <th>R_emaildomain</th>\n",
              "    </tr>\n",
              "  </thead>\n",
              "  <tbody>\n",
              "    <tr>\n",
              "      <th>0</th>\n",
              "      <td>NotFound</td>\n",
              "      <td>Found</td>\n",
              "      <td>Found</td>\n",
              "      <td>Found</td>\n",
              "      <td>chrome 62.0</td>\n",
              "      <td>F</td>\n",
              "      <td>F</td>\n",
              "      <td>T</td>\n",
              "      <td>T</td>\n",
              "      <td>desktop</td>\n",
              "      <td>C</td>\n",
              "      <td>mastercard</td>\n",
              "      <td>credit</td>\n",
              "      <td>gmail.com</td>\n",
              "      <td>gmail.com</td>\n",
              "    </tr>\n",
              "    <tr>\n",
              "      <th>1</th>\n",
              "      <td>NotFound</td>\n",
              "      <td>New</td>\n",
              "      <td>New</td>\n",
              "      <td>NotFound</td>\n",
              "      <td>chrome 62.0</td>\n",
              "      <td>F</td>\n",
              "      <td>F</td>\n",
              "      <td>T</td>\n",
              "      <td>T</td>\n",
              "      <td>desktop</td>\n",
              "      <td>C</td>\n",
              "      <td>mastercard</td>\n",
              "      <td>debit</td>\n",
              "      <td>hotmail.com</td>\n",
              "      <td>hotmail.com</td>\n",
              "    </tr>\n",
              "    <tr>\n",
              "      <th>2</th>\n",
              "      <td>NotFound</td>\n",
              "      <td>Found</td>\n",
              "      <td>Found</td>\n",
              "      <td>Found</td>\n",
              "      <td>chrome 62.0</td>\n",
              "      <td>F</td>\n",
              "      <td>F</td>\n",
              "      <td>T</td>\n",
              "      <td>T</td>\n",
              "      <td>desktop</td>\n",
              "      <td>C</td>\n",
              "      <td>visa</td>\n",
              "      <td>credit</td>\n",
              "      <td>gmail.com</td>\n",
              "      <td>gmail.com</td>\n",
              "    </tr>\n",
              "    <tr>\n",
              "      <th>3</th>\n",
              "      <td>NotFound</td>\n",
              "      <td>New</td>\n",
              "      <td>New</td>\n",
              "      <td>NotFound</td>\n",
              "      <td>chrome 62.0</td>\n",
              "      <td>F</td>\n",
              "      <td>F</td>\n",
              "      <td>T</td>\n",
              "      <td>T</td>\n",
              "      <td>desktop</td>\n",
              "      <td>C</td>\n",
              "      <td>visa</td>\n",
              "      <td>debit</td>\n",
              "      <td>outlook.com</td>\n",
              "      <td>outlook.com</td>\n",
              "    </tr>\n",
              "    <tr>\n",
              "      <th>4</th>\n",
              "      <td>NotFound</td>\n",
              "      <td>New</td>\n",
              "      <td>New</td>\n",
              "      <td>NotFound</td>\n",
              "      <td>chrome 62.0</td>\n",
              "      <td>F</td>\n",
              "      <td>F</td>\n",
              "      <td>T</td>\n",
              "      <td>T</td>\n",
              "      <td>desktop</td>\n",
              "      <td>C</td>\n",
              "      <td>mastercard</td>\n",
              "      <td>credit</td>\n",
              "      <td>anonymous.com</td>\n",
              "      <td>anonymous.com</td>\n",
              "    </tr>\n",
              "  </tbody>\n",
              "</table>\n",
              "</div>"
            ],
            "text/plain": [
              "      id_12  id_15  id_28     id_29        id_31 id_35 id_36 id_37 id_38  \\\n",
              "0  NotFound  Found  Found     Found  chrome 62.0     F     F     T     T   \n",
              "1  NotFound    New    New  NotFound  chrome 62.0     F     F     T     T   \n",
              "2  NotFound  Found  Found     Found  chrome 62.0     F     F     T     T   \n",
              "3  NotFound    New    New  NotFound  chrome 62.0     F     F     T     T   \n",
              "4  NotFound    New    New  NotFound  chrome 62.0     F     F     T     T   \n",
              "\n",
              "  DeviceType ProductCD       card4   card6  P_emaildomain  R_emaildomain  \n",
              "0    desktop         C  mastercard  credit      gmail.com      gmail.com  \n",
              "1    desktop         C  mastercard   debit    hotmail.com    hotmail.com  \n",
              "2    desktop         C        visa  credit      gmail.com      gmail.com  \n",
              "3    desktop         C        visa   debit    outlook.com    outlook.com  \n",
              "4    desktop         C  mastercard  credit  anonymous.com  anonymous.com  "
            ]
          },
          "execution_count": 17,
          "metadata": {},
          "output_type": "execute_result"
        }
      ],
      "source": [
        "cat_df = df.select_dtypes(exclude='number')\n",
        "cat_df.head()"
      ]
    },
    {
      "cell_type": "code",
      "execution_count": 18,
      "metadata": {
        "colab": {
          "base_uri": "https://localhost:8080/",
          "height": 1000
        },
        "id": "lDSLiGF5FdHW",
        "outputId": "a8fa9cf7-0b67-415f-8baa-e659910c45d2"
      },
      "outputs": [
        {
          "name": "stderr",
          "output_type": "stream",
          "text": [
            "<ipython-input-18-be8886e4b324>:2: SettingWithCopyWarning: \n",
            "A value is trying to be set on a copy of a slice from a DataFrame.\n",
            "Try using .loc[row_indexer,col_indexer] = value instead\n",
            "\n",
            "See the caveats in the documentation: https://pandas.pydata.org/pandas-docs/stable/user_guide/indexing.html#returning-a-view-versus-a-copy\n",
            "  cat_df['isFraud'] = df.isFraud\n"
          ]
        },
        {
          "data": {
            "text/html": [
              "<div>\n",
              "<style scoped>\n",
              "    .dataframe tbody tr th:only-of-type {\n",
              "        vertical-align: middle;\n",
              "    }\n",
              "\n",
              "    .dataframe tbody tr th {\n",
              "        vertical-align: top;\n",
              "    }\n",
              "\n",
              "    .dataframe thead th {\n",
              "        text-align: right;\n",
              "    }\n",
              "</style>\n",
              "<table border=\"1\" class=\"dataframe\">\n",
              "  <thead>\n",
              "    <tr style=\"text-align: right;\">\n",
              "      <th></th>\n",
              "      <th>0</th>\n",
              "      <th>1</th>\n",
              "      <th>Conteo</th>\n",
              "    </tr>\n",
              "    <tr>\n",
              "      <th>id_31</th>\n",
              "      <th></th>\n",
              "      <th></th>\n",
              "      <th></th>\n",
              "    </tr>\n",
              "  </thead>\n",
              "  <tbody>\n",
              "    <tr>\n",
              "      <th>Conteo</th>\n",
              "      <td>94055</td>\n",
              "      <td>8745</td>\n",
              "      <td>102800</td>\n",
              "    </tr>\n",
              "    <tr>\n",
              "      <th>chrome 63.0</th>\n",
              "      <td>16688</td>\n",
              "      <td>1250</td>\n",
              "      <td>17938</td>\n",
              "    </tr>\n",
              "    <tr>\n",
              "      <th>mobile safari 11.0</th>\n",
              "      <td>9636</td>\n",
              "      <td>712</td>\n",
              "      <td>10348</td>\n",
              "    </tr>\n",
              "    <tr>\n",
              "      <th>mobile safari generic</th>\n",
              "      <td>7825</td>\n",
              "      <td>972</td>\n",
              "      <td>8797</td>\n",
              "    </tr>\n",
              "    <tr>\n",
              "      <th>safari generic</th>\n",
              "      <td>6198</td>\n",
              "      <td>145</td>\n",
              "      <td>6343</td>\n",
              "    </tr>\n",
              "    <tr>\n",
              "      <th>ie 11.0 for desktop</th>\n",
              "      <td>5383</td>\n",
              "      <td>67</td>\n",
              "      <td>5450</td>\n",
              "    </tr>\n",
              "    <tr>\n",
              "      <th>chrome 65.0</th>\n",
              "      <td>4691</td>\n",
              "      <td>578</td>\n",
              "      <td>5269</td>\n",
              "    </tr>\n",
              "    <tr>\n",
              "      <th>chrome 64.0</th>\n",
              "      <td>4461</td>\n",
              "      <td>455</td>\n",
              "      <td>4916</td>\n",
              "    </tr>\n",
              "    <tr>\n",
              "      <th>chrome 63.0 for android</th>\n",
              "      <td>3898</td>\n",
              "      <td>509</td>\n",
              "      <td>4407</td>\n",
              "    </tr>\n",
              "    <tr>\n",
              "      <th>chrome 62.0</th>\n",
              "      <td>4082</td>\n",
              "      <td>210</td>\n",
              "      <td>4292</td>\n",
              "    </tr>\n",
              "    <tr>\n",
              "      <th>chrome generic</th>\n",
              "      <td>2880</td>\n",
              "      <td>655</td>\n",
              "      <td>3535</td>\n",
              "    </tr>\n",
              "    <tr>\n",
              "      <th>chrome 66.0</th>\n",
              "      <td>3053</td>\n",
              "      <td>351</td>\n",
              "      <td>3404</td>\n",
              "    </tr>\n",
              "    <tr>\n",
              "      <th>chrome 64.0 for android</th>\n",
              "      <td>2118</td>\n",
              "      <td>350</td>\n",
              "      <td>2468</td>\n",
              "    </tr>\n",
              "    <tr>\n",
              "      <th>firefox 57.0</th>\n",
              "      <td>2288</td>\n",
              "      <td>168</td>\n",
              "      <td>2456</td>\n",
              "    </tr>\n",
              "    <tr>\n",
              "      <th>chrome 65.0 for android</th>\n",
              "      <td>1985</td>\n",
              "      <td>355</td>\n",
              "      <td>2340</td>\n",
              "    </tr>\n",
              "    <tr>\n",
              "      <th>edge 16.0</th>\n",
              "      <td>2121</td>\n",
              "      <td>92</td>\n",
              "      <td>2213</td>\n",
              "    </tr>\n",
              "    <tr>\n",
              "      <th>mobile safari 10.0</th>\n",
              "      <td>1910</td>\n",
              "      <td>115</td>\n",
              "      <td>2025</td>\n",
              "    </tr>\n",
              "    <tr>\n",
              "      <th>chrome 66.0 for android</th>\n",
              "      <td>1551</td>\n",
              "      <td>271</td>\n",
              "      <td>1822</td>\n",
              "    </tr>\n",
              "    <tr>\n",
              "      <th>chrome 62.0 for android</th>\n",
              "      <td>1164</td>\n",
              "      <td>107</td>\n",
              "      <td>1271</td>\n",
              "    </tr>\n",
              "    <tr>\n",
              "      <th>edge 15.0</th>\n",
              "      <td>1003</td>\n",
              "      <td>13</td>\n",
              "      <td>1016</td>\n",
              "    </tr>\n",
              "    <tr>\n",
              "      <th>chrome generic for android</th>\n",
              "      <td>792</td>\n",
              "      <td>99</td>\n",
              "      <td>891</td>\n",
              "    </tr>\n",
              "    <tr>\n",
              "      <th>firefox 59.0</th>\n",
              "      <td>805</td>\n",
              "      <td>67</td>\n",
              "      <td>872</td>\n",
              "    </tr>\n",
              "    <tr>\n",
              "      <th>samsung browser 6.2</th>\n",
              "      <td>699</td>\n",
              "      <td>65</td>\n",
              "      <td>764</td>\n",
              "    </tr>\n",
              "    <tr>\n",
              "      <th>firefox 58.0</th>\n",
              "      <td>577</td>\n",
              "      <td>47</td>\n",
              "      <td>624</td>\n",
              "    </tr>\n",
              "    <tr>\n",
              "      <th>chrome 49.0</th>\n",
              "      <td>526</td>\n",
              "      <td>16</td>\n",
              "      <td>542</td>\n",
              "    </tr>\n",
              "    <tr>\n",
              "      <th>firefox</th>\n",
              "      <td>363</td>\n",
              "      <td>127</td>\n",
              "      <td>490</td>\n",
              "    </tr>\n",
              "    <tr>\n",
              "      <th>ie 11.0 for tablet</th>\n",
              "      <td>471</td>\n",
              "      <td>1</td>\n",
              "      <td>472</td>\n",
              "    </tr>\n",
              "    <tr>\n",
              "      <th>safari 11.0</th>\n",
              "      <td>429</td>\n",
              "      <td>14</td>\n",
              "      <td>443</td>\n",
              "    </tr>\n",
              "    <tr>\n",
              "      <th>chrome 61.0</th>\n",
              "      <td>380</td>\n",
              "      <td>29</td>\n",
              "      <td>409</td>\n",
              "    </tr>\n",
              "    <tr>\n",
              "      <th>mobile safari 9.0</th>\n",
              "      <td>367</td>\n",
              "      <td>13</td>\n",
              "      <td>380</td>\n",
              "    </tr>\n",
              "    <tr>\n",
              "      <th>samsung browser 6.4</th>\n",
              "      <td>316</td>\n",
              "      <td>28</td>\n",
              "      <td>344</td>\n",
              "    </tr>\n",
              "    <tr>\n",
              "      <th>chrome 61.0 for android</th>\n",
              "      <td>285</td>\n",
              "      <td>57</td>\n",
              "      <td>342</td>\n",
              "    </tr>\n",
              "    <tr>\n",
              "      <th>chrome</th>\n",
              "      <td>289</td>\n",
              "      <td>24</td>\n",
              "      <td>313</td>\n",
              "    </tr>\n",
              "    <tr>\n",
              "      <th>edge 14.0</th>\n",
              "      <td>254</td>\n",
              "      <td>25</td>\n",
              "      <td>279</td>\n",
              "    </tr>\n",
              "    <tr>\n",
              "      <th>chrome 60.0</th>\n",
              "      <td>226</td>\n",
              "      <td>28</td>\n",
              "      <td>254</td>\n",
              "    </tr>\n",
              "    <tr>\n",
              "      <th>firefox 52.0</th>\n",
              "      <td>236</td>\n",
              "      <td>11</td>\n",
              "      <td>247</td>\n",
              "    </tr>\n",
              "    <tr>\n",
              "      <th>chrome 55.0 for android</th>\n",
              "      <td>201</td>\n",
              "      <td>15</td>\n",
              "      <td>216</td>\n",
              "    </tr>\n",
              "    <tr>\n",
              "      <th>chrome 60.0 for android</th>\n",
              "      <td>190</td>\n",
              "      <td>17</td>\n",
              "      <td>207</td>\n",
              "    </tr>\n",
              "    <tr>\n",
              "      <th>android webview 4.0</th>\n",
              "      <td>137</td>\n",
              "      <td>50</td>\n",
              "      <td>187</td>\n",
              "    </tr>\n",
              "    <tr>\n",
              "      <th>other</th>\n",
              "      <td>164</td>\n",
              "      <td>20</td>\n",
              "      <td>184</td>\n",
              "    </tr>\n",
              "    <tr>\n",
              "      <th>chrome 63.0 for ios</th>\n",
              "      <td>155</td>\n",
              "      <td>24</td>\n",
              "      <td>179</td>\n",
              "    </tr>\n",
              "    <tr>\n",
              "      <th>firefox 60.0</th>\n",
              "      <td>149</td>\n",
              "      <td>10</td>\n",
              "      <td>159</td>\n",
              "    </tr>\n",
              "    <tr>\n",
              "      <th>chrome 58.0 for android</th>\n",
              "      <td>130</td>\n",
              "      <td>22</td>\n",
              "      <td>152</td>\n",
              "    </tr>\n",
              "    <tr>\n",
              "      <th>chrome 59.0 for android</th>\n",
              "      <td>144</td>\n",
              "      <td>8</td>\n",
              "      <td>152</td>\n",
              "    </tr>\n",
              "    <tr>\n",
              "      <th>samsung browser generic</th>\n",
              "      <td>125</td>\n",
              "      <td>24</td>\n",
              "      <td>149</td>\n",
              "    </tr>\n",
              "    <tr>\n",
              "      <th>chrome 56.0 for android</th>\n",
              "      <td>116</td>\n",
              "      <td>26</td>\n",
              "      <td>142</td>\n",
              "    </tr>\n",
              "    <tr>\n",
              "      <th>firefox 48.0</th>\n",
              "      <td>140</td>\n",
              "      <td>2</td>\n",
              "      <td>142</td>\n",
              "    </tr>\n",
              "    <tr>\n",
              "      <th>chrome 58.0</th>\n",
              "      <td>99</td>\n",
              "      <td>39</td>\n",
              "      <td>138</td>\n",
              "    </tr>\n",
              "    <tr>\n",
              "      <th>opera 49.0</th>\n",
              "      <td>79</td>\n",
              "      <td>43</td>\n",
              "      <td>122</td>\n",
              "    </tr>\n",
              "    <tr>\n",
              "      <th>chrome 66.0 for ios</th>\n",
              "      <td>111</td>\n",
              "      <td>3</td>\n",
              "      <td>114</td>\n",
              "    </tr>\n",
              "    <tr>\n",
              "      <th>chrome 50.0 for android</th>\n",
              "      <td>78</td>\n",
              "      <td>28</td>\n",
              "      <td>106</td>\n",
              "    </tr>\n",
              "    <tr>\n",
              "      <th>chrome 52.0 for android</th>\n",
              "      <td>46</td>\n",
              "      <td>57</td>\n",
              "      <td>103</td>\n",
              "    </tr>\n",
              "    <tr>\n",
              "      <th>Samsung/SM-G532M</th>\n",
              "      <td>82</td>\n",
              "      <td>9</td>\n",
              "      <td>91</td>\n",
              "    </tr>\n",
              "    <tr>\n",
              "      <th>chrome 59.0</th>\n",
              "      <td>83</td>\n",
              "      <td>4</td>\n",
              "      <td>87</td>\n",
              "    </tr>\n",
              "    <tr>\n",
              "      <th>firefox generic</th>\n",
              "      <td>72</td>\n",
              "      <td>14</td>\n",
              "      <td>86</td>\n",
              "    </tr>\n",
              "    <tr>\n",
              "      <th>firefox 56.0</th>\n",
              "      <td>81</td>\n",
              "      <td>2</td>\n",
              "      <td>83</td>\n",
              "    </tr>\n",
              "    <tr>\n",
              "      <th>safari 10.0</th>\n",
              "      <td>67</td>\n",
              "      <td>15</td>\n",
              "      <td>82</td>\n",
              "    </tr>\n",
              "    <tr>\n",
              "      <th>samsung browser 7.0</th>\n",
              "      <td>72</td>\n",
              "      <td>7</td>\n",
              "      <td>79</td>\n",
              "    </tr>\n",
              "    <tr>\n",
              "      <th>chrome 57.0</th>\n",
              "      <td>79</td>\n",
              "      <td>0</td>\n",
              "      <td>79</td>\n",
              "    </tr>\n",
              "    <tr>\n",
              "      <th>android browser 4.0</th>\n",
              "      <td>69</td>\n",
              "      <td>7</td>\n",
              "      <td>76</td>\n",
              "    </tr>\n",
              "    <tr>\n",
              "      <th>opera generic</th>\n",
              "      <td>41</td>\n",
              "      <td>35</td>\n",
              "      <td>76</td>\n",
              "    </tr>\n",
              "    <tr>\n",
              "      <th>opera</th>\n",
              "      <td>36</td>\n",
              "      <td>40</td>\n",
              "      <td>76</td>\n",
              "    </tr>\n",
              "    <tr>\n",
              "      <th>mobile safari uiwebview</th>\n",
              "      <td>67</td>\n",
              "      <td>6</td>\n",
              "      <td>73</td>\n",
              "    </tr>\n",
              "    <tr>\n",
              "      <th>chrome 57.0 for android</th>\n",
              "      <td>64</td>\n",
              "      <td>3</td>\n",
              "      <td>67</td>\n",
              "    </tr>\n",
              "    <tr>\n",
              "      <th>Generic/Android 7.0</th>\n",
              "      <td>51</td>\n",
              "      <td>15</td>\n",
              "      <td>66</td>\n",
              "    </tr>\n",
              "    <tr>\n",
              "      <th>chrome 54.0 for android</th>\n",
              "      <td>54</td>\n",
              "      <td>12</td>\n",
              "      <td>66</td>\n",
              "    </tr>\n",
              "    <tr>\n",
              "      <th>chrome 65.0 for ios</th>\n",
              "      <td>48</td>\n",
              "      <td>7</td>\n",
              "      <td>55</td>\n",
              "    </tr>\n",
              "    <tr>\n",
              "      <th>opera 52.0</th>\n",
              "      <td>45</td>\n",
              "      <td>9</td>\n",
              "      <td>54</td>\n",
              "    </tr>\n",
              "    <tr>\n",
              "      <th>chrome 56.0</th>\n",
              "      <td>43</td>\n",
              "      <td>9</td>\n",
              "      <td>52</td>\n",
              "    </tr>\n",
              "    <tr>\n",
              "      <th>google search application 49.0</th>\n",
              "      <td>50</td>\n",
              "      <td>0</td>\n",
              "      <td>50</td>\n",
              "    </tr>\n",
              "    <tr>\n",
              "      <th>chrome 46.0 for android</th>\n",
              "      <td>39</td>\n",
              "      <td>10</td>\n",
              "      <td>49</td>\n",
              "    </tr>\n",
              "    <tr>\n",
              "      <th>chrome 43.0 for android</th>\n",
              "      <td>39</td>\n",
              "      <td>8</td>\n",
              "      <td>47</td>\n",
              "    </tr>\n",
              "    <tr>\n",
              "      <th>edge 13.0</th>\n",
              "      <td>45</td>\n",
              "      <td>2</td>\n",
              "      <td>47</td>\n",
              "    </tr>\n",
              "    <tr>\n",
              "      <th>google search application 48.0</th>\n",
              "      <td>46</td>\n",
              "      <td>0</td>\n",
              "      <td>46</td>\n",
              "    </tr>\n",
              "    <tr>\n",
              "      <th>opera 53.0</th>\n",
              "      <td>43</td>\n",
              "      <td>2</td>\n",
              "      <td>45</td>\n",
              "    </tr>\n",
              "    <tr>\n",
              "      <th>chrome 51.0</th>\n",
              "      <td>42</td>\n",
              "      <td>2</td>\n",
              "      <td>44</td>\n",
              "    </tr>\n",
              "    <tr>\n",
              "      <th>edge 17.0</th>\n",
              "      <td>38</td>\n",
              "      <td>4</td>\n",
              "      <td>42</td>\n",
              "    </tr>\n",
              "    <tr>\n",
              "      <th>opera 51.0</th>\n",
              "      <td>32</td>\n",
              "      <td>8</td>\n",
              "      <td>40</td>\n",
              "    </tr>\n",
              "    <tr>\n",
              "      <th>Samsung/SM-G531H</th>\n",
              "      <td>39</td>\n",
              "      <td>0</td>\n",
              "      <td>39</td>\n",
              "    </tr>\n",
              "    <tr>\n",
              "      <th>mobile safari 8.0</th>\n",
              "      <td>37</td>\n",
              "      <td>1</td>\n",
              "      <td>38</td>\n",
              "    </tr>\n",
              "    <tr>\n",
              "      <th>edge</th>\n",
              "      <td>35</td>\n",
              "      <td>3</td>\n",
              "      <td>38</td>\n",
              "    </tr>\n",
              "    <tr>\n",
              "      <th>chrome 51.0 for android</th>\n",
              "      <td>34</td>\n",
              "      <td>3</td>\n",
              "      <td>37</td>\n",
              "    </tr>\n",
              "    <tr>\n",
              "      <th>ie</th>\n",
              "      <td>27</td>\n",
              "      <td>10</td>\n",
              "      <td>37</td>\n",
              "    </tr>\n",
              "    <tr>\n",
              "      <th>Generic/Android</th>\n",
              "      <td>33</td>\n",
              "      <td>3</td>\n",
              "      <td>36</td>\n",
              "    </tr>\n",
              "    <tr>\n",
              "      <th>chrome 55.0</th>\n",
              "      <td>32</td>\n",
              "      <td>4</td>\n",
              "      <td>36</td>\n",
              "    </tr>\n",
              "    <tr>\n",
              "      <th>chrome 64.0 for ios</th>\n",
              "      <td>34</td>\n",
              "      <td>0</td>\n",
              "      <td>34</td>\n",
              "    </tr>\n",
              "    <tr>\n",
              "      <th>chrome 62.0 for ios</th>\n",
              "      <td>33</td>\n",
              "      <td>1</td>\n",
              "      <td>34</td>\n",
              "    </tr>\n",
              "    <tr>\n",
              "      <th>chrome 49.0 for android</th>\n",
              "      <td>15</td>\n",
              "      <td>18</td>\n",
              "      <td>33</td>\n",
              "    </tr>\n",
              "    <tr>\n",
              "      <th>google</th>\n",
              "      <td>29</td>\n",
              "      <td>3</td>\n",
              "      <td>32</td>\n",
              "    </tr>\n",
              "    <tr>\n",
              "      <th>safari 9.0</th>\n",
              "      <td>30</td>\n",
              "      <td>2</td>\n",
              "      <td>32</td>\n",
              "    </tr>\n",
              "    <tr>\n",
              "      <th>samsung browser 5.2</th>\n",
              "      <td>20</td>\n",
              "      <td>8</td>\n",
              "      <td>28</td>\n",
              "    </tr>\n",
              "    <tr>\n",
              "      <th>chrome 67.0</th>\n",
              "      <td>19</td>\n",
              "      <td>9</td>\n",
              "      <td>28</td>\n",
              "    </tr>\n",
              "    <tr>\n",
              "      <th>samsung browser 5.4</th>\n",
              "      <td>16</td>\n",
              "      <td>11</td>\n",
              "      <td>27</td>\n",
              "    </tr>\n",
              "    <tr>\n",
              "      <th>firefox 47.0</th>\n",
              "      <td>23</td>\n",
              "      <td>3</td>\n",
              "      <td>26</td>\n",
              "    </tr>\n",
              "    <tr>\n",
              "      <th>chrome 53.0 for android</th>\n",
              "      <td>26</td>\n",
              "      <td>0</td>\n",
              "      <td>26</td>\n",
              "    </tr>\n",
              "    <tr>\n",
              "      <th>Microsoft/Windows</th>\n",
              "      <td>20</td>\n",
              "      <td>0</td>\n",
              "      <td>20</td>\n",
              "    </tr>\n",
              "    <tr>\n",
              "      <th>samsung browser 4.0</th>\n",
              "      <td>15</td>\n",
              "      <td>1</td>\n",
              "      <td>16</td>\n",
              "    </tr>\n",
              "    <tr>\n",
              "      <th>firefox 55.0</th>\n",
              "      <td>13</td>\n",
              "      <td>1</td>\n",
              "      <td>14</td>\n",
              "    </tr>\n",
              "    <tr>\n",
              "      <th>safari</th>\n",
              "      <td>14</td>\n",
              "      <td>0</td>\n",
              "      <td>14</td>\n",
              "    </tr>\n",
              "    <tr>\n",
              "      <th>samsung browser 4.2</th>\n",
              "      <td>11</td>\n",
              "      <td>2</td>\n",
              "      <td>13</td>\n",
              "    </tr>\n",
              "    <tr>\n",
              "      <th>samsung</th>\n",
              "      <td>10</td>\n",
              "      <td>0</td>\n",
              "      <td>10</td>\n",
              "    </tr>\n",
              "    <tr>\n",
              "      <th>silk</th>\n",
              "      <td>9</td>\n",
              "      <td>0</td>\n",
              "      <td>9</td>\n",
              "    </tr>\n",
              "    <tr>\n",
              "      <th>ZTE/Blade</th>\n",
              "      <td>5</td>\n",
              "      <td>2</td>\n",
              "      <td>7</td>\n",
              "    </tr>\n",
              "    <tr>\n",
              "      <th>comodo</th>\n",
              "      <td>2</td>\n",
              "      <td>4</td>\n",
              "      <td>6</td>\n",
              "    </tr>\n",
              "    <tr>\n",
              "      <th>line</th>\n",
              "      <td>5</td>\n",
              "      <td>0</td>\n",
              "      <td>5</td>\n",
              "    </tr>\n",
              "    <tr>\n",
              "      <th>icedragon</th>\n",
              "      <td>0</td>\n",
              "      <td>5</td>\n",
              "      <td>5</td>\n",
              "    </tr>\n",
              "    <tr>\n",
              "      <th>mobile</th>\n",
              "      <td>5</td>\n",
              "      <td>0</td>\n",
              "      <td>5</td>\n",
              "    </tr>\n",
              "    <tr>\n",
              "      <th>Mozilla/Firefox</th>\n",
              "      <td>0</td>\n",
              "      <td>5</td>\n",
              "      <td>5</td>\n",
              "    </tr>\n",
              "    <tr>\n",
              "      <th>samsung browser 3.3</th>\n",
              "      <td>4</td>\n",
              "      <td>0</td>\n",
              "      <td>4</td>\n",
              "    </tr>\n",
              "    <tr>\n",
              "      <th>maxthon</th>\n",
              "      <td>3</td>\n",
              "      <td>0</td>\n",
              "      <td>3</td>\n",
              "    </tr>\n",
              "    <tr>\n",
              "      <th>aol</th>\n",
              "      <td>3</td>\n",
              "      <td>0</td>\n",
              "      <td>3</td>\n",
              "    </tr>\n",
              "    <tr>\n",
              "      <th>facebook</th>\n",
              "      <td>2</td>\n",
              "      <td>0</td>\n",
              "      <td>2</td>\n",
              "    </tr>\n",
              "    <tr>\n",
              "      <th>Lanix/Ilium</th>\n",
              "      <td>0</td>\n",
              "      <td>2</td>\n",
              "      <td>2</td>\n",
              "    </tr>\n",
              "    <tr>\n",
              "      <th>Samsung/SCH</th>\n",
              "      <td>1</td>\n",
              "      <td>0</td>\n",
              "      <td>1</td>\n",
              "    </tr>\n",
              "    <tr>\n",
              "      <th>chromium</th>\n",
              "      <td>1</td>\n",
              "      <td>0</td>\n",
              "      <td>1</td>\n",
              "    </tr>\n",
              "    <tr>\n",
              "      <th>chrome 67.0 for android</th>\n",
              "      <td>1</td>\n",
              "      <td>0</td>\n",
              "      <td>1</td>\n",
              "    </tr>\n",
              "    <tr>\n",
              "      <th>android</th>\n",
              "      <td>1</td>\n",
              "      <td>0</td>\n",
              "      <td>1</td>\n",
              "    </tr>\n",
              "    <tr>\n",
              "      <th>cyberfox</th>\n",
              "      <td>1</td>\n",
              "      <td>0</td>\n",
              "      <td>1</td>\n",
              "    </tr>\n",
              "    <tr>\n",
              "      <th>palemoon</th>\n",
              "      <td>1</td>\n",
              "      <td>0</td>\n",
              "      <td>1</td>\n",
              "    </tr>\n",
              "    <tr>\n",
              "      <th>Inco/Minion</th>\n",
              "      <td>1</td>\n",
              "      <td>0</td>\n",
              "      <td>1</td>\n",
              "    </tr>\n",
              "    <tr>\n",
              "      <th>firefox mobile 61.0</th>\n",
              "      <td>1</td>\n",
              "      <td>0</td>\n",
              "      <td>1</td>\n",
              "    </tr>\n",
              "    <tr>\n",
              "      <th>waterfox</th>\n",
              "      <td>1</td>\n",
              "      <td>0</td>\n",
              "      <td>1</td>\n",
              "    </tr>\n",
              "    <tr>\n",
              "      <th>iron</th>\n",
              "      <td>1</td>\n",
              "      <td>0</td>\n",
              "      <td>1</td>\n",
              "    </tr>\n",
              "  </tbody>\n",
              "</table>\n",
              "</div>"
            ],
            "text/plain": [
              "                                    0     1  Conteo\n",
              "id_31                                              \n",
              "Conteo                          94055  8745  102800\n",
              "chrome 63.0                     16688  1250   17938\n",
              "mobile safari 11.0               9636   712   10348\n",
              "mobile safari generic            7825   972    8797\n",
              "safari generic                   6198   145    6343\n",
              "ie 11.0 for desktop              5383    67    5450\n",
              "chrome 65.0                      4691   578    5269\n",
              "chrome 64.0                      4461   455    4916\n",
              "chrome 63.0 for android          3898   509    4407\n",
              "chrome 62.0                      4082   210    4292\n",
              "chrome generic                   2880   655    3535\n",
              "chrome 66.0                      3053   351    3404\n",
              "chrome 64.0 for android          2118   350    2468\n",
              "firefox 57.0                     2288   168    2456\n",
              "chrome 65.0 for android          1985   355    2340\n",
              "edge 16.0                        2121    92    2213\n",
              "mobile safari 10.0               1910   115    2025\n",
              "chrome 66.0 for android          1551   271    1822\n",
              "chrome 62.0 for android          1164   107    1271\n",
              "edge 15.0                        1003    13    1016\n",
              "chrome generic for android        792    99     891\n",
              "firefox 59.0                      805    67     872\n",
              "samsung browser 6.2               699    65     764\n",
              "firefox 58.0                      577    47     624\n",
              "chrome 49.0                       526    16     542\n",
              "firefox                           363   127     490\n",
              "ie 11.0 for tablet                471     1     472\n",
              "safari 11.0                       429    14     443\n",
              "chrome 61.0                       380    29     409\n",
              "mobile safari 9.0                 367    13     380\n",
              "samsung browser 6.4               316    28     344\n",
              "chrome 61.0 for android           285    57     342\n",
              "chrome                            289    24     313\n",
              "edge 14.0                         254    25     279\n",
              "chrome 60.0                       226    28     254\n",
              "firefox 52.0                      236    11     247\n",
              "chrome 55.0 for android           201    15     216\n",
              "chrome 60.0 for android           190    17     207\n",
              "android webview 4.0               137    50     187\n",
              "other                             164    20     184\n",
              "chrome 63.0 for ios               155    24     179\n",
              "firefox 60.0                      149    10     159\n",
              "chrome 58.0 for android           130    22     152\n",
              "chrome 59.0 for android           144     8     152\n",
              "samsung browser generic           125    24     149\n",
              "chrome 56.0 for android           116    26     142\n",
              "firefox 48.0                      140     2     142\n",
              "chrome 58.0                        99    39     138\n",
              "opera 49.0                         79    43     122\n",
              "chrome 66.0 for ios               111     3     114\n",
              "chrome 50.0 for android            78    28     106\n",
              "chrome 52.0 for android            46    57     103\n",
              "Samsung/SM-G532M                   82     9      91\n",
              "chrome 59.0                        83     4      87\n",
              "firefox generic                    72    14      86\n",
              "firefox 56.0                       81     2      83\n",
              "safari 10.0                        67    15      82\n",
              "samsung browser 7.0                72     7      79\n",
              "chrome 57.0                        79     0      79\n",
              "android browser 4.0                69     7      76\n",
              "opera generic                      41    35      76\n",
              "opera                              36    40      76\n",
              "mobile safari uiwebview            67     6      73\n",
              "chrome 57.0 for android            64     3      67\n",
              "Generic/Android 7.0                51    15      66\n",
              "chrome 54.0 for android            54    12      66\n",
              "chrome 65.0 for ios                48     7      55\n",
              "opera 52.0                         45     9      54\n",
              "chrome 56.0                        43     9      52\n",
              "google search application 49.0     50     0      50\n",
              "chrome 46.0 for android            39    10      49\n",
              "chrome 43.0 for android            39     8      47\n",
              "edge 13.0                          45     2      47\n",
              "google search application 48.0     46     0      46\n",
              "opera 53.0                         43     2      45\n",
              "chrome 51.0                        42     2      44\n",
              "edge 17.0                          38     4      42\n",
              "opera 51.0                         32     8      40\n",
              "Samsung/SM-G531H                   39     0      39\n",
              "mobile safari 8.0                  37     1      38\n",
              "edge                               35     3      38\n",
              "chrome 51.0 for android            34     3      37\n",
              "ie                                 27    10      37\n",
              "Generic/Android                    33     3      36\n",
              "chrome 55.0                        32     4      36\n",
              "chrome 64.0 for ios                34     0      34\n",
              "chrome 62.0 for ios                33     1      34\n",
              "chrome 49.0 for android            15    18      33\n",
              "google                             29     3      32\n",
              "safari 9.0                         30     2      32\n",
              "samsung browser 5.2                20     8      28\n",
              "chrome 67.0                        19     9      28\n",
              "samsung browser 5.4                16    11      27\n",
              "firefox 47.0                       23     3      26\n",
              "chrome 53.0 for android            26     0      26\n",
              "Microsoft/Windows                  20     0      20\n",
              "samsung browser 4.0                15     1      16\n",
              "firefox 55.0                       13     1      14\n",
              "safari                             14     0      14\n",
              "samsung browser 4.2                11     2      13\n",
              "samsung                            10     0      10\n",
              "silk                                9     0       9\n",
              "ZTE/Blade                           5     2       7\n",
              "comodo                              2     4       6\n",
              "line                                5     0       5\n",
              "icedragon                           0     5       5\n",
              "mobile                              5     0       5\n",
              "Mozilla/Firefox                     0     5       5\n",
              "samsung browser 3.3                 4     0       4\n",
              "maxthon                             3     0       3\n",
              "aol                                 3     0       3\n",
              "facebook                            2     0       2\n",
              "Lanix/Ilium                         0     2       2\n",
              "Samsung/SCH                         1     0       1\n",
              "chromium                            1     0       1\n",
              "chrome 67.0 for android             1     0       1\n",
              "android                             1     0       1\n",
              "cyberfox                            1     0       1\n",
              "palemoon                            1     0       1\n",
              "Inco/Minion                         1     0       1\n",
              "firefox mobile 61.0                 1     0       1\n",
              "waterfox                            1     0       1\n",
              "iron                                1     0       1"
            ]
          },
          "execution_count": 18,
          "metadata": {},
          "output_type": "execute_result"
        }
      ],
      "source": [
        "pd.options.display.max_rows = 123\n",
        "cat_df['isFraud'] = df.isFraud\n",
        "temp = pd.crosstab(cat_df.id_31, cat_df.isFraud, margins=True, margins_name=\"Conteo\", normalize=False)\n",
        "temp.columns = '0 1 Conteo'.split()\n",
        "temp.sort_values('Conteo', ascending=False)"
      ]
    },
    {
      "cell_type": "code",
      "execution_count": 19,
      "metadata": {
        "colab": {
          "base_uri": "https://localhost:8080/",
          "height": 426
        },
        "id": "2ovQi7ilIHqO",
        "outputId": "d6446150-1208-4990-cfdc-7417bf2b56d9"
      },
      "outputs": [
        {
          "data": {
            "text/html": [
              "<div>\n",
              "<style scoped>\n",
              "    .dataframe tbody tr th:only-of-type {\n",
              "        vertical-align: middle;\n",
              "    }\n",
              "\n",
              "    .dataframe tbody tr th {\n",
              "        vertical-align: top;\n",
              "    }\n",
              "\n",
              "    .dataframe thead th {\n",
              "        text-align: right;\n",
              "    }\n",
              "</style>\n",
              "<table border=\"1\" class=\"dataframe\">\n",
              "  <thead>\n",
              "    <tr style=\"text-align: right;\">\n",
              "      <th></th>\n",
              "      <th>0</th>\n",
              "      <th>1</th>\n",
              "      <th>Conteo</th>\n",
              "    </tr>\n",
              "    <tr>\n",
              "      <th>id_31</th>\n",
              "      <th></th>\n",
              "      <th></th>\n",
              "      <th></th>\n",
              "    </tr>\n",
              "  </thead>\n",
              "  <tbody>\n",
              "    <tr>\n",
              "      <th>Conteo</th>\n",
              "      <td>94055</td>\n",
              "      <td>8745</td>\n",
              "      <td>102800</td>\n",
              "    </tr>\n",
              "    <tr>\n",
              "      <th>chrome</th>\n",
              "      <td>51024</td>\n",
              "      <td>5673</td>\n",
              "      <td>56697</td>\n",
              "    </tr>\n",
              "    <tr>\n",
              "      <th>safari</th>\n",
              "      <td>26580</td>\n",
              "      <td>1995</td>\n",
              "      <td>28575</td>\n",
              "    </tr>\n",
              "    <tr>\n",
              "      <th>ie</th>\n",
              "      <td>5881</td>\n",
              "      <td>78</td>\n",
              "      <td>5959</td>\n",
              "    </tr>\n",
              "    <tr>\n",
              "      <th>firefox</th>\n",
              "      <td>4748</td>\n",
              "      <td>457</td>\n",
              "      <td>5205</td>\n",
              "    </tr>\n",
              "    <tr>\n",
              "      <th>edge</th>\n",
              "      <td>3496</td>\n",
              "      <td>139</td>\n",
              "      <td>3635</td>\n",
              "    </tr>\n",
              "    <tr>\n",
              "      <th>samsung</th>\n",
              "      <td>1410</td>\n",
              "      <td>155</td>\n",
              "      <td>1565</td>\n",
              "    </tr>\n",
              "    <tr>\n",
              "      <th>opera</th>\n",
              "      <td>276</td>\n",
              "      <td>137</td>\n",
              "      <td>413</td>\n",
              "    </tr>\n",
              "    <tr>\n",
              "      <th>android</th>\n",
              "      <td>291</td>\n",
              "      <td>75</td>\n",
              "      <td>366</td>\n",
              "    </tr>\n",
              "    <tr>\n",
              "      <th>other</th>\n",
              "      <td>224</td>\n",
              "      <td>33</td>\n",
              "      <td>257</td>\n",
              "    </tr>\n",
              "    <tr>\n",
              "      <th>google</th>\n",
              "      <td>125</td>\n",
              "      <td>3</td>\n",
              "      <td>128</td>\n",
              "    </tr>\n",
              "  </tbody>\n",
              "</table>\n",
              "</div>"
            ],
            "text/plain": [
              "             0     1  Conteo\n",
              "id_31                       \n",
              "Conteo   94055  8745  102800\n",
              "chrome   51024  5673   56697\n",
              "safari   26580  1995   28575\n",
              "ie        5881    78    5959\n",
              "firefox   4748   457    5205\n",
              "edge      3496   139    3635\n",
              "samsung   1410   155    1565\n",
              "opera      276   137     413\n",
              "android    291    75     366\n",
              "other      224    33     257\n",
              "google     125     3     128"
            ]
          },
          "execution_count": 19,
          "metadata": {},
          "output_type": "execute_result"
        }
      ],
      "source": [
        "recat_df = cat_df.copy()\n",
        "recat_df.id_31 = recat_df.id_31.map(lambda x: x.lower())\n",
        "recat_df.id_31 = recat_df.id_31.map(lambda x: 'chrome' if 'chrome' in x else x)\n",
        "recat_df.id_31 = recat_df.id_31.map(lambda x: 'firefox' if 'firefox' in x else x)\n",
        "recat_df.id_31 = recat_df.id_31.map(lambda x: 'safari' if 'safari' in x else x)\n",
        "recat_df.id_31 = recat_df.id_31.map(lambda x: 'edge' if 'edge' in x else x)\n",
        "recat_df.id_31 = recat_df.id_31.map(lambda x: 'opera' if 'opera' in x else x)\n",
        "recat_df.id_31 = recat_df.id_31.map(lambda x: 'samsung' if 'samsung' in x else x)\n",
        "recat_df.id_31 = recat_df.id_31.map(lambda x: 'android' if 'android' in x else x)\n",
        "recat_df.id_31 = recat_df.id_31.map(lambda x: 'google' if 'google ' in x else x)\n",
        "recat_df.id_31 = recat_df.id_31.map(lambda x: 'ie' if 'ie ' in x else x)\n",
        "recat_df.id_31 = recat_df.id_31.map(lambda x: 'other' if x not in 'chrome firefox safari edge opera samsung android google ie'.split() else x)\n",
        "temp = pd.crosstab(recat_df.id_31, recat_df.isFraud, margins=True, margins_name=\"Conteo\", normalize=False)\n",
        "temp.columns = '0 1 Conteo'.split()\n",
        "temp.sort_values('Conteo', ascending=False)"
      ]
    },
    {
      "cell_type": "code",
      "execution_count": 20,
      "metadata": {
        "colab": {
          "base_uri": "https://localhost:8080/",
          "height": 520
        },
        "id": "iGhfvnrfPdn7",
        "outputId": "6fde73d4-70fe-4fe3-c84f-7e8b595108bc"
      },
      "outputs": [
        {
          "data": {
            "text/html": [
              "<div>\n",
              "<style scoped>\n",
              "    .dataframe tbody tr th:only-of-type {\n",
              "        vertical-align: middle;\n",
              "    }\n",
              "\n",
              "    .dataframe tbody tr th {\n",
              "        vertical-align: top;\n",
              "    }\n",
              "\n",
              "    .dataframe thead th {\n",
              "        text-align: right;\n",
              "    }\n",
              "</style>\n",
              "<table border=\"1\" class=\"dataframe\">\n",
              "  <thead>\n",
              "    <tr style=\"text-align: right;\">\n",
              "      <th></th>\n",
              "      <th>0</th>\n",
              "      <th>1</th>\n",
              "      <th>Conteo</th>\n",
              "    </tr>\n",
              "    <tr>\n",
              "      <th>P_emaildomain</th>\n",
              "      <th></th>\n",
              "      <th></th>\n",
              "      <th></th>\n",
              "    </tr>\n",
              "  </thead>\n",
              "  <tbody>\n",
              "    <tr>\n",
              "      <th>Conteo</th>\n",
              "      <td>94055</td>\n",
              "      <td>8745</td>\n",
              "      <td>102800</td>\n",
              "    </tr>\n",
              "    <tr>\n",
              "      <th>gmail</th>\n",
              "      <td>37688</td>\n",
              "      <td>5364</td>\n",
              "      <td>43052</td>\n",
              "    </tr>\n",
              "    <tr>\n",
              "      <th>hotmail</th>\n",
              "      <td>19121</td>\n",
              "      <td>1786</td>\n",
              "      <td>20907</td>\n",
              "    </tr>\n",
              "    <tr>\n",
              "      <th>anonymous</th>\n",
              "      <td>14010</td>\n",
              "      <td>358</td>\n",
              "      <td>14368</td>\n",
              "    </tr>\n",
              "    <tr>\n",
              "      <th>yahoo</th>\n",
              "      <td>9585</td>\n",
              "      <td>420</td>\n",
              "      <td>10005</td>\n",
              "    </tr>\n",
              "    <tr>\n",
              "      <th>other</th>\n",
              "      <td>3494</td>\n",
              "      <td>112</td>\n",
              "      <td>3606</td>\n",
              "    </tr>\n",
              "    <tr>\n",
              "      <th>aol</th>\n",
              "      <td>3152</td>\n",
              "      <td>72</td>\n",
              "      <td>3224</td>\n",
              "    </tr>\n",
              "    <tr>\n",
              "      <th>outlook</th>\n",
              "      <td>1806</td>\n",
              "      <td>424</td>\n",
              "      <td>2230</td>\n",
              "    </tr>\n",
              "    <tr>\n",
              "      <th>comcast</th>\n",
              "      <td>1577</td>\n",
              "      <td>34</td>\n",
              "      <td>1611</td>\n",
              "    </tr>\n",
              "    <tr>\n",
              "      <th>live</th>\n",
              "      <td>1072</td>\n",
              "      <td>53</td>\n",
              "      <td>1125</td>\n",
              "    </tr>\n",
              "    <tr>\n",
              "      <th>msn</th>\n",
              "      <td>791</td>\n",
              "      <td>19</td>\n",
              "      <td>810</td>\n",
              "    </tr>\n",
              "    <tr>\n",
              "      <th>icloud</th>\n",
              "      <td>688</td>\n",
              "      <td>92</td>\n",
              "      <td>780</td>\n",
              "    </tr>\n",
              "    <tr>\n",
              "      <th>verizon</th>\n",
              "      <td>558</td>\n",
              "      <td>9</td>\n",
              "      <td>567</td>\n",
              "    </tr>\n",
              "    <tr>\n",
              "      <th>sbcglobal</th>\n",
              "      <td>513</td>\n",
              "      <td>2</td>\n",
              "      <td>515</td>\n",
              "    </tr>\n",
              "  </tbody>\n",
              "</table>\n",
              "</div>"
            ],
            "text/plain": [
              "                   0     1  Conteo\n",
              "P_emaildomain                     \n",
              "Conteo         94055  8745  102800\n",
              "gmail          37688  5364   43052\n",
              "hotmail        19121  1786   20907\n",
              "anonymous      14010   358   14368\n",
              "yahoo           9585   420   10005\n",
              "other           3494   112    3606\n",
              "aol             3152    72    3224\n",
              "outlook         1806   424    2230\n",
              "comcast         1577    34    1611\n",
              "live            1072    53    1125\n",
              "msn              791    19     810\n",
              "icloud           688    92     780\n",
              "verizon          558     9     567\n",
              "sbcglobal        513     2     515"
            ]
          },
          "execution_count": 20,
          "metadata": {},
          "output_type": "execute_result"
        }
      ],
      "source": [
        "def transform(x):\n",
        "  try:\n",
        "    return x[0 : x.index('.')]\n",
        "  except:\n",
        "    return x\n",
        "recat_df.P_emaildomain = recat_df.P_emaildomain.map(transform)\n",
        "temp = pd.crosstab(recat_df.P_emaildomain, recat_df.isFraud, margins=True, margins_name=\"Conteo\", normalize=False)\n",
        "temp.columns = '0 1 Conteo'.split()\n",
        "choosen_cats = temp.sort_values('Conteo', ascending=False).index[1:13]\n",
        "recat_df.P_emaildomain = recat_df.P_emaildomain.map(lambda x: x if x in choosen_cats else 'other')\n",
        "temp = pd.crosstab(recat_df.P_emaildomain, recat_df.isFraud, margins=True, margins_name=\"Conteo\", normalize=False)\n",
        "temp.columns = '0 1 Conteo'.split()\n",
        "temp.sort_values('Conteo', ascending=False)"
      ]
    },
    {
      "cell_type": "code",
      "execution_count": 21,
      "metadata": {
        "colab": {
          "base_uri": "https://localhost:8080/",
          "height": 520
        },
        "id": "YjTmmzlQW2AF",
        "outputId": "a4198f95-b826-4c07-ec59-06db339ad3ae"
      },
      "outputs": [
        {
          "data": {
            "text/html": [
              "<div>\n",
              "<style scoped>\n",
              "    .dataframe tbody tr th:only-of-type {\n",
              "        vertical-align: middle;\n",
              "    }\n",
              "\n",
              "    .dataframe tbody tr th {\n",
              "        vertical-align: top;\n",
              "    }\n",
              "\n",
              "    .dataframe thead th {\n",
              "        text-align: right;\n",
              "    }\n",
              "</style>\n",
              "<table border=\"1\" class=\"dataframe\">\n",
              "  <thead>\n",
              "    <tr style=\"text-align: right;\">\n",
              "      <th></th>\n",
              "      <th>0</th>\n",
              "      <th>1</th>\n",
              "      <th>Conteo</th>\n",
              "    </tr>\n",
              "    <tr>\n",
              "      <th>R_emaildomain</th>\n",
              "      <th></th>\n",
              "      <th></th>\n",
              "      <th></th>\n",
              "    </tr>\n",
              "  </thead>\n",
              "  <tbody>\n",
              "    <tr>\n",
              "      <th>Conteo</th>\n",
              "      <td>94055</td>\n",
              "      <td>8745</td>\n",
              "      <td>102800</td>\n",
              "    </tr>\n",
              "    <tr>\n",
              "      <th>gmail</th>\n",
              "      <td>37978</td>\n",
              "      <td>5380</td>\n",
              "      <td>43358</td>\n",
              "    </tr>\n",
              "    <tr>\n",
              "      <th>hotmail</th>\n",
              "      <td>18757</td>\n",
              "      <td>1797</td>\n",
              "      <td>20554</td>\n",
              "    </tr>\n",
              "    <tr>\n",
              "      <th>anonymous</th>\n",
              "      <td>15541</td>\n",
              "      <td>323</td>\n",
              "      <td>15864</td>\n",
              "    </tr>\n",
              "    <tr>\n",
              "      <th>yahoo</th>\n",
              "      <td>8889</td>\n",
              "      <td>418</td>\n",
              "      <td>9307</td>\n",
              "    </tr>\n",
              "    <tr>\n",
              "      <th>other</th>\n",
              "      <td>3163</td>\n",
              "      <td>112</td>\n",
              "      <td>3275</td>\n",
              "    </tr>\n",
              "    <tr>\n",
              "      <th>aol</th>\n",
              "      <td>2944</td>\n",
              "      <td>98</td>\n",
              "      <td>3042</td>\n",
              "    </tr>\n",
              "    <tr>\n",
              "      <th>outlook</th>\n",
              "      <td>1831</td>\n",
              "      <td>415</td>\n",
              "      <td>2246</td>\n",
              "    </tr>\n",
              "    <tr>\n",
              "      <th>comcast</th>\n",
              "      <td>1355</td>\n",
              "      <td>16</td>\n",
              "      <td>1371</td>\n",
              "    </tr>\n",
              "    <tr>\n",
              "      <th>live</th>\n",
              "      <td>1072</td>\n",
              "      <td>51</td>\n",
              "      <td>1123</td>\n",
              "    </tr>\n",
              "    <tr>\n",
              "      <th>icloud</th>\n",
              "      <td>858</td>\n",
              "      <td>134</td>\n",
              "      <td>992</td>\n",
              "    </tr>\n",
              "    <tr>\n",
              "      <th>msn</th>\n",
              "      <td>702</td>\n",
              "      <td>1</td>\n",
              "      <td>703</td>\n",
              "    </tr>\n",
              "    <tr>\n",
              "      <th>sbcglobal</th>\n",
              "      <td>496</td>\n",
              "      <td>0</td>\n",
              "      <td>496</td>\n",
              "    </tr>\n",
              "    <tr>\n",
              "      <th>verizon</th>\n",
              "      <td>469</td>\n",
              "      <td>0</td>\n",
              "      <td>469</td>\n",
              "    </tr>\n",
              "  </tbody>\n",
              "</table>\n",
              "</div>"
            ],
            "text/plain": [
              "                   0     1  Conteo\n",
              "R_emaildomain                     \n",
              "Conteo         94055  8745  102800\n",
              "gmail          37978  5380   43358\n",
              "hotmail        18757  1797   20554\n",
              "anonymous      15541   323   15864\n",
              "yahoo           8889   418    9307\n",
              "other           3163   112    3275\n",
              "aol             2944    98    3042\n",
              "outlook         1831   415    2246\n",
              "comcast         1355    16    1371\n",
              "live            1072    51    1123\n",
              "icloud           858   134     992\n",
              "msn              702     1     703\n",
              "sbcglobal        496     0     496\n",
              "verizon          469     0     469"
            ]
          },
          "execution_count": 21,
          "metadata": {},
          "output_type": "execute_result"
        }
      ],
      "source": [
        "def transform(x):\n",
        "  try:\n",
        "    return x[0 : x.index('.')]\n",
        "  except:\n",
        "    return x\n",
        "recat_df.R_emaildomain = recat_df.R_emaildomain.map(transform)\n",
        "temp = pd.crosstab(recat_df.R_emaildomain, recat_df.isFraud, margins=True, margins_name=\"Conteo\", normalize=False)\n",
        "temp.columns = '0 1 Conteo'.split()\n",
        "choosen_cats = temp.sort_values('Conteo', ascending=False).index[1:13]\n",
        "recat_df.R_emaildomain = recat_df.R_emaildomain.map(lambda x: x if x in choosen_cats else 'other')\n",
        "temp = pd.crosstab(recat_df.R_emaildomain, recat_df.isFraud, margins=True, margins_name=\"Conteo\", normalize=False)\n",
        "temp.columns = '0 1 Conteo'.split()\n",
        "temp.sort_values('Conteo', ascending=False)"
      ]
    },
    {
      "cell_type": "code",
      "execution_count": 22,
      "metadata": {
        "colab": {
          "base_uri": "https://localhost:8080/",
          "height": 300
        },
        "id": "MFxZFE4oYO_y",
        "outputId": "cd3d3c09-5dd3-4d77-86d9-704a301c54c9"
      },
      "outputs": [
        {
          "data": {
            "text/html": [
              "<div>\n",
              "<style scoped>\n",
              "    .dataframe tbody tr th:only-of-type {\n",
              "        vertical-align: middle;\n",
              "    }\n",
              "\n",
              "    .dataframe tbody tr th {\n",
              "        vertical-align: top;\n",
              "    }\n",
              "\n",
              "    .dataframe thead th {\n",
              "        text-align: right;\n",
              "    }\n",
              "</style>\n",
              "<table border=\"1\" class=\"dataframe\">\n",
              "  <thead>\n",
              "    <tr style=\"text-align: right;\">\n",
              "      <th></th>\n",
              "      <th>isFraud</th>\n",
              "      <th>id_12_Found</th>\n",
              "      <th>id_12_NotFound</th>\n",
              "      <th>id_15_Found</th>\n",
              "      <th>id_15_New</th>\n",
              "      <th>id_15_Unknown</th>\n",
              "      <th>id_28_Found</th>\n",
              "      <th>id_28_New</th>\n",
              "      <th>id_29_Found</th>\n",
              "      <th>id_29_NotFound</th>\n",
              "      <th>...</th>\n",
              "      <th>R_emaildomain_gmail</th>\n",
              "      <th>R_emaildomain_hotmail</th>\n",
              "      <th>R_emaildomain_icloud</th>\n",
              "      <th>R_emaildomain_live</th>\n",
              "      <th>R_emaildomain_msn</th>\n",
              "      <th>R_emaildomain_other</th>\n",
              "      <th>R_emaildomain_outlook</th>\n",
              "      <th>R_emaildomain_sbcglobal</th>\n",
              "      <th>R_emaildomain_verizon</th>\n",
              "      <th>R_emaildomain_yahoo</th>\n",
              "    </tr>\n",
              "  </thead>\n",
              "  <tbody>\n",
              "    <tr>\n",
              "      <th>0</th>\n",
              "      <td>0.0</td>\n",
              "      <td>0.0</td>\n",
              "      <td>1.062241</td>\n",
              "      <td>1.460647</td>\n",
              "      <td>0.000000</td>\n",
              "      <td>0.0</td>\n",
              "      <td>1.381809</td>\n",
              "      <td>0.00000</td>\n",
              "      <td>1.393848</td>\n",
              "      <td>0.000000</td>\n",
              "      <td>...</td>\n",
              "      <td>1.539792</td>\n",
              "      <td>0.000000</td>\n",
              "      <td>0.0</td>\n",
              "      <td>0.0</td>\n",
              "      <td>0.0</td>\n",
              "      <td>0.0</td>\n",
              "      <td>0.000000</td>\n",
              "      <td>0.0</td>\n",
              "      <td>0.0</td>\n",
              "      <td>0.0</td>\n",
              "    </tr>\n",
              "    <tr>\n",
              "      <th>1</th>\n",
              "      <td>0.0</td>\n",
              "      <td>0.0</td>\n",
              "      <td>1.062241</td>\n",
              "      <td>0.000000</td>\n",
              "      <td>1.490825</td>\n",
              "      <td>0.0</td>\n",
              "      <td>0.000000</td>\n",
              "      <td>1.44901</td>\n",
              "      <td>0.000000</td>\n",
              "      <td>1.435499</td>\n",
              "      <td>...</td>\n",
              "      <td>0.000000</td>\n",
              "      <td>2.236394</td>\n",
              "      <td>0.0</td>\n",
              "      <td>0.0</td>\n",
              "      <td>0.0</td>\n",
              "      <td>0.0</td>\n",
              "      <td>0.000000</td>\n",
              "      <td>0.0</td>\n",
              "      <td>0.0</td>\n",
              "      <td>0.0</td>\n",
              "    </tr>\n",
              "    <tr>\n",
              "      <th>2</th>\n",
              "      <td>0.0</td>\n",
              "      <td>0.0</td>\n",
              "      <td>1.062241</td>\n",
              "      <td>1.460647</td>\n",
              "      <td>0.000000</td>\n",
              "      <td>0.0</td>\n",
              "      <td>1.381809</td>\n",
              "      <td>0.00000</td>\n",
              "      <td>1.393848</td>\n",
              "      <td>0.000000</td>\n",
              "      <td>...</td>\n",
              "      <td>1.539792</td>\n",
              "      <td>0.000000</td>\n",
              "      <td>0.0</td>\n",
              "      <td>0.0</td>\n",
              "      <td>0.0</td>\n",
              "      <td>0.0</td>\n",
              "      <td>0.000000</td>\n",
              "      <td>0.0</td>\n",
              "      <td>0.0</td>\n",
              "      <td>0.0</td>\n",
              "    </tr>\n",
              "    <tr>\n",
              "      <th>3</th>\n",
              "      <td>0.0</td>\n",
              "      <td>0.0</td>\n",
              "      <td>1.062241</td>\n",
              "      <td>0.000000</td>\n",
              "      <td>1.490825</td>\n",
              "      <td>0.0</td>\n",
              "      <td>0.000000</td>\n",
              "      <td>1.44901</td>\n",
              "      <td>0.000000</td>\n",
              "      <td>1.435499</td>\n",
              "      <td>...</td>\n",
              "      <td>0.000000</td>\n",
              "      <td>0.000000</td>\n",
              "      <td>0.0</td>\n",
              "      <td>0.0</td>\n",
              "      <td>0.0</td>\n",
              "      <td>0.0</td>\n",
              "      <td>6.765372</td>\n",
              "      <td>0.0</td>\n",
              "      <td>0.0</td>\n",
              "      <td>0.0</td>\n",
              "    </tr>\n",
              "    <tr>\n",
              "      <th>4</th>\n",
              "      <td>0.0</td>\n",
              "      <td>0.0</td>\n",
              "      <td>1.062241</td>\n",
              "      <td>0.000000</td>\n",
              "      <td>1.490825</td>\n",
              "      <td>0.0</td>\n",
              "      <td>0.000000</td>\n",
              "      <td>1.44901</td>\n",
              "      <td>0.000000</td>\n",
              "      <td>1.435499</td>\n",
              "      <td>...</td>\n",
              "      <td>0.000000</td>\n",
              "      <td>0.000000</td>\n",
              "      <td>0.0</td>\n",
              "      <td>0.0</td>\n",
              "      <td>0.0</td>\n",
              "      <td>0.0</td>\n",
              "      <td>0.000000</td>\n",
              "      <td>0.0</td>\n",
              "      <td>0.0</td>\n",
              "      <td>0.0</td>\n",
              "    </tr>\n",
              "  </tbody>\n",
              "</table>\n",
              "<p>5 rows × 66 columns</p>\n",
              "</div>"
            ],
            "text/plain": [
              "   isFraud  id_12_Found  id_12_NotFound  id_15_Found  id_15_New  \\\n",
              "0      0.0          0.0        1.062241     1.460647   0.000000   \n",
              "1      0.0          0.0        1.062241     0.000000   1.490825   \n",
              "2      0.0          0.0        1.062241     1.460647   0.000000   \n",
              "3      0.0          0.0        1.062241     0.000000   1.490825   \n",
              "4      0.0          0.0        1.062241     0.000000   1.490825   \n",
              "\n",
              "   id_15_Unknown  id_28_Found  id_28_New  id_29_Found  id_29_NotFound  ...  \\\n",
              "0            0.0     1.381809    0.00000     1.393848        0.000000  ...   \n",
              "1            0.0     0.000000    1.44901     0.000000        1.435499  ...   \n",
              "2            0.0     1.381809    0.00000     1.393848        0.000000  ...   \n",
              "3            0.0     0.000000    1.44901     0.000000        1.435499  ...   \n",
              "4            0.0     0.000000    1.44901     0.000000        1.435499  ...   \n",
              "\n",
              "   R_emaildomain_gmail  R_emaildomain_hotmail  R_emaildomain_icloud  \\\n",
              "0             1.539792               0.000000                   0.0   \n",
              "1             0.000000               2.236394                   0.0   \n",
              "2             1.539792               0.000000                   0.0   \n",
              "3             0.000000               0.000000                   0.0   \n",
              "4             0.000000               0.000000                   0.0   \n",
              "\n",
              "   R_emaildomain_live  R_emaildomain_msn  R_emaildomain_other  \\\n",
              "0                 0.0                0.0                  0.0   \n",
              "1                 0.0                0.0                  0.0   \n",
              "2                 0.0                0.0                  0.0   \n",
              "3                 0.0                0.0                  0.0   \n",
              "4                 0.0                0.0                  0.0   \n",
              "\n",
              "   R_emaildomain_outlook  R_emaildomain_sbcglobal  R_emaildomain_verizon  \\\n",
              "0               0.000000                      0.0                    0.0   \n",
              "1               0.000000                      0.0                    0.0   \n",
              "2               0.000000                      0.0                    0.0   \n",
              "3               6.765372                      0.0                    0.0   \n",
              "4               0.000000                      0.0                    0.0   \n",
              "\n",
              "   R_emaildomain_yahoo  \n",
              "0                  0.0  \n",
              "1                  0.0  \n",
              "2                  0.0  \n",
              "3                  0.0  \n",
              "4                  0.0  \n",
              "\n",
              "[5 rows x 66 columns]"
            ]
          },
          "execution_count": 22,
          "metadata": {},
          "output_type": "execute_result"
        }
      ],
      "source": [
        "final_cat_df = pd.get_dummies(recat_df, drop_first=False)\n",
        "new_df_dummies = pd.concat([df_process, final_cat_df], axis=1)\n",
        "for col in final_cat_df:\n",
        "  final_cat_df[col] = final_cat_df.groupby(col)[col].transform(lambda x : x/np.sqrt(x.count()/len(df)))\n",
        "final_cat_df.head()\n"
      ]
    },
    {
      "cell_type": "code",
      "execution_count": 23,
      "metadata": {
        "colab": {
          "base_uri": "https://localhost:8080/",
          "height": 300
        },
        "id": "mhr0nDGRdGiE",
        "outputId": "b62d74cb-6099-483a-9e9b-e8ef8dec2ff2"
      },
      "outputs": [
        {
          "data": {
            "text/html": [
              "<div>\n",
              "<style scoped>\n",
              "    .dataframe tbody tr th:only-of-type {\n",
              "        vertical-align: middle;\n",
              "    }\n",
              "\n",
              "    .dataframe tbody tr th {\n",
              "        vertical-align: top;\n",
              "    }\n",
              "\n",
              "    .dataframe thead th {\n",
              "        text-align: right;\n",
              "    }\n",
              "</style>\n",
              "<table border=\"1\" class=\"dataframe\">\n",
              "  <thead>\n",
              "    <tr style=\"text-align: right;\">\n",
              "      <th></th>\n",
              "      <th>id_01</th>\n",
              "      <th>id_02</th>\n",
              "      <th>id_05</th>\n",
              "      <th>id_06</th>\n",
              "      <th>id_17</th>\n",
              "      <th>id_19</th>\n",
              "      <th>id_20</th>\n",
              "      <th>TransactionAmt</th>\n",
              "      <th>card1</th>\n",
              "      <th>card2</th>\n",
              "      <th>...</th>\n",
              "      <th>R_emaildomain_gmail</th>\n",
              "      <th>R_emaildomain_hotmail</th>\n",
              "      <th>R_emaildomain_icloud</th>\n",
              "      <th>R_emaildomain_live</th>\n",
              "      <th>R_emaildomain_msn</th>\n",
              "      <th>R_emaildomain_other</th>\n",
              "      <th>R_emaildomain_outlook</th>\n",
              "      <th>R_emaildomain_sbcglobal</th>\n",
              "      <th>R_emaildomain_verizon</th>\n",
              "      <th>R_emaildomain_yahoo</th>\n",
              "    </tr>\n",
              "  </thead>\n",
              "  <tbody>\n",
              "    <tr>\n",
              "      <th>0</th>\n",
              "      <td>0.358838</td>\n",
              "      <td>0.017813</td>\n",
              "      <td>-0.301125</td>\n",
              "      <td>0.360888</td>\n",
              "      <td>-2.270046</td>\n",
              "      <td>0.446592</td>\n",
              "      <td>-1.701548</td>\n",
              "      <td>-0.130914</td>\n",
              "      <td>1.320825</td>\n",
              "      <td>-0.245585</td>\n",
              "      <td>...</td>\n",
              "      <td>1.539792</td>\n",
              "      <td>0.000000</td>\n",
              "      <td>0.0</td>\n",
              "      <td>0.0</td>\n",
              "      <td>0.0</td>\n",
              "      <td>0.0</td>\n",
              "      <td>0.000000</td>\n",
              "      <td>0.0</td>\n",
              "      <td>0.0</td>\n",
              "      <td>0.0</td>\n",
              "    </tr>\n",
              "    <tr>\n",
              "      <th>1</th>\n",
              "      <td>0.358838</td>\n",
              "      <td>0.207621</td>\n",
              "      <td>-0.301125</td>\n",
              "      <td>-0.088505</td>\n",
              "      <td>1.086452</td>\n",
              "      <td>-1.240663</td>\n",
              "      <td>0.714589</td>\n",
              "      <td>-0.695065</td>\n",
              "      <td>-1.072967</td>\n",
              "      <td>-0.102605</td>\n",
              "      <td>...</td>\n",
              "      <td>0.000000</td>\n",
              "      <td>2.236394</td>\n",
              "      <td>0.0</td>\n",
              "      <td>0.0</td>\n",
              "      <td>0.0</td>\n",
              "      <td>0.0</td>\n",
              "      <td>0.000000</td>\n",
              "      <td>0.0</td>\n",
              "      <td>0.0</td>\n",
              "      <td>0.0</td>\n",
              "    </tr>\n",
              "    <tr>\n",
              "      <th>2</th>\n",
              "      <td>0.017014</td>\n",
              "      <td>-0.456900</td>\n",
              "      <td>-0.301125</td>\n",
              "      <td>0.360888</td>\n",
              "      <td>-2.270046</td>\n",
              "      <td>0.446592</td>\n",
              "      <td>-1.701548</td>\n",
              "      <td>-0.130914</td>\n",
              "      <td>0.690900</td>\n",
              "      <td>1.103396</td>\n",
              "      <td>...</td>\n",
              "      <td>1.539792</td>\n",
              "      <td>0.000000</td>\n",
              "      <td>0.0</td>\n",
              "      <td>0.0</td>\n",
              "      <td>0.0</td>\n",
              "      <td>0.0</td>\n",
              "      <td>0.000000</td>\n",
              "      <td>0.0</td>\n",
              "      <td>0.0</td>\n",
              "      <td>0.0</td>\n",
              "    </tr>\n",
              "    <tr>\n",
              "      <th>3</th>\n",
              "      <td>0.358838</td>\n",
              "      <td>0.428879</td>\n",
              "      <td>-0.301125</td>\n",
              "      <td>0.360888</td>\n",
              "      <td>1.086452</td>\n",
              "      <td>0.980168</td>\n",
              "      <td>0.714589</td>\n",
              "      <td>-0.450006</td>\n",
              "      <td>1.199295</td>\n",
              "      <td>0.954200</td>\n",
              "      <td>...</td>\n",
              "      <td>0.000000</td>\n",
              "      <td>0.000000</td>\n",
              "      <td>0.0</td>\n",
              "      <td>0.0</td>\n",
              "      <td>0.0</td>\n",
              "      <td>0.0</td>\n",
              "      <td>6.765372</td>\n",
              "      <td>0.0</td>\n",
              "      <td>0.0</td>\n",
              "      <td>0.0</td>\n",
              "    </tr>\n",
              "    <tr>\n",
              "      <th>4</th>\n",
              "      <td>0.358838</td>\n",
              "      <td>0.623219</td>\n",
              "      <td>-0.100105</td>\n",
              "      <td>-0.463000</td>\n",
              "      <td>1.086452</td>\n",
              "      <td>-0.678245</td>\n",
              "      <td>0.714589</td>\n",
              "      <td>-0.817599</td>\n",
              "      <td>0.571758</td>\n",
              "      <td>-0.780204</td>\n",
              "      <td>...</td>\n",
              "      <td>0.000000</td>\n",
              "      <td>0.000000</td>\n",
              "      <td>0.0</td>\n",
              "      <td>0.0</td>\n",
              "      <td>0.0</td>\n",
              "      <td>0.0</td>\n",
              "      <td>0.000000</td>\n",
              "      <td>0.0</td>\n",
              "      <td>0.0</td>\n",
              "      <td>0.0</td>\n",
              "    </tr>\n",
              "  </tbody>\n",
              "</table>\n",
              "<p>5 rows × 110 columns</p>\n",
              "</div>"
            ],
            "text/plain": [
              "      id_01     id_02     id_05     id_06     id_17     id_19     id_20  \\\n",
              "0  0.358838  0.017813 -0.301125  0.360888 -2.270046  0.446592 -1.701548   \n",
              "1  0.358838  0.207621 -0.301125 -0.088505  1.086452 -1.240663  0.714589   \n",
              "2  0.017014 -0.456900 -0.301125  0.360888 -2.270046  0.446592 -1.701548   \n",
              "3  0.358838  0.428879 -0.301125  0.360888  1.086452  0.980168  0.714589   \n",
              "4  0.358838  0.623219 -0.100105 -0.463000  1.086452 -0.678245  0.714589   \n",
              "\n",
              "   TransactionAmt     card1     card2  ...  R_emaildomain_gmail  \\\n",
              "0       -0.130914  1.320825 -0.245585  ...             1.539792   \n",
              "1       -0.695065 -1.072967 -0.102605  ...             0.000000   \n",
              "2       -0.130914  0.690900  1.103396  ...             1.539792   \n",
              "3       -0.450006  1.199295  0.954200  ...             0.000000   \n",
              "4       -0.817599  0.571758 -0.780204  ...             0.000000   \n",
              "\n",
              "   R_emaildomain_hotmail  R_emaildomain_icloud  R_emaildomain_live  \\\n",
              "0               0.000000                   0.0                 0.0   \n",
              "1               2.236394                   0.0                 0.0   \n",
              "2               0.000000                   0.0                 0.0   \n",
              "3               0.000000                   0.0                 0.0   \n",
              "4               0.000000                   0.0                 0.0   \n",
              "\n",
              "   R_emaildomain_msn  R_emaildomain_other  R_emaildomain_outlook  \\\n",
              "0                0.0                  0.0               0.000000   \n",
              "1                0.0                  0.0               0.000000   \n",
              "2                0.0                  0.0               0.000000   \n",
              "3                0.0                  0.0               6.765372   \n",
              "4                0.0                  0.0               0.000000   \n",
              "\n",
              "   R_emaildomain_sbcglobal  R_emaildomain_verizon  R_emaildomain_yahoo  \n",
              "0                      0.0                    0.0                  0.0  \n",
              "1                      0.0                    0.0                  0.0  \n",
              "2                      0.0                    0.0                  0.0  \n",
              "3                      0.0                    0.0                  0.0  \n",
              "4                      0.0                    0.0                  0.0  \n",
              "\n",
              "[5 rows x 110 columns]"
            ]
          },
          "execution_count": 23,
          "metadata": {},
          "output_type": "execute_result"
        }
      ],
      "source": [
        "new_df = pd.concat([df_process, final_cat_df], axis=1)\n",
        "new_df.head()"
      ]
    },
    {
      "cell_type": "code",
      "execution_count": 24,
      "metadata": {
        "colab": {
          "base_uri": "https://localhost:8080/"
        },
        "id": "Hy-DAfH8gzta",
        "outputId": "cafc36c6-a72a-4a5b-bda1-8408aec88b68"
      },
      "outputs": [
        {
          "data": {
            "text/plain": [
              "8.905225326835985e+18"
            ]
          },
          "execution_count": 24,
          "metadata": {},
          "output_type": "execute_result"
        }
      ],
      "source": [
        "la.cond(new_df_dummies.drop('isFraud', axis=1).cov())"
      ]
    },
    {
      "cell_type": "code",
      "execution_count": 25,
      "metadata": {
        "colab": {
          "base_uri": "https://localhost:8080/"
        },
        "id": "J5pq8dRqaN7C",
        "outputId": "15516ef2-b127-4307-e780-ecc212fa31c8"
      },
      "outputs": [
        {
          "data": {
            "text/plain": [
              "446541715028821.25"
            ]
          },
          "execution_count": 25,
          "metadata": {},
          "output_type": "execute_result"
        }
      ],
      "source": [
        "X = new_df.drop('isFraud', axis=1)\n",
        "la.cond(X.cov())"
      ]
    },
    {
      "cell_type": "code",
      "execution_count": 26,
      "metadata": {
        "colab": {
          "base_uri": "https://localhost:8080/"
        },
        "id": "lXq6OzgVgOJS",
        "outputId": "8df54c5c-f92f-4532-84f2-3765de9350ed"
      },
      "outputs": [
        {
          "data": {
            "text/plain": [
              "3240.5165822847885"
            ]
          },
          "execution_count": 26,
          "metadata": {},
          "output_type": "execute_result"
        }
      ],
      "source": [
        "# Preguntar a Henry sobre centrado de las variables categoricas\n",
        "shrunk_S, shrinkage = ledoit_wolf(X)\n",
        "la.cond(shrunk_S)"
      ]
    },
    {
      "cell_type": "code",
      "execution_count": 27,
      "metadata": {
        "colab": {
          "base_uri": "https://localhost:8080/"
        },
        "id": "OHkBmJNwkoS6",
        "outputId": "0fcc34fa-056a-4502-abd6-1a9500e2522d"
      },
      "outputs": [
        {
          "name": "stderr",
          "output_type": "stream",
          "text": [
            "c:\\Users\\alejo\\anaconda3\\lib\\site-packages\\sklearn\\covariance\\_robust_covariance.py:647: UserWarning: The covariance matrix associated to your dataset is not full rank\n",
            "  warnings.warn(\"The covariance matrix associated to your dataset \"\n"
          ]
        },
        {
          "data": {
            "text/plain": [
              "array([[ 5.92359468e-01, -1.34857111e-01, -8.91574643e-04, ...,\n",
              "         3.26094799e-03,  5.49057727e-04,  3.45447628e-02],\n",
              "       [-1.34857111e-01,  1.00226409e+00, -1.05973868e-01, ...,\n",
              "        -2.22153369e-02, -6.86328997e-04, -6.61673960e-02],\n",
              "       [-8.91574643e-04, -1.05973868e-01,  7.38532444e-01, ...,\n",
              "         5.67188300e-03,  2.95844390e-03,  3.17920966e-02],\n",
              "       ...,\n",
              "       [ 3.26094799e-03, -2.22153369e-02,  5.67188300e-03, ...,\n",
              "         8.66632533e-01, -2.14277410e-04, -2.16234411e-02],\n",
              "       [ 5.49057727e-04, -6.86328997e-04,  2.95844390e-03, ...,\n",
              "        -2.14277410e-04,  5.24657397e-02, -1.26790796e-03],\n",
              "       [ 3.45447628e-02, -6.61673960e-02,  3.17920966e-02, ...,\n",
              "        -2.16234411e-02, -1.26790796e-03,  1.06085390e+00]])"
            ]
          },
          "execution_count": 27,
          "metadata": {},
          "output_type": "execute_result"
        }
      ],
      "source": [
        "mincovdet = MinCovDet(random_state=42).fit(X)\n",
        "mincovdet.covariance_"
      ]
    },
    {
      "cell_type": "code",
      "execution_count": 28,
      "metadata": {
        "colab": {
          "base_uri": "https://localhost:8080/"
        },
        "id": "uUlIApRSmwEO",
        "outputId": "ff84004b-0875-4e24-9aa1-e94a10d799fb"
      },
      "outputs": [
        {
          "data": {
            "text/plain": [
              "1.0629023553462866e+31"
            ]
          },
          "execution_count": 28,
          "metadata": {},
          "output_type": "execute_result"
        }
      ],
      "source": [
        "la.cond(mincovdet.covariance_)"
      ]
    },
    {
      "cell_type": "code",
      "execution_count": 29,
      "metadata": {
        "colab": {
          "base_uri": "https://localhost:8080/"
        },
        "id": "EvXY7AD5nbqr",
        "outputId": "89aae142-0135-45a6-f14b-9ef4c7560500"
      },
      "outputs": [
        {
          "data": {
            "text/plain": [
              "120.65467398007688"
            ]
          },
          "execution_count": 29,
          "metadata": {},
          "output_type": "execute_result"
        }
      ],
      "source": [
        "la.cond(shrunk_covariance(X.cov(), shrinkage=0.1))"
      ]
    },
    {
      "cell_type": "code",
      "execution_count": 30,
      "metadata": {
        "colab": {
          "base_uri": "https://localhost:8080/",
          "height": 282
        },
        "id": "mUYy1qZYoeYs",
        "outputId": "c9600057-6fb9-4348-957e-dcd0b3c8659b"
      },
      "outputs": [
        {
          "data": {
            "text/plain": [
              "[<matplotlib.lines.Line2D at 0x25784a5a910>]"
            ]
          },
          "execution_count": 30,
          "metadata": {},
          "output_type": "execute_result"
        },
        {
          "data": {
            "image/png": "[encoded data removed]",
            "text/plain": [
              "<Figure size 432x288 with 1 Axes>"
            ]
          },
          "metadata": {
            "needs_background": "light"
          },
          "output_type": "display_data"
        }
      ],
      "source": [
        "lista = [la.cond(shrunk_covariance(X.cov(), shrinkage=s)) for s in np.linspace(0.1, 1, 100)]\n",
        "plt.plot(np.linspace(0.1,1,100), lista)"
      ]
    },
    {
      "cell_type": "code",
      "execution_count": 31,
      "metadata": {
        "id": "eCyublwxqlmo"
      },
      "outputs": [],
      "source": [
        "shrunk_S = shrunk_covariance(X.cov(), shrinkage=0.3)"
      ]
    },
    {
      "cell_type": "code",
      "execution_count": 32,
      "metadata": {
        "colab": {
          "base_uri": "https://localhost:8080/"
        },
        "id": "qdTHjrzVqJeQ",
        "outputId": "ba3ecb8a-9004-4c44-f1ce-441f5e5aca1e"
      },
      "outputs": [
        {
          "data": {
            "text/plain": [
              "32.021582142835776"
            ]
          },
          "execution_count": 32,
          "metadata": {},
          "output_type": "execute_result"
        }
      ],
      "source": [
        "la.cond(shrunk_covariance(X.cov(), shrinkage=0.3))"
      ]
    },
    {
      "cell_type": "markdown",
      "metadata": {
        "id": "28DxGmb1qgeO"
      },
      "source": [
        "## PCA"
      ]
    },
    {
      "cell_type": "code",
      "execution_count": 33,
      "metadata": {
        "colab": {
          "base_uri": "https://localhost:8080/"
        },
        "id": "DO2n9OXHsoRz",
        "outputId": "36f26f0f-e941-4259-da73-6f4d95bc27ec"
      },
      "outputs": [
        {
          "data": {
            "text/plain": [
              "(109, 109)"
            ]
          },
          "execution_count": 33,
          "metadata": {},
          "output_type": "execute_result"
        }
      ],
      "source": [
        "shrunk_S.shape"
      ]
    },
    {
      "cell_type": "code",
      "execution_count": 34,
      "metadata": {
        "colab": {
          "base_uri": "https://localhost:8080/"
        },
        "id": "TYRoeGKUqing",
        "outputId": "b5cbf628-93be-4ae0-8253-4ad97e98d297"
      },
      "outputs": [
        {
          "data": {
            "text/plain": [
              "array([8.285, 6.54 , 4.471, 3.043, 2.618, 2.028, 1.712, 1.603, 1.57 ,\n",
              "       1.514, 1.456, 1.447, 1.393, 1.346, 1.333, 1.313, 1.308, 1.301,\n",
              "       1.292, 1.278, 1.192, 1.164, 1.119, 1.085, 1.044, 1.022, 1.018,\n",
              "       0.993, 0.971, 0.963, 0.96 , 0.957, 0.954, 0.941, 0.936, 0.918,\n",
              "       0.915, 0.866, 0.833, 0.829, 0.789, 0.766, 0.725, 0.72 , 0.693,\n",
              "       0.671, 0.647, 0.643, 0.624, 0.619, 0.613, 0.61 , 0.607, 0.593,\n",
              "       0.578, 0.567, 0.564, 0.547, 0.538, 0.501, 0.488, 0.464, 0.465,\n",
              "       0.42 , 0.417, 0.399, 0.365, 0.355, 0.353, 0.35 , 0.346, 0.341,\n",
              "       0.327, 0.326, 0.323, 0.314, 0.317, 0.299, 0.294, 0.29 , 0.281,\n",
              "       0.277, 0.274, 0.271, 0.27 , 0.269, 0.268, 0.263, 0.261, 0.259,\n",
              "       0.259, 0.259, 0.259, 0.259, 0.259, 0.259, 0.259, 0.259, 0.259,\n",
              "       0.259, 0.259, 0.259, 0.259, 0.259, 0.259, 0.259, 0.259, 0.259,\n",
              "       0.259])"
            ]
          },
          "execution_count": 34,
          "metadata": {},
          "output_type": "execute_result"
        }
      ],
      "source": [
        "eig_values, eig_vectors = la.eig(shrunk_S)\n",
        "eig_values.round(3)"
      ]
    },
    {
      "cell_type": "code",
      "execution_count": 35,
      "metadata": {
        "colab": {
          "base_uri": "https://localhost:8080/"
        },
        "id": "hs5dzqFkrgI_",
        "outputId": "3b63382d-e38a-4c25-b8fd-2ada83c0afda"
      },
      "outputs": [
        {
          "data": {
            "text/plain": [
              "0.7811038142079254"
            ]
          },
          "execution_count": 35,
          "metadata": {},
          "output_type": "execute_result"
        }
      ],
      "source": [
        "eig_values[0:50].sum()/eig_values.sum()"
      ]
    },
    {
      "cell_type": "code",
      "execution_count": 36,
      "metadata": {
        "id": "jvSBHefvs3Ot"
      },
      "outputs": [],
      "source": [
        "reduced_X = []\n",
        "for index, row in enumerate(X.to_numpy()):\n",
        "  Z = [np.dot(eig_vectors[:,i], row) for i in range(0, 50)]\n",
        "  columns_names = [f'Z{i + 1}' for i in range(0, 50)]\n",
        "  reduced_X.append(Z)\n",
        "\n",
        "reduced_X = pd.DataFrame(np.array(reduced_X), columns = columns_names)\n"
      ]
    },
    {
      "cell_type": "code",
      "execution_count": 37,
      "metadata": {
        "colab": {
          "base_uri": "https://localhost:8080/",
          "height": 236
        },
        "id": "lYGGkd6OBcFC",
        "outputId": "85316d95-9014-40d5-bdc6-25d32deac962"
      },
      "outputs": [
        {
          "data": {
            "text/html": [
              "<div>\n",
              "<style scoped>\n",
              "    .dataframe tbody tr th:only-of-type {\n",
              "        vertical-align: middle;\n",
              "    }\n",
              "\n",
              "    .dataframe tbody tr th {\n",
              "        vertical-align: top;\n",
              "    }\n",
              "\n",
              "    .dataframe thead th {\n",
              "        text-align: right;\n",
              "    }\n",
              "</style>\n",
              "<table border=\"1\" class=\"dataframe\">\n",
              "  <thead>\n",
              "    <tr style=\"text-align: right;\">\n",
              "      <th></th>\n",
              "      <th>Z1</th>\n",
              "      <th>Z2</th>\n",
              "      <th>Z3</th>\n",
              "      <th>Z4</th>\n",
              "      <th>Z5</th>\n",
              "      <th>Z6</th>\n",
              "      <th>Z7</th>\n",
              "      <th>Z8</th>\n",
              "      <th>Z9</th>\n",
              "      <th>Z10</th>\n",
              "      <th>...</th>\n",
              "      <th>Z41</th>\n",
              "      <th>Z42</th>\n",
              "      <th>Z43</th>\n",
              "      <th>Z44</th>\n",
              "      <th>Z45</th>\n",
              "      <th>Z46</th>\n",
              "      <th>Z47</th>\n",
              "      <th>Z48</th>\n",
              "      <th>Z49</th>\n",
              "      <th>Z50</th>\n",
              "    </tr>\n",
              "  </thead>\n",
              "  <tbody>\n",
              "    <tr>\n",
              "      <th>0</th>\n",
              "      <td>4.030112</td>\n",
              "      <td>0.613749</td>\n",
              "      <td>-0.088251</td>\n",
              "      <td>-1.953125</td>\n",
              "      <td>0.997087</td>\n",
              "      <td>-2.147406</td>\n",
              "      <td>0.405212</td>\n",
              "      <td>0.179118</td>\n",
              "      <td>0.025118</td>\n",
              "      <td>0.142400</td>\n",
              "      <td>...</td>\n",
              "      <td>-0.409406</td>\n",
              "      <td>1.172643</td>\n",
              "      <td>0.697768</td>\n",
              "      <td>-1.083205</td>\n",
              "      <td>-1.050439</td>\n",
              "      <td>0.074196</td>\n",
              "      <td>0.472613</td>\n",
              "      <td>0.822124</td>\n",
              "      <td>0.099180</td>\n",
              "      <td>-0.613303</td>\n",
              "    </tr>\n",
              "    <tr>\n",
              "      <th>1</th>\n",
              "      <td>-1.369065</td>\n",
              "      <td>-0.404033</td>\n",
              "      <td>-2.582649</td>\n",
              "      <td>1.800864</td>\n",
              "      <td>0.458748</td>\n",
              "      <td>1.118063</td>\n",
              "      <td>1.124127</td>\n",
              "      <td>0.342163</td>\n",
              "      <td>0.578756</td>\n",
              "      <td>2.024368</td>\n",
              "      <td>...</td>\n",
              "      <td>-0.625627</td>\n",
              "      <td>-0.633995</td>\n",
              "      <td>0.057173</td>\n",
              "      <td>-0.486033</td>\n",
              "      <td>0.160425</td>\n",
              "      <td>-0.188034</td>\n",
              "      <td>-0.124814</td>\n",
              "      <td>-0.162731</td>\n",
              "      <td>-0.030564</td>\n",
              "      <td>-0.034036</td>\n",
              "    </tr>\n",
              "    <tr>\n",
              "      <th>2</th>\n",
              "      <td>4.351594</td>\n",
              "      <td>0.670487</td>\n",
              "      <td>-0.408545</td>\n",
              "      <td>-3.429050</td>\n",
              "      <td>-0.235766</td>\n",
              "      <td>0.620055</td>\n",
              "      <td>1.024959</td>\n",
              "      <td>-0.137220</td>\n",
              "      <td>-0.026811</td>\n",
              "      <td>-1.086383</td>\n",
              "      <td>...</td>\n",
              "      <td>-0.235128</td>\n",
              "      <td>0.691358</td>\n",
              "      <td>0.528219</td>\n",
              "      <td>-0.640395</td>\n",
              "      <td>-0.079394</td>\n",
              "      <td>-0.721660</td>\n",
              "      <td>0.149265</td>\n",
              "      <td>0.042149</td>\n",
              "      <td>-0.081083</td>\n",
              "      <td>-0.406523</td>\n",
              "    </tr>\n",
              "    <tr>\n",
              "      <th>3</th>\n",
              "      <td>-1.115859</td>\n",
              "      <td>-0.350217</td>\n",
              "      <td>-2.470215</td>\n",
              "      <td>1.580289</td>\n",
              "      <td>0.589497</td>\n",
              "      <td>-0.038024</td>\n",
              "      <td>-1.768462</td>\n",
              "      <td>-8.937583</td>\n",
              "      <td>1.133337</td>\n",
              "      <td>1.256421</td>\n",
              "      <td>...</td>\n",
              "      <td>0.234811</td>\n",
              "      <td>-0.494691</td>\n",
              "      <td>-0.389596</td>\n",
              "      <td>-0.673156</td>\n",
              "      <td>0.193484</td>\n",
              "      <td>-0.112184</td>\n",
              "      <td>0.060698</td>\n",
              "      <td>0.206921</td>\n",
              "      <td>0.009189</td>\n",
              "      <td>0.027810</td>\n",
              "    </tr>\n",
              "    <tr>\n",
              "      <th>4</th>\n",
              "      <td>-1.554116</td>\n",
              "      <td>-0.139809</td>\n",
              "      <td>-1.205703</td>\n",
              "      <td>1.019043</td>\n",
              "      <td>0.517757</td>\n",
              "      <td>1.906355</td>\n",
              "      <td>-0.659539</td>\n",
              "      <td>-0.167220</td>\n",
              "      <td>-0.129365</td>\n",
              "      <td>0.759112</td>\n",
              "      <td>...</td>\n",
              "      <td>-0.526257</td>\n",
              "      <td>1.526629</td>\n",
              "      <td>-0.743008</td>\n",
              "      <td>0.031946</td>\n",
              "      <td>0.387360</td>\n",
              "      <td>-0.336983</td>\n",
              "      <td>-0.402833</td>\n",
              "      <td>-0.901941</td>\n",
              "      <td>-0.147201</td>\n",
              "      <td>0.009463</td>\n",
              "    </tr>\n",
              "  </tbody>\n",
              "</table>\n",
              "<p>5 rows × 50 columns</p>\n",
              "</div>"
            ],
            "text/plain": [
              "         Z1        Z2        Z3        Z4        Z5        Z6        Z7  \\\n",
              "0  4.030112  0.613749 -0.088251 -1.953125  0.997087 -2.147406  0.405212   \n",
              "1 -1.369065 -0.404033 -2.582649  1.800864  0.458748  1.118063  1.124127   \n",
              "2  4.351594  0.670487 -0.408545 -3.429050 -0.235766  0.620055  1.024959   \n",
              "3 -1.115859 -0.350217 -2.470215  1.580289  0.589497 -0.038024 -1.768462   \n",
              "4 -1.554116 -0.139809 -1.205703  1.019043  0.517757  1.906355 -0.659539   \n",
              "\n",
              "         Z8        Z9       Z10  ...       Z41       Z42       Z43       Z44  \\\n",
              "0  0.179118  0.025118  0.142400  ... -0.409406  1.172643  0.697768 -1.083205   \n",
              "1  0.342163  0.578756  2.024368  ... -0.625627 -0.633995  0.057173 -0.486033   \n",
              "2 -0.137220 -0.026811 -1.086383  ... -0.235128  0.691358  0.528219 -0.640395   \n",
              "3 -8.937583  1.133337  1.256421  ...  0.234811 -0.494691 -0.389596 -0.673156   \n",
              "4 -0.167220 -0.129365  0.759112  ... -0.526257  1.526629 -0.743008  0.031946   \n",
              "\n",
              "        Z45       Z46       Z47       Z48       Z49       Z50  \n",
              "0 -1.050439  0.074196  0.472613  0.822124  0.099180 -0.613303  \n",
              "1  0.160425 -0.188034 -0.124814 -0.162731 -0.030564 -0.034036  \n",
              "2 -0.079394 -0.721660  0.149265  0.042149 -0.081083 -0.406523  \n",
              "3  0.193484 -0.112184  0.060698  0.206921  0.009189  0.027810  \n",
              "4  0.387360 -0.336983 -0.402833 -0.901941 -0.147201  0.009463  \n",
              "\n",
              "[5 rows x 50 columns]"
            ]
          },
          "execution_count": 37,
          "metadata": {},
          "output_type": "execute_result"
        }
      ],
      "source": [
        "reduced_X.head()"
      ]
    },
    {
      "cell_type": "code",
      "execution_count": 38,
      "metadata": {
        "colab": {
          "base_uri": "https://localhost:8080/"
        },
        "id": "PHuz17QPEoJq",
        "outputId": "3a81a4d1-dd16-4bb9-b380-5f641a216b48"
      },
      "outputs": [
        {
          "data": {
            "text/plain": [
              "-2.2937355970488487e-14"
            ]
          },
          "execution_count": 38,
          "metadata": {},
          "output_type": "execute_result"
        }
      ],
      "source": [
        "reduced_X.mean().mean()"
      ]
    },
    {
      "cell_type": "code",
      "execution_count": 39,
      "metadata": {
        "id": "Vh9KZc7AFGnj"
      },
      "outputs": [],
      "source": [
        "d = []\n",
        "S_i = la.inv(reduced_X.cov())\n",
        "median = reduced_X.median()\n",
        "for row in reduced_X.to_numpy():\n",
        "    d.append(mahalanobis(row, median, S_i))\n",
        "distances = pd.Series(d)\n"
      ]
    },
    {
      "cell_type": "code",
      "execution_count": 40,
      "metadata": {
        "colab": {
          "base_uri": "https://localhost:8080/"
        },
        "id": "lEQkvhNvI1sP",
        "outputId": "db8adbf4-6989-42be-8db6-a82dd511747b"
      },
      "outputs": [
        {
          "data": {
            "text/plain": [
              "18        10.080911\n",
              "24        10.768611\n",
              "34        12.776805\n",
              "35        10.376859\n",
              "36        13.016751\n",
              "            ...    \n",
              "102756    11.158825\n",
              "102790    10.333835\n",
              "102795    14.101390\n",
              "102796    10.088667\n",
              "102798    10.950866\n",
              "Length: 10280, dtype: float64"
            ]
          },
          "execution_count": 40,
          "metadata": {},
          "output_type": "execute_result"
        }
      ],
      "source": [
        "outliers = distances[distances > np.percentile(distances, 90)]\n",
        "outliers"
      ]
    },
    {
      "cell_type": "code",
      "execution_count": 41,
      "metadata": {
        "id": "xeL8i6w5Jbcd"
      },
      "outputs": [],
      "source": [
        "reduced_X['predict'] = 0"
      ]
    },
    {
      "cell_type": "code",
      "execution_count": 42,
      "metadata": {
        "colab": {
          "base_uri": "https://localhost:8080/"
        },
        "id": "MpzSjgMrJoF3",
        "outputId": "e89c045a-108a-4810-fe89-6c59a14b35ac"
      },
      "outputs": [
        {
          "name": "stderr",
          "output_type": "stream",
          "text": [
            "<ipython-input-42-df8d815afe54>:2: SettingWithCopyWarning: \n",
            "A value is trying to be set on a copy of a slice from a DataFrame\n",
            "\n",
            "See the caveats in the documentation: https://pandas.pydata.org/pandas-docs/stable/user_guide/indexing.html#returning-a-view-versus-a-copy\n",
            "  reduced_X.predict[i] = 1\n"
          ]
        }
      ],
      "source": [
        "for i in outliers.index:\n",
        "  reduced_X.predict[i] = 1"
      ]
    },
    {
      "cell_type": "code",
      "execution_count": 43,
      "metadata": {
        "colab": {
          "base_uri": "https://localhost:8080/",
          "height": 424
        },
        "id": "iT9BOxScJ3jC",
        "outputId": "e6576518-b964-4aca-f015-85aafcc2c0a6"
      },
      "outputs": [
        {
          "data": {
            "text/html": [
              "<div>\n",
              "<style scoped>\n",
              "    .dataframe tbody tr th:only-of-type {\n",
              "        vertical-align: middle;\n",
              "    }\n",
              "\n",
              "    .dataframe tbody tr th {\n",
              "        vertical-align: top;\n",
              "    }\n",
              "\n",
              "    .dataframe thead th {\n",
              "        text-align: right;\n",
              "    }\n",
              "</style>\n",
              "<table border=\"1\" class=\"dataframe\">\n",
              "  <thead>\n",
              "    <tr style=\"text-align: right;\">\n",
              "      <th></th>\n",
              "      <th>Z1</th>\n",
              "      <th>Z2</th>\n",
              "      <th>Z3</th>\n",
              "      <th>Z4</th>\n",
              "      <th>Z5</th>\n",
              "      <th>Z6</th>\n",
              "      <th>Z7</th>\n",
              "      <th>Z8</th>\n",
              "      <th>Z9</th>\n",
              "      <th>Z10</th>\n",
              "      <th>...</th>\n",
              "      <th>Z43</th>\n",
              "      <th>Z44</th>\n",
              "      <th>Z45</th>\n",
              "      <th>Z46</th>\n",
              "      <th>Z47</th>\n",
              "      <th>Z48</th>\n",
              "      <th>Z49</th>\n",
              "      <th>Z50</th>\n",
              "      <th>predict</th>\n",
              "      <th>isFraud</th>\n",
              "    </tr>\n",
              "  </thead>\n",
              "  <tbody>\n",
              "    <tr>\n",
              "      <th>0</th>\n",
              "      <td>4.030112</td>\n",
              "      <td>0.613749</td>\n",
              "      <td>-0.088251</td>\n",
              "      <td>-1.953125</td>\n",
              "      <td>0.997087</td>\n",
              "      <td>-2.147406</td>\n",
              "      <td>0.405212</td>\n",
              "      <td>0.179118</td>\n",
              "      <td>0.025118</td>\n",
              "      <td>0.142400</td>\n",
              "      <td>...</td>\n",
              "      <td>0.697768</td>\n",
              "      <td>-1.083205</td>\n",
              "      <td>-1.050439</td>\n",
              "      <td>0.074196</td>\n",
              "      <td>0.472613</td>\n",
              "      <td>0.822124</td>\n",
              "      <td>0.099180</td>\n",
              "      <td>-0.613303</td>\n",
              "      <td>0</td>\n",
              "      <td>0</td>\n",
              "    </tr>\n",
              "    <tr>\n",
              "      <th>1</th>\n",
              "      <td>-1.369065</td>\n",
              "      <td>-0.404033</td>\n",
              "      <td>-2.582649</td>\n",
              "      <td>1.800864</td>\n",
              "      <td>0.458748</td>\n",
              "      <td>1.118063</td>\n",
              "      <td>1.124127</td>\n",
              "      <td>0.342163</td>\n",
              "      <td>0.578756</td>\n",
              "      <td>2.024368</td>\n",
              "      <td>...</td>\n",
              "      <td>0.057173</td>\n",
              "      <td>-0.486033</td>\n",
              "      <td>0.160425</td>\n",
              "      <td>-0.188034</td>\n",
              "      <td>-0.124814</td>\n",
              "      <td>-0.162731</td>\n",
              "      <td>-0.030564</td>\n",
              "      <td>-0.034036</td>\n",
              "      <td>0</td>\n",
              "      <td>0</td>\n",
              "    </tr>\n",
              "    <tr>\n",
              "      <th>2</th>\n",
              "      <td>4.351594</td>\n",
              "      <td>0.670487</td>\n",
              "      <td>-0.408545</td>\n",
              "      <td>-3.429050</td>\n",
              "      <td>-0.235766</td>\n",
              "      <td>0.620055</td>\n",
              "      <td>1.024959</td>\n",
              "      <td>-0.137220</td>\n",
              "      <td>-0.026811</td>\n",
              "      <td>-1.086383</td>\n",
              "      <td>...</td>\n",
              "      <td>0.528219</td>\n",
              "      <td>-0.640395</td>\n",
              "      <td>-0.079394</td>\n",
              "      <td>-0.721660</td>\n",
              "      <td>0.149265</td>\n",
              "      <td>0.042149</td>\n",
              "      <td>-0.081083</td>\n",
              "      <td>-0.406523</td>\n",
              "      <td>0</td>\n",
              "      <td>0</td>\n",
              "    </tr>\n",
              "    <tr>\n",
              "      <th>3</th>\n",
              "      <td>-1.115859</td>\n",
              "      <td>-0.350217</td>\n",
              "      <td>-2.470215</td>\n",
              "      <td>1.580289</td>\n",
              "      <td>0.589497</td>\n",
              "      <td>-0.038024</td>\n",
              "      <td>-1.768462</td>\n",
              "      <td>-8.937583</td>\n",
              "      <td>1.133337</td>\n",
              "      <td>1.256421</td>\n",
              "      <td>...</td>\n",
              "      <td>-0.389596</td>\n",
              "      <td>-0.673156</td>\n",
              "      <td>0.193484</td>\n",
              "      <td>-0.112184</td>\n",
              "      <td>0.060698</td>\n",
              "      <td>0.206921</td>\n",
              "      <td>0.009189</td>\n",
              "      <td>0.027810</td>\n",
              "      <td>0</td>\n",
              "      <td>0</td>\n",
              "    </tr>\n",
              "    <tr>\n",
              "      <th>4</th>\n",
              "      <td>-1.554116</td>\n",
              "      <td>-0.139809</td>\n",
              "      <td>-1.205703</td>\n",
              "      <td>1.019043</td>\n",
              "      <td>0.517757</td>\n",
              "      <td>1.906355</td>\n",
              "      <td>-0.659539</td>\n",
              "      <td>-0.167220</td>\n",
              "      <td>-0.129365</td>\n",
              "      <td>0.759112</td>\n",
              "      <td>...</td>\n",
              "      <td>-0.743008</td>\n",
              "      <td>0.031946</td>\n",
              "      <td>0.387360</td>\n",
              "      <td>-0.336983</td>\n",
              "      <td>-0.402833</td>\n",
              "      <td>-0.901941</td>\n",
              "      <td>-0.147201</td>\n",
              "      <td>0.009463</td>\n",
              "      <td>0</td>\n",
              "      <td>0</td>\n",
              "    </tr>\n",
              "    <tr>\n",
              "      <th>...</th>\n",
              "      <td>...</td>\n",
              "      <td>...</td>\n",
              "      <td>...</td>\n",
              "      <td>...</td>\n",
              "      <td>...</td>\n",
              "      <td>...</td>\n",
              "      <td>...</td>\n",
              "      <td>...</td>\n",
              "      <td>...</td>\n",
              "      <td>...</td>\n",
              "      <td>...</td>\n",
              "      <td>...</td>\n",
              "      <td>...</td>\n",
              "      <td>...</td>\n",
              "      <td>...</td>\n",
              "      <td>...</td>\n",
              "      <td>...</td>\n",
              "      <td>...</td>\n",
              "      <td>...</td>\n",
              "      <td>...</td>\n",
              "      <td>...</td>\n",
              "    </tr>\n",
              "    <tr>\n",
              "      <th>102795</th>\n",
              "      <td>13.395633</td>\n",
              "      <td>0.691108</td>\n",
              "      <td>-3.941100</td>\n",
              "      <td>-0.873612</td>\n",
              "      <td>0.107037</td>\n",
              "      <td>-6.366004</td>\n",
              "      <td>-1.354358</td>\n",
              "      <td>2.738094</td>\n",
              "      <td>0.461930</td>\n",
              "      <td>6.575819</td>\n",
              "      <td>...</td>\n",
              "      <td>-0.177083</td>\n",
              "      <td>-1.122832</td>\n",
              "      <td>-2.619403</td>\n",
              "      <td>1.667334</td>\n",
              "      <td>-0.913215</td>\n",
              "      <td>-1.810102</td>\n",
              "      <td>-0.062737</td>\n",
              "      <td>0.232121</td>\n",
              "      <td>1</td>\n",
              "      <td>0</td>\n",
              "    </tr>\n",
              "    <tr>\n",
              "      <th>102796</th>\n",
              "      <td>10.350589</td>\n",
              "      <td>0.385836</td>\n",
              "      <td>-5.384304</td>\n",
              "      <td>-3.175562</td>\n",
              "      <td>-1.732373</td>\n",
              "      <td>2.569703</td>\n",
              "      <td>0.060125</td>\n",
              "      <td>1.784562</td>\n",
              "      <td>0.200032</td>\n",
              "      <td>1.640758</td>\n",
              "      <td>...</td>\n",
              "      <td>-0.333055</td>\n",
              "      <td>-0.207072</td>\n",
              "      <td>-0.434362</td>\n",
              "      <td>0.301686</td>\n",
              "      <td>-0.377999</td>\n",
              "      <td>-0.736459</td>\n",
              "      <td>-0.153144</td>\n",
              "      <td>-0.147925</td>\n",
              "      <td>1</td>\n",
              "      <td>0</td>\n",
              "    </tr>\n",
              "    <tr>\n",
              "      <th>102797</th>\n",
              "      <td>-0.263510</td>\n",
              "      <td>-0.061175</td>\n",
              "      <td>-1.553438</td>\n",
              "      <td>0.964585</td>\n",
              "      <td>1.980083</td>\n",
              "      <td>-1.866315</td>\n",
              "      <td>0.345240</td>\n",
              "      <td>0.019409</td>\n",
              "      <td>0.008107</td>\n",
              "      <td>-2.153272</td>\n",
              "      <td>...</td>\n",
              "      <td>0.052169</td>\n",
              "      <td>0.433985</td>\n",
              "      <td>0.352766</td>\n",
              "      <td>1.083275</td>\n",
              "      <td>-0.374364</td>\n",
              "      <td>-0.807579</td>\n",
              "      <td>0.003142</td>\n",
              "      <td>-0.185899</td>\n",
              "      <td>0</td>\n",
              "      <td>0</td>\n",
              "    </tr>\n",
              "    <tr>\n",
              "      <th>102798</th>\n",
              "      <td>14.454841</td>\n",
              "      <td>1.142728</td>\n",
              "      <td>-2.350810</td>\n",
              "      <td>-2.360707</td>\n",
              "      <td>-0.950319</td>\n",
              "      <td>-8.722382</td>\n",
              "      <td>-1.218564</td>\n",
              "      <td>0.897550</td>\n",
              "      <td>0.117395</td>\n",
              "      <td>4.222708</td>\n",
              "      <td>...</td>\n",
              "      <td>0.922622</td>\n",
              "      <td>-1.036903</td>\n",
              "      <td>-2.940194</td>\n",
              "      <td>0.565816</td>\n",
              "      <td>-0.332144</td>\n",
              "      <td>-0.856531</td>\n",
              "      <td>0.001165</td>\n",
              "      <td>-0.158754</td>\n",
              "      <td>1</td>\n",
              "      <td>0</td>\n",
              "    </tr>\n",
              "    <tr>\n",
              "      <th>102799</th>\n",
              "      <td>-1.748626</td>\n",
              "      <td>-0.188655</td>\n",
              "      <td>-1.752616</td>\n",
              "      <td>2.510267</td>\n",
              "      <td>-0.164116</td>\n",
              "      <td>-0.076591</td>\n",
              "      <td>-0.529067</td>\n",
              "      <td>0.037460</td>\n",
              "      <td>-0.099057</td>\n",
              "      <td>-1.750119</td>\n",
              "      <td>...</td>\n",
              "      <td>0.148047</td>\n",
              "      <td>0.454224</td>\n",
              "      <td>0.350280</td>\n",
              "      <td>1.091865</td>\n",
              "      <td>0.112939</td>\n",
              "      <td>0.360800</td>\n",
              "      <td>0.104575</td>\n",
              "      <td>-0.300906</td>\n",
              "      <td>0</td>\n",
              "      <td>0</td>\n",
              "    </tr>\n",
              "  </tbody>\n",
              "</table>\n",
              "<p>102800 rows × 52 columns</p>\n",
              "</div>"
            ],
            "text/plain": [
              "               Z1        Z2        Z3        Z4        Z5        Z6        Z7  \\\n",
              "0        4.030112  0.613749 -0.088251 -1.953125  0.997087 -2.147406  0.405212   \n",
              "1       -1.369065 -0.404033 -2.582649  1.800864  0.458748  1.118063  1.124127   \n",
              "2        4.351594  0.670487 -0.408545 -3.429050 -0.235766  0.620055  1.024959   \n",
              "3       -1.115859 -0.350217 -2.470215  1.580289  0.589497 -0.038024 -1.768462   \n",
              "4       -1.554116 -0.139809 -1.205703  1.019043  0.517757  1.906355 -0.659539   \n",
              "...           ...       ...       ...       ...       ...       ...       ...   \n",
              "102795  13.395633  0.691108 -3.941100 -0.873612  0.107037 -6.366004 -1.354358   \n",
              "102796  10.350589  0.385836 -5.384304 -3.175562 -1.732373  2.569703  0.060125   \n",
              "102797  -0.263510 -0.061175 -1.553438  0.964585  1.980083 -1.866315  0.345240   \n",
              "102798  14.454841  1.142728 -2.350810 -2.360707 -0.950319 -8.722382 -1.218564   \n",
              "102799  -1.748626 -0.188655 -1.752616  2.510267 -0.164116 -0.076591 -0.529067   \n",
              "\n",
              "              Z8        Z9       Z10  ...       Z43       Z44       Z45  \\\n",
              "0       0.179118  0.025118  0.142400  ...  0.697768 -1.083205 -1.050439   \n",
              "1       0.342163  0.578756  2.024368  ...  0.057173 -0.486033  0.160425   \n",
              "2      -0.137220 -0.026811 -1.086383  ...  0.528219 -0.640395 -0.079394   \n",
              "3      -8.937583  1.133337  1.256421  ... -0.389596 -0.673156  0.193484   \n",
              "4      -0.167220 -0.129365  0.759112  ... -0.743008  0.031946  0.387360   \n",
              "...          ...       ...       ...  ...       ...       ...       ...   \n",
              "102795  2.738094  0.461930  6.575819  ... -0.177083 -1.122832 -2.619403   \n",
              "102796  1.784562  0.200032  1.640758  ... -0.333055 -0.207072 -0.434362   \n",
              "102797  0.019409  0.008107 -2.153272  ...  0.052169  0.433985  0.352766   \n",
              "102798  0.897550  0.117395  4.222708  ...  0.922622 -1.036903 -2.940194   \n",
              "102799  0.037460 -0.099057 -1.750119  ...  0.148047  0.454224  0.350280   \n",
              "\n",
              "             Z46       Z47       Z48       Z49       Z50  predict  isFraud  \n",
              "0       0.074196  0.472613  0.822124  0.099180 -0.613303        0        0  \n",
              "1      -0.188034 -0.124814 -0.162731 -0.030564 -0.034036        0        0  \n",
              "2      -0.721660  0.149265  0.042149 -0.081083 -0.406523        0        0  \n",
              "3      -0.112184  0.060698  0.206921  0.009189  0.027810        0        0  \n",
              "4      -0.336983 -0.402833 -0.901941 -0.147201  0.009463        0        0  \n",
              "...          ...       ...       ...       ...       ...      ...      ...  \n",
              "102795  1.667334 -0.913215 -1.810102 -0.062737  0.232121        1        0  \n",
              "102796  0.301686 -0.377999 -0.736459 -0.153144 -0.147925        1        0  \n",
              "102797  1.083275 -0.374364 -0.807579  0.003142 -0.185899        0        0  \n",
              "102798  0.565816 -0.332144 -0.856531  0.001165 -0.158754        1        0  \n",
              "102799  1.091865  0.112939  0.360800  0.104575 -0.300906        0        0  \n",
              "\n",
              "[102800 rows x 52 columns]"
            ]
          },
          "execution_count": 43,
          "metadata": {},
          "output_type": "execute_result"
        }
      ],
      "source": [
        "reduced_X['isFraud'] = df.isFraud\n",
        "reduced_X"
      ]
    },
    {
      "cell_type": "code",
      "execution_count": 44,
      "metadata": {
        "colab": {
          "base_uri": "https://localhost:8080/"
        },
        "id": "M9ypFoK0K6fz",
        "outputId": "358ceffc-56cd-46dd-a200-198f2fa4b4da"
      },
      "outputs": [
        {
          "data": {
            "text/plain": [
              "0    92520\n",
              "1    10280\n",
              "Name: predict, dtype: int64"
            ]
          },
          "execution_count": 44,
          "metadata": {},
          "output_type": "execute_result"
        }
      ],
      "source": [
        "reduced_X.predict.value_counts()"
      ]
    },
    {
      "cell_type": "code",
      "execution_count": 45,
      "metadata": {
        "colab": {
          "base_uri": "https://localhost:8080/"
        },
        "id": "OJcdzlnAJ4aK",
        "outputId": "c6ff5b8b-4714-41d5-e691-055fc8e2a2dc"
      },
      "outputs": [
        {
          "data": {
            "text/plain": [
              "array([[85180,  8875],\n",
              "       [ 7340,  1405]], dtype=int64)"
            ]
          },
          "execution_count": 45,
          "metadata": {},
          "output_type": "execute_result"
        }
      ],
      "source": [
        "confusion_matrix(y_true=reduced_X.isFraud.to_numpy(), y_pred=reduced_X.predict.to_numpy())"
      ]
    },
    {
      "cell_type": "markdown",
      "metadata": {
        "id": "qdQMJQY0NHNe"
      },
      "source": [
        "## PCA con covarianza habitual"
      ]
    },
    {
      "cell_type": "code",
      "execution_count": 46,
      "metadata": {
        "id": "-Z6QEIz5NG6T"
      },
      "outputs": [],
      "source": [
        "S = X.cov()"
      ]
    },
    {
      "cell_type": "code",
      "execution_count": 47,
      "metadata": {
        "id": "NvGCAd2eMVyI"
      },
      "outputs": [],
      "source": [
        "eig_values, eig_vectors = la.eig(S)\n"
      ]
    },
    {
      "cell_type": "code",
      "execution_count": 48,
      "metadata": {
        "colab": {
          "base_uri": "https://localhost:8080/"
        },
        "id": "js2oQ8GnPFy7",
        "outputId": "8de79bf9-a242-49ed-a693-bf02a21c3178"
      },
      "outputs": [
        {
          "data": {
            "text/plain": [
              "0.7546859524440062"
            ]
          },
          "execution_count": 48,
          "metadata": {},
          "output_type": "execute_result"
        }
      ],
      "source": [
        "eig_values[0:30].sum()/eig_values.sum()\n"
      ]
    },
    {
      "cell_type": "code",
      "execution_count": 49,
      "metadata": {
        "id": "DKRBjyH7NULD"
      },
      "outputs": [],
      "source": [
        "reduced_X = []\n",
        "for index, row in enumerate(X.to_numpy()):\n",
        "  Z = [np.dot(eig_vectors[:,i], row) for i in range(0, 30)]\n",
        "  columns_names = [f'Z{i + 1}' for i in range(0, 30)]\n",
        "  reduced_X.append(Z)\n",
        "\n",
        "reduced_X = pd.DataFrame(np.array(reduced_X), columns = columns_names)"
      ]
    },
    {
      "cell_type": "code",
      "execution_count": 50,
      "metadata": {
        "id": "hldNx8fXNnMp"
      },
      "outputs": [],
      "source": [
        "d = []\n",
        "S_i = la.inv(reduced_X.cov())\n",
        "median = reduced_X.median()\n",
        "for row in reduced_X.to_numpy():\n",
        "    d.append(mahalanobis(row, median, S_i))\n",
        "distances = pd.Series(d)"
      ]
    },
    {
      "cell_type": "code",
      "execution_count": 51,
      "metadata": {
        "id": "CTmysYAHNvc5"
      },
      "outputs": [],
      "source": [
        "outliers = distances[distances > np.percentile(distances, 91.5)]\n"
      ]
    },
    {
      "cell_type": "code",
      "execution_count": 52,
      "metadata": {
        "colab": {
          "base_uri": "https://localhost:8080/",
          "height": 510
        },
        "id": "wa-E7O0yN3A1",
        "outputId": "fb558d73-87ac-4297-a96f-c69103354c1b"
      },
      "outputs": [
        {
          "name": "stderr",
          "output_type": "stream",
          "text": [
            "<ipython-input-52-5e629884acfe>:3: SettingWithCopyWarning: \n",
            "A value is trying to be set on a copy of a slice from a DataFrame\n",
            "\n",
            "See the caveats in the documentation: https://pandas.pydata.org/pandas-docs/stable/user_guide/indexing.html#returning-a-view-versus-a-copy\n",
            "  reduced_X.predict[i] = 1\n"
          ]
        },
        {
          "data": {
            "text/html": [
              "<div>\n",
              "<style scoped>\n",
              "    .dataframe tbody tr th:only-of-type {\n",
              "        vertical-align: middle;\n",
              "    }\n",
              "\n",
              "    .dataframe tbody tr th {\n",
              "        vertical-align: top;\n",
              "    }\n",
              "\n",
              "    .dataframe thead th {\n",
              "        text-align: right;\n",
              "    }\n",
              "</style>\n",
              "<table border=\"1\" class=\"dataframe\">\n",
              "  <thead>\n",
              "    <tr style=\"text-align: right;\">\n",
              "      <th></th>\n",
              "      <th>Z1</th>\n",
              "      <th>Z2</th>\n",
              "      <th>Z3</th>\n",
              "      <th>Z4</th>\n",
              "      <th>Z5</th>\n",
              "      <th>Z6</th>\n",
              "      <th>Z7</th>\n",
              "      <th>Z8</th>\n",
              "      <th>Z9</th>\n",
              "      <th>Z10</th>\n",
              "      <th>...</th>\n",
              "      <th>Z23</th>\n",
              "      <th>Z24</th>\n",
              "      <th>Z25</th>\n",
              "      <th>Z26</th>\n",
              "      <th>Z27</th>\n",
              "      <th>Z28</th>\n",
              "      <th>Z29</th>\n",
              "      <th>Z30</th>\n",
              "      <th>predict</th>\n",
              "      <th>isFraud</th>\n",
              "    </tr>\n",
              "  </thead>\n",
              "  <tbody>\n",
              "    <tr>\n",
              "      <th>0</th>\n",
              "      <td>4.030112</td>\n",
              "      <td>0.613749</td>\n",
              "      <td>-0.088251</td>\n",
              "      <td>-1.953125</td>\n",
              "      <td>0.997087</td>\n",
              "      <td>-2.147406</td>\n",
              "      <td>-0.405212</td>\n",
              "      <td>-0.179118</td>\n",
              "      <td>-0.025118</td>\n",
              "      <td>-0.142400</td>\n",
              "      <td>...</td>\n",
              "      <td>-0.594758</td>\n",
              "      <td>0.499388</td>\n",
              "      <td>0.310310</td>\n",
              "      <td>0.534613</td>\n",
              "      <td>0.635837</td>\n",
              "      <td>-0.676830</td>\n",
              "      <td>0.494064</td>\n",
              "      <td>-0.061804</td>\n",
              "      <td>0</td>\n",
              "      <td>0</td>\n",
              "    </tr>\n",
              "    <tr>\n",
              "      <th>1</th>\n",
              "      <td>-1.369065</td>\n",
              "      <td>-0.404033</td>\n",
              "      <td>-2.582649</td>\n",
              "      <td>1.800864</td>\n",
              "      <td>0.458748</td>\n",
              "      <td>1.118063</td>\n",
              "      <td>-1.124127</td>\n",
              "      <td>-0.342163</td>\n",
              "      <td>-0.578756</td>\n",
              "      <td>-2.024368</td>\n",
              "      <td>...</td>\n",
              "      <td>1.036428</td>\n",
              "      <td>1.268309</td>\n",
              "      <td>-0.501352</td>\n",
              "      <td>-0.015133</td>\n",
              "      <td>0.229772</td>\n",
              "      <td>0.763781</td>\n",
              "      <td>-0.238509</td>\n",
              "      <td>0.186483</td>\n",
              "      <td>0</td>\n",
              "      <td>0</td>\n",
              "    </tr>\n",
              "    <tr>\n",
              "      <th>2</th>\n",
              "      <td>4.351594</td>\n",
              "      <td>0.670487</td>\n",
              "      <td>-0.408545</td>\n",
              "      <td>-3.429050</td>\n",
              "      <td>-0.235766</td>\n",
              "      <td>0.620055</td>\n",
              "      <td>-1.024959</td>\n",
              "      <td>0.137220</td>\n",
              "      <td>0.026811</td>\n",
              "      <td>1.086383</td>\n",
              "      <td>...</td>\n",
              "      <td>0.328172</td>\n",
              "      <td>-0.556196</td>\n",
              "      <td>0.452644</td>\n",
              "      <td>1.045269</td>\n",
              "      <td>1.214327</td>\n",
              "      <td>-0.862078</td>\n",
              "      <td>0.748534</td>\n",
              "      <td>-0.119492</td>\n",
              "      <td>0</td>\n",
              "      <td>0</td>\n",
              "    </tr>\n",
              "    <tr>\n",
              "      <th>3</th>\n",
              "      <td>-1.115859</td>\n",
              "      <td>-0.350217</td>\n",
              "      <td>-2.470215</td>\n",
              "      <td>1.580289</td>\n",
              "      <td>0.589497</td>\n",
              "      <td>-0.038024</td>\n",
              "      <td>1.768462</td>\n",
              "      <td>8.937583</td>\n",
              "      <td>-1.133337</td>\n",
              "      <td>-1.256421</td>\n",
              "      <td>...</td>\n",
              "      <td>-1.575243</td>\n",
              "      <td>-0.237837</td>\n",
              "      <td>-0.101426</td>\n",
              "      <td>0.269146</td>\n",
              "      <td>1.363620</td>\n",
              "      <td>-0.958271</td>\n",
              "      <td>-0.398149</td>\n",
              "      <td>0.674756</td>\n",
              "      <td>0</td>\n",
              "      <td>0</td>\n",
              "    </tr>\n",
              "    <tr>\n",
              "      <th>4</th>\n",
              "      <td>-1.554116</td>\n",
              "      <td>-0.139809</td>\n",
              "      <td>-1.205703</td>\n",
              "      <td>1.019043</td>\n",
              "      <td>0.517757</td>\n",
              "      <td>1.906355</td>\n",
              "      <td>0.659539</td>\n",
              "      <td>0.167220</td>\n",
              "      <td>0.129365</td>\n",
              "      <td>-0.759112</td>\n",
              "      <td>...</td>\n",
              "      <td>0.618727</td>\n",
              "      <td>0.123207</td>\n",
              "      <td>-1.084485</td>\n",
              "      <td>-1.974435</td>\n",
              "      <td>-0.055828</td>\n",
              "      <td>0.981855</td>\n",
              "      <td>-0.748336</td>\n",
              "      <td>-0.004643</td>\n",
              "      <td>0</td>\n",
              "      <td>0</td>\n",
              "    </tr>\n",
              "    <tr>\n",
              "      <th>...</th>\n",
              "      <td>...</td>\n",
              "      <td>...</td>\n",
              "      <td>...</td>\n",
              "      <td>...</td>\n",
              "      <td>...</td>\n",
              "      <td>...</td>\n",
              "      <td>...</td>\n",
              "      <td>...</td>\n",
              "      <td>...</td>\n",
              "      <td>...</td>\n",
              "      <td>...</td>\n",
              "      <td>...</td>\n",
              "      <td>...</td>\n",
              "      <td>...</td>\n",
              "      <td>...</td>\n",
              "      <td>...</td>\n",
              "      <td>...</td>\n",
              "      <td>...</td>\n",
              "      <td>...</td>\n",
              "      <td>...</td>\n",
              "      <td>...</td>\n",
              "    </tr>\n",
              "    <tr>\n",
              "      <th>102795</th>\n",
              "      <td>13.395633</td>\n",
              "      <td>0.691108</td>\n",
              "      <td>-3.941100</td>\n",
              "      <td>-0.873612</td>\n",
              "      <td>0.107037</td>\n",
              "      <td>-6.366004</td>\n",
              "      <td>1.354358</td>\n",
              "      <td>-2.738094</td>\n",
              "      <td>-0.461930</td>\n",
              "      <td>-6.575819</td>\n",
              "      <td>...</td>\n",
              "      <td>1.163599</td>\n",
              "      <td>1.250641</td>\n",
              "      <td>-2.772048</td>\n",
              "      <td>1.698376</td>\n",
              "      <td>2.347017</td>\n",
              "      <td>-0.765105</td>\n",
              "      <td>-1.371349</td>\n",
              "      <td>-0.889128</td>\n",
              "      <td>1</td>\n",
              "      <td>0</td>\n",
              "    </tr>\n",
              "    <tr>\n",
              "      <th>102796</th>\n",
              "      <td>10.350589</td>\n",
              "      <td>0.385836</td>\n",
              "      <td>-5.384304</td>\n",
              "      <td>-3.175562</td>\n",
              "      <td>-1.732373</td>\n",
              "      <td>2.569703</td>\n",
              "      <td>-0.060125</td>\n",
              "      <td>-1.784562</td>\n",
              "      <td>-0.200032</td>\n",
              "      <td>-1.640758</td>\n",
              "      <td>...</td>\n",
              "      <td>1.597747</td>\n",
              "      <td>0.655891</td>\n",
              "      <td>-3.507410</td>\n",
              "      <td>1.846424</td>\n",
              "      <td>0.433369</td>\n",
              "      <td>-0.058318</td>\n",
              "      <td>-0.710934</td>\n",
              "      <td>-1.291238</td>\n",
              "      <td>0</td>\n",
              "      <td>0</td>\n",
              "    </tr>\n",
              "    <tr>\n",
              "      <th>102797</th>\n",
              "      <td>-0.263510</td>\n",
              "      <td>-0.061175</td>\n",
              "      <td>-1.553438</td>\n",
              "      <td>0.964585</td>\n",
              "      <td>1.980083</td>\n",
              "      <td>-1.866315</td>\n",
              "      <td>-0.345240</td>\n",
              "      <td>-0.019409</td>\n",
              "      <td>-0.008107</td>\n",
              "      <td>2.153272</td>\n",
              "      <td>...</td>\n",
              "      <td>-1.407182</td>\n",
              "      <td>-1.019263</td>\n",
              "      <td>0.569145</td>\n",
              "      <td>0.242824</td>\n",
              "      <td>-1.228826</td>\n",
              "      <td>-0.393037</td>\n",
              "      <td>0.014164</td>\n",
              "      <td>0.204684</td>\n",
              "      <td>0</td>\n",
              "      <td>0</td>\n",
              "    </tr>\n",
              "    <tr>\n",
              "      <th>102798</th>\n",
              "      <td>14.454841</td>\n",
              "      <td>1.142728</td>\n",
              "      <td>-2.350810</td>\n",
              "      <td>-2.360707</td>\n",
              "      <td>-0.950319</td>\n",
              "      <td>-8.722382</td>\n",
              "      <td>1.218564</td>\n",
              "      <td>-0.897550</td>\n",
              "      <td>-0.117395</td>\n",
              "      <td>-4.222708</td>\n",
              "      <td>...</td>\n",
              "      <td>1.918497</td>\n",
              "      <td>0.108845</td>\n",
              "      <td>0.138884</td>\n",
              "      <td>-0.870813</td>\n",
              "      <td>0.359941</td>\n",
              "      <td>-0.538750</td>\n",
              "      <td>-0.569430</td>\n",
              "      <td>0.684988</td>\n",
              "      <td>1</td>\n",
              "      <td>0</td>\n",
              "    </tr>\n",
              "    <tr>\n",
              "      <th>102799</th>\n",
              "      <td>-1.748626</td>\n",
              "      <td>-0.188655</td>\n",
              "      <td>-1.752616</td>\n",
              "      <td>2.510267</td>\n",
              "      <td>-0.164116</td>\n",
              "      <td>-0.076591</td>\n",
              "      <td>0.529067</td>\n",
              "      <td>-0.037460</td>\n",
              "      <td>0.099057</td>\n",
              "      <td>1.750119</td>\n",
              "      <td>...</td>\n",
              "      <td>0.649449</td>\n",
              "      <td>1.507205</td>\n",
              "      <td>0.498341</td>\n",
              "      <td>-0.604678</td>\n",
              "      <td>1.249176</td>\n",
              "      <td>-1.443464</td>\n",
              "      <td>0.331829</td>\n",
              "      <td>0.161185</td>\n",
              "      <td>0</td>\n",
              "      <td>0</td>\n",
              "    </tr>\n",
              "  </tbody>\n",
              "</table>\n",
              "<p>102800 rows × 32 columns</p>\n",
              "</div>"
            ],
            "text/plain": [
              "               Z1        Z2        Z3        Z4        Z5        Z6        Z7  \\\n",
              "0        4.030112  0.613749 -0.088251 -1.953125  0.997087 -2.147406 -0.405212   \n",
              "1       -1.369065 -0.404033 -2.582649  1.800864  0.458748  1.118063 -1.124127   \n",
              "2        4.351594  0.670487 -0.408545 -3.429050 -0.235766  0.620055 -1.024959   \n",
              "3       -1.115859 -0.350217 -2.470215  1.580289  0.589497 -0.038024  1.768462   \n",
              "4       -1.554116 -0.139809 -1.205703  1.019043  0.517757  1.906355  0.659539   \n",
              "...           ...       ...       ...       ...       ...       ...       ...   \n",
              "102795  13.395633  0.691108 -3.941100 -0.873612  0.107037 -6.366004  1.354358   \n",
              "102796  10.350589  0.385836 -5.384304 -3.175562 -1.732373  2.569703 -0.060125   \n",
              "102797  -0.263510 -0.061175 -1.553438  0.964585  1.980083 -1.866315 -0.345240   \n",
              "102798  14.454841  1.142728 -2.350810 -2.360707 -0.950319 -8.722382  1.218564   \n",
              "102799  -1.748626 -0.188655 -1.752616  2.510267 -0.164116 -0.076591  0.529067   \n",
              "\n",
              "              Z8        Z9       Z10  ...       Z23       Z24       Z25  \\\n",
              "0      -0.179118 -0.025118 -0.142400  ... -0.594758  0.499388  0.310310   \n",
              "1      -0.342163 -0.578756 -2.024368  ...  1.036428  1.268309 -0.501352   \n",
              "2       0.137220  0.026811  1.086383  ...  0.328172 -0.556196  0.452644   \n",
              "3       8.937583 -1.133337 -1.256421  ... -1.575243 -0.237837 -0.101426   \n",
              "4       0.167220  0.129365 -0.759112  ...  0.618727  0.123207 -1.084485   \n",
              "...          ...       ...       ...  ...       ...       ...       ...   \n",
              "102795 -2.738094 -0.461930 -6.575819  ...  1.163599  1.250641 -2.772048   \n",
              "102796 -1.784562 -0.200032 -1.640758  ...  1.597747  0.655891 -3.507410   \n",
              "102797 -0.019409 -0.008107  2.153272  ... -1.407182 -1.019263  0.569145   \n",
              "102798 -0.897550 -0.117395 -4.222708  ...  1.918497  0.108845  0.138884   \n",
              "102799 -0.037460  0.099057  1.750119  ...  0.649449  1.507205  0.498341   \n",
              "\n",
              "             Z26       Z27       Z28       Z29       Z30  predict  isFraud  \n",
              "0       0.534613  0.635837 -0.676830  0.494064 -0.061804        0        0  \n",
              "1      -0.015133  0.229772  0.763781 -0.238509  0.186483        0        0  \n",
              "2       1.045269  1.214327 -0.862078  0.748534 -0.119492        0        0  \n",
              "3       0.269146  1.363620 -0.958271 -0.398149  0.674756        0        0  \n",
              "4      -1.974435 -0.055828  0.981855 -0.748336 -0.004643        0        0  \n",
              "...          ...       ...       ...       ...       ...      ...      ...  \n",
              "102795  1.698376  2.347017 -0.765105 -1.371349 -0.889128        1        0  \n",
              "102796  1.846424  0.433369 -0.058318 -0.710934 -1.291238        0        0  \n",
              "102797  0.242824 -1.228826 -0.393037  0.014164  0.204684        0        0  \n",
              "102798 -0.870813  0.359941 -0.538750 -0.569430  0.684988        1        0  \n",
              "102799 -0.604678  1.249176 -1.443464  0.331829  0.161185        0        0  \n",
              "\n",
              "[102800 rows x 32 columns]"
            ]
          },
          "execution_count": 52,
          "metadata": {},
          "output_type": "execute_result"
        }
      ],
      "source": [
        "reduced_X['predict'] = 0\n",
        "for i in outliers.index:\n",
        "  reduced_X.predict[i] = 1\n",
        "reduced_X['isFraud'] = df.isFraud\n",
        "reduced_X"
      ]
    },
    {
      "cell_type": "code",
      "execution_count": 53,
      "metadata": {
        "colab": {
          "base_uri": "https://localhost:8080/"
        },
        "id": "2hkvXA8sOATk",
        "outputId": "61d69ef6-1b1f-41f0-9798-ea7a435d8ff0"
      },
      "outputs": [
        {
          "data": {
            "text/plain": [
              "array([[86586,  7469],\n",
              "       [ 7476,  1269]], dtype=int64)"
            ]
          },
          "execution_count": 53,
          "metadata": {},
          "output_type": "execute_result"
        }
      ],
      "source": [
        "confusion_matrix(y_true=reduced_X.isFraud.to_numpy(), y_pred=reduced_X.predict.to_numpy())\n"
      ]
    },
    {
      "cell_type": "markdown",
      "metadata": {
        "id": "e8WFaeIVP7yS"
      },
      "source": [
        "# Modelos supervisados\n",
        "\n",
        "Primero debemos lidiar el desbalanceo de datos"
      ]
    },
    {
      "cell_type": "markdown",
      "metadata": {
        "id": "w6TbKqU-RgWr"
      },
      "source": [
        "## SMOTE"
      ]
    },
    {
      "cell_type": "code",
      "execution_count": 54,
      "metadata": {
        "id": "XrfCGvf8FmXk"
      },
      "outputs": [],
      "source": [
        "def multiple_corr(X):\n",
        "    S = X.cov()\n",
        "    S_inv = la.inv(S)\n",
        "    R2 = 1 - 1 / (np.diag(S) * np.diag(S_inv))\n",
        "    return pd.Series(R2, index=X.columns)"
      ]
    },
    {
      "cell_type": "code",
      "execution_count": 55,
      "metadata": {
        "id": "GsBPQcwneJ-f"
      },
      "outputs": [],
      "source": [
        "X_c = X.copy()\n",
        "while True:\n",
        "    R2 = multiple_corr(X_c).sort_values(ascending=False)\n",
        "    if R2[0] > 0.7:\n",
        "        X_c.drop(R2.index[0], axis=1, inplace=True)\n",
        "    else:\n",
        "        break"
      ]
    },
    {
      "cell_type": "code",
      "execution_count": 56,
      "metadata": {
        "id": "-gPscQf2GEIq"
      },
      "outputs": [],
      "source": [
        "data = pd.concat([X_c, df.isFraud], axis=1)\n",
        "data_train, data_test = train_test_split(data, train_size=0.7, random_state=42)"
      ]
    },
    {
      "cell_type": "code",
      "execution_count": 57,
      "metadata": {
        "id": "pGl2a6ZvOGB-"
      },
      "outputs": [],
      "source": [
        "sm = SMOTE(random_state = 42)\n",
        "X_res, y_res = sm.fit_resample(data_train.drop('isFraud', axis=1), data_train.isFraud)"
      ]
    },
    {
      "cell_type": "code",
      "execution_count": 58,
      "metadata": {
        "colab": {
          "base_uri": "https://localhost:8080/",
          "height": 488
        },
        "id": "_mH1kRMTYW6Q",
        "outputId": "f30a6ef3-5909-40d6-cc36-6cfdcbce7555"
      },
      "outputs": [
        {
          "data": {
            "text/html": [
              "<div>\n",
              "<style scoped>\n",
              "    .dataframe tbody tr th:only-of-type {\n",
              "        vertical-align: middle;\n",
              "    }\n",
              "\n",
              "    .dataframe tbody tr th {\n",
              "        vertical-align: top;\n",
              "    }\n",
              "\n",
              "    .dataframe thead th {\n",
              "        text-align: right;\n",
              "    }\n",
              "</style>\n",
              "<table border=\"1\" class=\"dataframe\">\n",
              "  <thead>\n",
              "    <tr style=\"text-align: right;\">\n",
              "      <th></th>\n",
              "      <th>id_01</th>\n",
              "      <th>id_02</th>\n",
              "      <th>id_05</th>\n",
              "      <th>id_06</th>\n",
              "      <th>id_19</th>\n",
              "      <th>id_20</th>\n",
              "      <th>TransactionAmt</th>\n",
              "      <th>card1</th>\n",
              "      <th>card2</th>\n",
              "      <th>card3</th>\n",
              "      <th>...</th>\n",
              "      <th>R_emaildomain_comcast</th>\n",
              "      <th>R_emaildomain_icloud</th>\n",
              "      <th>R_emaildomain_live</th>\n",
              "      <th>R_emaildomain_msn</th>\n",
              "      <th>R_emaildomain_other</th>\n",
              "      <th>R_emaildomain_outlook</th>\n",
              "      <th>R_emaildomain_sbcglobal</th>\n",
              "      <th>R_emaildomain_verizon</th>\n",
              "      <th>R_emaildomain_yahoo</th>\n",
              "      <th>isFraud</th>\n",
              "    </tr>\n",
              "  </thead>\n",
              "  <tbody>\n",
              "    <tr>\n",
              "      <th>0</th>\n",
              "      <td>0.358838</td>\n",
              "      <td>-0.798808</td>\n",
              "      <td>-0.301125</td>\n",
              "      <td>0.360888</td>\n",
              "      <td>-0.591719</td>\n",
              "      <td>-0.622561</td>\n",
              "      <td>-0.257248</td>\n",
              "      <td>-0.042453</td>\n",
              "      <td>-1.793494</td>\n",
              "      <td>1.104658</td>\n",
              "      <td>...</td>\n",
              "      <td>0.0</td>\n",
              "      <td>0.0</td>\n",
              "      <td>0.0</td>\n",
              "      <td>0.0</td>\n",
              "      <td>0.0</td>\n",
              "      <td>0.0</td>\n",
              "      <td>0.0</td>\n",
              "      <td>0.000000</td>\n",
              "      <td>0.0</td>\n",
              "      <td>1</td>\n",
              "    </tr>\n",
              "    <tr>\n",
              "      <th>1</th>\n",
              "      <td>0.017014</td>\n",
              "      <td>0.563205</td>\n",
              "      <td>-0.301125</td>\n",
              "      <td>-0.088505</td>\n",
              "      <td>-1.406504</td>\n",
              "      <td>1.085285</td>\n",
              "      <td>0.053685</td>\n",
              "      <td>-0.770238</td>\n",
              "      <td>-1.016432</td>\n",
              "      <td>-2.822354</td>\n",
              "      <td>...</td>\n",
              "      <td>0.0</td>\n",
              "      <td>0.0</td>\n",
              "      <td>0.0</td>\n",
              "      <td>0.0</td>\n",
              "      <td>0.0</td>\n",
              "      <td>0.0</td>\n",
              "      <td>0.0</td>\n",
              "      <td>0.000000</td>\n",
              "      <td>0.0</td>\n",
              "      <td>0</td>\n",
              "    </tr>\n",
              "    <tr>\n",
              "      <th>2</th>\n",
              "      <td>0.358838</td>\n",
              "      <td>-0.922550</td>\n",
              "      <td>-0.301125</td>\n",
              "      <td>0.360888</td>\n",
              "      <td>0.367276</td>\n",
              "      <td>-1.469864</td>\n",
              "      <td>0.098129</td>\n",
              "      <td>1.035797</td>\n",
              "      <td>0.761489</td>\n",
              "      <td>-0.635158</td>\n",
              "      <td>...</td>\n",
              "      <td>0.0</td>\n",
              "      <td>0.0</td>\n",
              "      <td>0.0</td>\n",
              "      <td>0.0</td>\n",
              "      <td>0.0</td>\n",
              "      <td>0.0</td>\n",
              "      <td>0.0</td>\n",
              "      <td>0.000000</td>\n",
              "      <td>0.0</td>\n",
              "      <td>0</td>\n",
              "    </tr>\n",
              "    <tr>\n",
              "      <th>3</th>\n",
              "      <td>0.358838</td>\n",
              "      <td>-0.781059</td>\n",
              "      <td>-0.100105</td>\n",
              "      <td>-0.537899</td>\n",
              "      <td>0.028383</td>\n",
              "      <td>-1.171984</td>\n",
              "      <td>1.048005</td>\n",
              "      <td>-1.135621</td>\n",
              "      <td>0.046591</td>\n",
              "      <td>-0.635158</td>\n",
              "      <td>...</td>\n",
              "      <td>0.0</td>\n",
              "      <td>0.0</td>\n",
              "      <td>0.0</td>\n",
              "      <td>0.0</td>\n",
              "      <td>0.0</td>\n",
              "      <td>0.0</td>\n",
              "      <td>0.0</td>\n",
              "      <td>14.805059</td>\n",
              "      <td>0.0</td>\n",
              "      <td>0</td>\n",
              "    </tr>\n",
              "    <tr>\n",
              "      <th>4</th>\n",
              "      <td>0.358838</td>\n",
              "      <td>0.084822</td>\n",
              "      <td>-0.301125</td>\n",
              "      <td>0.360888</td>\n",
              "      <td>-0.591719</td>\n",
              "      <td>0.714589</td>\n",
              "      <td>-0.235942</td>\n",
              "      <td>-1.332933</td>\n",
              "      <td>0.102539</td>\n",
              "      <td>1.104658</td>\n",
              "      <td>...</td>\n",
              "      <td>0.0</td>\n",
              "      <td>0.0</td>\n",
              "      <td>0.0</td>\n",
              "      <td>0.0</td>\n",
              "      <td>0.0</td>\n",
              "      <td>0.0</td>\n",
              "      <td>0.0</td>\n",
              "      <td>0.000000</td>\n",
              "      <td>0.0</td>\n",
              "      <td>0</td>\n",
              "    </tr>\n",
              "    <tr>\n",
              "      <th>...</th>\n",
              "      <td>...</td>\n",
              "      <td>...</td>\n",
              "      <td>...</td>\n",
              "      <td>...</td>\n",
              "      <td>...</td>\n",
              "      <td>...</td>\n",
              "      <td>...</td>\n",
              "      <td>...</td>\n",
              "      <td>...</td>\n",
              "      <td>...</td>\n",
              "      <td>...</td>\n",
              "      <td>...</td>\n",
              "      <td>...</td>\n",
              "      <td>...</td>\n",
              "      <td>...</td>\n",
              "      <td>...</td>\n",
              "      <td>...</td>\n",
              "      <td>...</td>\n",
              "      <td>...</td>\n",
              "      <td>...</td>\n",
              "      <td>...</td>\n",
              "    </tr>\n",
              "    <tr>\n",
              "      <th>131641</th>\n",
              "      <td>0.358838</td>\n",
              "      <td>1.835245</td>\n",
              "      <td>-0.301125</td>\n",
              "      <td>0.360888</td>\n",
              "      <td>-1.406504</td>\n",
              "      <td>-0.490170</td>\n",
              "      <td>-0.595868</td>\n",
              "      <td>0.012245</td>\n",
              "      <td>-1.551051</td>\n",
              "      <td>1.104658</td>\n",
              "      <td>...</td>\n",
              "      <td>0.0</td>\n",
              "      <td>0.0</td>\n",
              "      <td>0.0</td>\n",
              "      <td>0.0</td>\n",
              "      <td>0.0</td>\n",
              "      <td>0.0</td>\n",
              "      <td>0.0</td>\n",
              "      <td>0.000000</td>\n",
              "      <td>0.0</td>\n",
              "      <td>1</td>\n",
              "    </tr>\n",
              "    <tr>\n",
              "      <th>131642</th>\n",
              "      <td>0.427396</td>\n",
              "      <td>-0.295658</td>\n",
              "      <td>0.020848</td>\n",
              "      <td>0.360888</td>\n",
              "      <td>-0.609073</td>\n",
              "      <td>-0.301455</td>\n",
              "      <td>-0.647839</td>\n",
              "      <td>0.490324</td>\n",
              "      <td>-1.333473</td>\n",
              "      <td>1.104658</td>\n",
              "      <td>...</td>\n",
              "      <td>0.0</td>\n",
              "      <td>0.0</td>\n",
              "      <td>0.0</td>\n",
              "      <td>0.0</td>\n",
              "      <td>0.0</td>\n",
              "      <td>0.0</td>\n",
              "      <td>0.0</td>\n",
              "      <td>0.000000</td>\n",
              "      <td>0.0</td>\n",
              "      <td>1</td>\n",
              "    </tr>\n",
              "    <tr>\n",
              "      <th>131643</th>\n",
              "      <td>-0.230477</td>\n",
              "      <td>0.388191</td>\n",
              "      <td>-0.301125</td>\n",
              "      <td>0.360888</td>\n",
              "      <td>-0.591719</td>\n",
              "      <td>-0.055394</td>\n",
              "      <td>-0.323062</td>\n",
              "      <td>1.290989</td>\n",
              "      <td>-0.419647</td>\n",
              "      <td>1.104658</td>\n",
              "      <td>...</td>\n",
              "      <td>0.0</td>\n",
              "      <td>0.0</td>\n",
              "      <td>0.0</td>\n",
              "      <td>0.0</td>\n",
              "      <td>0.0</td>\n",
              "      <td>0.0</td>\n",
              "      <td>0.0</td>\n",
              "      <td>0.000000</td>\n",
              "      <td>0.0</td>\n",
              "      <td>1</td>\n",
              "    </tr>\n",
              "    <tr>\n",
              "      <th>131644</th>\n",
              "      <td>0.358838</td>\n",
              "      <td>1.699948</td>\n",
              "      <td>-0.039985</td>\n",
              "      <td>0.360888</td>\n",
              "      <td>-1.175968</td>\n",
              "      <td>1.107926</td>\n",
              "      <td>-0.187286</td>\n",
              "      <td>-1.012421</td>\n",
              "      <td>0.366540</td>\n",
              "      <td>1.104658</td>\n",
              "      <td>...</td>\n",
              "      <td>0.0</td>\n",
              "      <td>0.0</td>\n",
              "      <td>0.0</td>\n",
              "      <td>0.0</td>\n",
              "      <td>0.0</td>\n",
              "      <td>0.0</td>\n",
              "      <td>0.0</td>\n",
              "      <td>0.000000</td>\n",
              "      <td>0.0</td>\n",
              "      <td>1</td>\n",
              "    </tr>\n",
              "    <tr>\n",
              "      <th>131645</th>\n",
              "      <td>0.425834</td>\n",
              "      <td>-0.162112</td>\n",
              "      <td>-0.301125</td>\n",
              "      <td>0.360888</td>\n",
              "      <td>-1.067364</td>\n",
              "      <td>-0.245351</td>\n",
              "      <td>-0.699384</td>\n",
              "      <td>-0.044243</td>\n",
              "      <td>-1.210807</td>\n",
              "      <td>1.104658</td>\n",
              "      <td>...</td>\n",
              "      <td>0.0</td>\n",
              "      <td>0.0</td>\n",
              "      <td>0.0</td>\n",
              "      <td>0.0</td>\n",
              "      <td>0.0</td>\n",
              "      <td>0.0</td>\n",
              "      <td>0.0</td>\n",
              "      <td>0.000000</td>\n",
              "      <td>0.0</td>\n",
              "      <td>1</td>\n",
              "    </tr>\n",
              "  </tbody>\n",
              "</table>\n",
              "<p>131646 rows × 61 columns</p>\n",
              "</div>"
            ],
            "text/plain": [
              "           id_01     id_02     id_05     id_06     id_19     id_20  \\\n",
              "0       0.358838 -0.798808 -0.301125  0.360888 -0.591719 -0.622561   \n",
              "1       0.017014  0.563205 -0.301125 -0.088505 -1.406504  1.085285   \n",
              "2       0.358838 -0.922550 -0.301125  0.360888  0.367276 -1.469864   \n",
              "3       0.358838 -0.781059 -0.100105 -0.537899  0.028383 -1.171984   \n",
              "4       0.358838  0.084822 -0.301125  0.360888 -0.591719  0.714589   \n",
              "...          ...       ...       ...       ...       ...       ...   \n",
              "131641  0.358838  1.835245 -0.301125  0.360888 -1.406504 -0.490170   \n",
              "131642  0.427396 -0.295658  0.020848  0.360888 -0.609073 -0.301455   \n",
              "131643 -0.230477  0.388191 -0.301125  0.360888 -0.591719 -0.055394   \n",
              "131644  0.358838  1.699948 -0.039985  0.360888 -1.175968  1.107926   \n",
              "131645  0.425834 -0.162112 -0.301125  0.360888 -1.067364 -0.245351   \n",
              "\n",
              "        TransactionAmt     card1     card2     card3  ...  \\\n",
              "0            -0.257248 -0.042453 -1.793494  1.104658  ...   \n",
              "1             0.053685 -0.770238 -1.016432 -2.822354  ...   \n",
              "2             0.098129  1.035797  0.761489 -0.635158  ...   \n",
              "3             1.048005 -1.135621  0.046591 -0.635158  ...   \n",
              "4            -0.235942 -1.332933  0.102539  1.104658  ...   \n",
              "...                ...       ...       ...       ...  ...   \n",
              "131641       -0.595868  0.012245 -1.551051  1.104658  ...   \n",
              "131642       -0.647839  0.490324 -1.333473  1.104658  ...   \n",
              "131643       -0.323062  1.290989 -0.419647  1.104658  ...   \n",
              "131644       -0.187286 -1.012421  0.366540  1.104658  ...   \n",
              "131645       -0.699384 -0.044243 -1.210807  1.104658  ...   \n",
              "\n",
              "        R_emaildomain_comcast  R_emaildomain_icloud  R_emaildomain_live  \\\n",
              "0                         0.0                   0.0                 0.0   \n",
              "1                         0.0                   0.0                 0.0   \n",
              "2                         0.0                   0.0                 0.0   \n",
              "3                         0.0                   0.0                 0.0   \n",
              "4                         0.0                   0.0                 0.0   \n",
              "...                       ...                   ...                 ...   \n",
              "131641                    0.0                   0.0                 0.0   \n",
              "131642                    0.0                   0.0                 0.0   \n",
              "131643                    0.0                   0.0                 0.0   \n",
              "131644                    0.0                   0.0                 0.0   \n",
              "131645                    0.0                   0.0                 0.0   \n",
              "\n",
              "        R_emaildomain_msn  R_emaildomain_other  R_emaildomain_outlook  \\\n",
              "0                     0.0                  0.0                    0.0   \n",
              "1                     0.0                  0.0                    0.0   \n",
              "2                     0.0                  0.0                    0.0   \n",
              "3                     0.0                  0.0                    0.0   \n",
              "4                     0.0                  0.0                    0.0   \n",
              "...                   ...                  ...                    ...   \n",
              "131641                0.0                  0.0                    0.0   \n",
              "131642                0.0                  0.0                    0.0   \n",
              "131643                0.0                  0.0                    0.0   \n",
              "131644                0.0                  0.0                    0.0   \n",
              "131645                0.0                  0.0                    0.0   \n",
              "\n",
              "        R_emaildomain_sbcglobal  R_emaildomain_verizon  R_emaildomain_yahoo  \\\n",
              "0                           0.0               0.000000                  0.0   \n",
              "1                           0.0               0.000000                  0.0   \n",
              "2                           0.0               0.000000                  0.0   \n",
              "3                           0.0              14.805059                  0.0   \n",
              "4                           0.0               0.000000                  0.0   \n",
              "...                         ...                    ...                  ...   \n",
              "131641                      0.0               0.000000                  0.0   \n",
              "131642                      0.0               0.000000                  0.0   \n",
              "131643                      0.0               0.000000                  0.0   \n",
              "131644                      0.0               0.000000                  0.0   \n",
              "131645                      0.0               0.000000                  0.0   \n",
              "\n",
              "        isFraud  \n",
              "0             1  \n",
              "1             0  \n",
              "2             0  \n",
              "3             0  \n",
              "4             0  \n",
              "...         ...  \n",
              "131641        1  \n",
              "131642        1  \n",
              "131643        1  \n",
              "131644        1  \n",
              "131645        1  \n",
              "\n",
              "[131646 rows x 61 columns]"
            ]
          },
          "execution_count": 58,
          "metadata": {},
          "output_type": "execute_result"
        }
      ],
      "source": [
        "balanced_df_train = pd.concat([X_res, y_res], axis=1)\n",
        "balanced_df_train"
      ]
    },
    {
      "cell_type": "code",
      "execution_count": 59,
      "metadata": {
        "colab": {
          "base_uri": "https://localhost:8080/"
        },
        "id": "fmbpZtfuY4Fl",
        "outputId": "8519a347-a264-4d54-cd02-3ca519cbb708"
      },
      "outputs": [
        {
          "data": {
            "text/plain": [
              "0    65823\n",
              "1    65823\n",
              "Name: isFraud, dtype: int64"
            ]
          },
          "execution_count": 59,
          "metadata": {},
          "output_type": "execute_result"
        }
      ],
      "source": [
        "balanced_df_train.isFraud.value_counts()"
      ]
    },
    {
      "cell_type": "code",
      "execution_count": 60,
      "metadata": {
        "id": "XHBnYW10ZyIL"
      },
      "outputs": [],
      "source": [
        "logit = LogisticRegressionCV(Cs=20, scoring='precision', solver='sag', max_iter=752, n_jobs=6)"
      ]
    },
    {
      "cell_type": "code",
      "execution_count": 61,
      "metadata": {
        "id": "Oa52qBjyd16s"
      },
      "outputs": [],
      "source": [
        "logit_fit = logit.fit(X_res, y_res)"
      ]
    },
    {
      "cell_type": "code",
      "execution_count": 62,
      "metadata": {
        "id": "Tvi95dWM87Vc"
      },
      "outputs": [],
      "source": [
        "y_pred_train = logit_fit.predict(X_res)"
      ]
    },
    {
      "cell_type": "code",
      "execution_count": 63,
      "metadata": {
        "colab": {
          "base_uri": "https://localhost:8080/"
        },
        "id": "qU8wTDQ2DViC",
        "outputId": "d6a0a4bd-f4a4-4042-f910-40b53c62b089"
      },
      "outputs": [
        {
          "data": {
            "text/plain": [
              "array([[52615, 13208],\n",
              "       [15430, 50393]], dtype=int64)"
            ]
          },
          "execution_count": 63,
          "metadata": {},
          "output_type": "execute_result"
        }
      ],
      "source": [
        "confusion_matrix(y_res, y_pred_train)\n"
      ]
    },
    {
      "cell_type": "code",
      "execution_count": 64,
      "metadata": {
        "id": "ZaGxI1fWD7_4"
      },
      "outputs": [],
      "source": [
        "y_pred_test = logit_fit.predict(data_test.drop('isFraud', axis=1))"
      ]
    },
    {
      "cell_type": "code",
      "execution_count": 65,
      "metadata": {
        "colab": {
          "base_uri": "https://localhost:8080/"
        },
        "id": "J5gpw575WhvL",
        "outputId": "634fc5fa-4cd4-4990-ae16-d2345c38807a"
      },
      "outputs": [
        {
          "data": {
            "text/plain": [
              "array([[22578,  5654],\n",
              "       [  651,  1957]], dtype=int64)"
            ]
          },
          "execution_count": 65,
          "metadata": {},
          "output_type": "execute_result"
        }
      ],
      "source": [
        "confusion_matrix(data_test.isFraud, y_pred_test)\n"
      ]
    },
    {
      "cell_type": "markdown",
      "metadata": {
        "id": "vwF4NtTAnvB4"
      },
      "source": [
        "## KNN"
      ]
    },
    {
      "cell_type": "code",
      "execution_count": 67,
      "metadata": {
        "colab": {
          "background_save": true
        },
        "id": "3OJwiF1JWn-V"
      },
      "outputs": [],
      "source": [
        "knn = KNeighborsClassifier(n_jobs=8)\n",
        "parameters = {'n_neighbors': range(1, 21)}\n",
        "clf = GridSearchCV(knn, parameters)\n",
        "clf_fit = clf.fit(X_res, y_res)"
      ]
    },
    {
      "cell_type": "code",
      "execution_count": 68,
      "metadata": {
        "colab": {
          "background_save": true
        },
        "id": "mDJxfzXtpqDv",
        "outputId": "eb76dc5a-2431-4be8-d6d6-d25455e7465b"
      },
      "outputs": [
        {
          "data": {
            "text/plain": [
              "{'n_neighbors': 2}"
            ]
          },
          "execution_count": 68,
          "metadata": {},
          "output_type": "execute_result"
        }
      ],
      "source": [
        "clf_fit.best_params_"
      ]
    },
    {
      "cell_type": "code",
      "execution_count": 69,
      "metadata": {
        "colab": {
          "background_save": true
        },
        "id": "CaU039lugDYl",
        "outputId": "b2e8e747-bb41-473f-e7cd-a1395ed74314"
      },
      "outputs": [
        {
          "data": {
            "text/plain": [
              "array([[65823,     0],\n",
              "       [   66, 65757]], dtype=int64)"
            ]
          },
          "execution_count": 69,
          "metadata": {},
          "output_type": "execute_result"
        }
      ],
      "source": [
        "y_pred_train = clf_fit.predict(X_res)\n",
        "confusion_matrix(y_res, y_pred_train)"
      ]
    },
    {
      "cell_type": "code",
      "execution_count": 70,
      "metadata": {
        "colab": {
          "background_save": true
        },
        "id": "QuSudbv5kt7M"
      },
      "outputs": [],
      "source": [
        "y_pred_test = clf_fit.predict(data_test.drop('isFraud', axis=1))"
      ]
    },
    {
      "cell_type": "code",
      "execution_count": 71,
      "metadata": {
        "colab": {
          "background_save": true
        },
        "id": "eM4DGUG2mv_U",
        "outputId": "aab29ec6-ef9f-4e16-f620-d0b79c7ef446"
      },
      "outputs": [
        {
          "data": {
            "text/plain": [
              "array([[26972,  1260],\n",
              "       [  961,  1647]], dtype=int64)"
            ]
          },
          "execution_count": 71,
          "metadata": {},
          "output_type": "execute_result"
        }
      ],
      "source": [
        "confusion_matrix(data_test.isFraud, y_pred_test)\n"
      ]
    },
    {
      "cell_type": "markdown",
      "metadata": {
        "id": "gMw59YeMnzl3"
      },
      "source": [
        "## Random Forest"
      ]
    },
    {
      "cell_type": "code",
      "execution_count": 81,
      "metadata": {
        "id": "SuUcizkmn0t3"
      },
      "outputs": [],
      "source": [
        "random_forest = RandomForestClassifier(criterion='entropy', random_state=42, n_jobs=10)\n",
        "parameters = {\n",
        "    'n_estimators': range(100, 301, 50), \n",
        "    'max_depth': range(2,9),\n",
        "    'min_samples_leaf': range(2, 6),\n",
        "    'min_samples_split': range(2, 6)\n",
        "    }\n",
        "forest_clf = GridSearchCV(random_forest, parameters)\n",
        "forest_clf_fit = forest_clf.fit(X_res, y_res)"
      ]
    },
    {
      "cell_type": "code",
      "execution_count": 82,
      "metadata": {
        "id": "OEOC9D41isd4"
      },
      "outputs": [
        {
          "data": {
            "text/plain": [
              "{'max_depth': 8,\n",
              " 'min_samples_leaf': 2,\n",
              " 'min_samples_split': 5,\n",
              " 'n_estimators': 150}"
            ]
          },
          "execution_count": 82,
          "metadata": {},
          "output_type": "execute_result"
        }
      ],
      "source": [
        "forest_clf_fit.best_params_"
      ]
    },
    {
      "cell_type": "code",
      "execution_count": 83,
      "metadata": {
        "id": "RqJVh0dZizlG"
      },
      "outputs": [],
      "source": [
        "y_pred_train = forest_clf_fit.predict(X_res)"
      ]
    },
    {
      "cell_type": "code",
      "execution_count": 84,
      "metadata": {
        "id": "0PklbsKni-sw"
      },
      "outputs": [
        {
          "data": {
            "text/plain": [
              "array([[61261,  4562],\n",
              "       [ 6503, 59320]], dtype=int64)"
            ]
          },
          "execution_count": 84,
          "metadata": {},
          "output_type": "execute_result"
        }
      ],
      "source": [
        "confusion_matrix(y_res, y_pred_train)"
      ]
    },
    {
      "cell_type": "code",
      "execution_count": 97,
      "metadata": {
        "id": "iQtXhOdTi0Yf"
      },
      "outputs": [],
      "source": [
        "y_pred_test = forest_clf_fit.predict(data_test.drop('isFraud', axis=1))"
      ]
    },
    {
      "cell_type": "code",
      "execution_count": 98,
      "metadata": {
        "id": "Lph42ESGi0yF"
      },
      "outputs": [
        {
          "data": {
            "text/plain": [
              "array([[26231,  2001],\n",
              "       [  839,  1769]], dtype=int64)"
            ]
          },
          "execution_count": 98,
          "metadata": {},
          "output_type": "execute_result"
        }
      ],
      "source": [
        "confusion_matrix(data_test.isFraud, y_pred_test)\n"
      ]
    },
    {
      "cell_type": "markdown",
      "metadata": {},
      "source": [
        "## CV con recall como scoring"
      ]
    },
    {
      "cell_type": "code",
      "execution_count": null,
      "metadata": {
        "id": "XHBnYW10ZyIL"
      },
      "outputs": [],
      "source": [
        "logit2 = LogisticRegression(solver='sag', max_iter=752, n_jobs=10)\n",
        "parameters2 = {'C': np.linspace(0.05, 1, 20)}\n",
        "logit_clf2 = GridSearchCV(logit2, parameters2, scoring='recall')\n",
        "logit_fit2 = logit_clf2.fit(X_res, y_res)"
      ]
    },
    {
      "cell_type": "code",
      "execution_count": 247,
      "metadata": {},
      "outputs": [
        {
          "data": {
            "text/plain": [
              "{'C': 0.3}"
            ]
          },
          "execution_count": 247,
          "metadata": {},
          "output_type": "execute_result"
        }
      ],
      "source": [
        "logit_fit2.best_params_"
      ]
    },
    {
      "cell_type": "code",
      "execution_count": 248,
      "metadata": {
        "id": "Tvi95dWM87Vc"
      },
      "outputs": [],
      "source": [
        "y_pred_train2 = logit_fit2.predict(X_res)"
      ]
    },
    {
      "cell_type": "code",
      "execution_count": 249,
      "metadata": {
        "colab": {
          "base_uri": "https://localhost:8080/"
        },
        "id": "qU8wTDQ2DViC",
        "outputId": "d6a0a4bd-f4a4-4042-f910-40b53c62b089"
      },
      "outputs": [
        {
          "data": {
            "text/plain": [
              "<sklearn.metrics._plot.confusion_matrix.ConfusionMatrixDisplay at 0x257eb99ee80>"
            ]
          },
          "execution_count": 249,
          "metadata": {},
          "output_type": "execute_result"
        },
        {
          "data": {
            "image/png": "[encoded data removed]",
            "text/plain": [
              "<Figure size 432x288 with 2 Axes>"
            ]
          },
          "metadata": {
            "needs_background": "light"
          },
          "output_type": "display_data"
        }
      ],
      "source": [
        "ConfusionMatrixDisplay(confusion_matrix(y_res, y_pred_train2)).plot()\n"
      ]
    },
    {
      "cell_type": "code",
      "execution_count": 250,
      "metadata": {},
      "outputs": [
        {
          "name": "stdout",
          "output_type": "stream",
          "text": [
            "Accuracy train: 0.7831533050757334\n",
            "Precision train: 0.7908370264028463\n",
            "Recall train: 0.7699436367227261\n",
            "F1-score train: 0.7802504868867728\n"
          ]
        }
      ],
      "source": [
        "print(f'Accuracy train: {accuracy_score(y_res, y_pred_train2)}')\n",
        "print(f'Precision train: {precision_score(y_res, y_pred_train2)}')\n",
        "print(f'Recall train: {recall_score(y_res, y_pred_train2)}')\n",
        "print(f'F1-score train: {f1_score(y_res, y_pred_train2)}')"
      ]
    },
    {
      "cell_type": "code",
      "execution_count": 251,
      "metadata": {
        "id": "ZaGxI1fWD7_4"
      },
      "outputs": [],
      "source": [
        "y_pred_test2 = logit_fit2.predict(data_test.drop('isFraud', axis=1))"
      ]
    },
    {
      "cell_type": "code",
      "execution_count": 252,
      "metadata": {
        "colab": {
          "base_uri": "https://localhost:8080/"
        },
        "id": "J5gpw575WhvL",
        "outputId": "634fc5fa-4cd4-4990-ae16-d2345c38807a"
      },
      "outputs": [
        {
          "data": {
            "text/plain": [
              "<sklearn.metrics._plot.confusion_matrix.ConfusionMatrixDisplay at 0x257835ae340>"
            ]
          },
          "execution_count": 252,
          "metadata": {},
          "output_type": "execute_result"
        },
        {
          "data": {
            "image/png": "[encoded data removed]",
            "text/plain": [
              "<Figure size 432x288 with 2 Axes>"
            ]
          },
          "metadata": {
            "needs_background": "light"
          },
          "output_type": "display_data"
        }
      ],
      "source": [
        "ConfusionMatrixDisplay(confusion_matrix(data_test.isFraud, y_pred_test2)).plot()\n"
      ]
    },
    {
      "cell_type": "code",
      "execution_count": 253,
      "metadata": {},
      "outputs": [
        {
          "name": "stdout",
          "output_type": "stream",
          "text": [
            "Accuracy test: 0.7937418936446173\n",
            "Precision test: 0.25626704766852837\n",
            "Recall test: 0.7565184049079755\n",
            "F1-score test: 0.3828466091006112\n"
          ]
        }
      ],
      "source": [
        "print(f'Accuracy test: {accuracy_score(data_test.isFraud, y_pred_test2)}')\n",
        "print(f'Precision test: {precision_score(data_test.isFraud, y_pred_test2)}')\n",
        "print(f'Recall test: {recall_score(data_test.isFraud, y_pred_test2)}')\n",
        "print(f'F1-score test: {f1_score(data_test.isFraud, y_pred_test2)}')"
      ]
    },
    {
      "cell_type": "code",
      "execution_count": 128,
      "metadata": {
        "colab": {
          "background_save": true
        },
        "id": "3OJwiF1JWn-V"
      },
      "outputs": [],
      "source": [
        "knn2 = KNeighborsClassifier(n_jobs=10)\n",
        "parameters2 = {'n_neighbors': range(1, 21)}\n",
        "clf2 = GridSearchCV(knn, parameters2, scoring='recall')\n",
        "clf_fit2 = clf2.fit(X_res, y_res)"
      ]
    },
    {
      "cell_type": "code",
      "execution_count": 254,
      "metadata": {
        "colab": {
          "background_save": true
        },
        "id": "mDJxfzXtpqDv",
        "outputId": "eb76dc5a-2431-4be8-d6d6-d25455e7465b"
      },
      "outputs": [
        {
          "data": {
            "text/plain": [
              "{'n_neighbors': 3}"
            ]
          },
          "execution_count": 254,
          "metadata": {},
          "output_type": "execute_result"
        }
      ],
      "source": [
        "clf_fit2.best_params_"
      ]
    },
    {
      "cell_type": "code",
      "execution_count": 255,
      "metadata": {
        "colab": {
          "background_save": true
        },
        "id": "CaU039lugDYl",
        "outputId": "b2e8e747-bb41-473f-e7cd-a1395ed74314"
      },
      "outputs": [],
      "source": [
        "y_pred_train2 = clf_fit2.predict(X_res)"
      ]
    },
    {
      "cell_type": "code",
      "execution_count": 256,
      "metadata": {},
      "outputs": [
        {
          "data": {
            "text/plain": [
              "<sklearn.metrics._plot.confusion_matrix.ConfusionMatrixDisplay at 0x257ebd57160>"
            ]
          },
          "execution_count": 256,
          "metadata": {},
          "output_type": "execute_result"
        },
        {
          "data": {
            "image/png": "[encoded data removed]",
            "text/plain": [
              "<Figure size 432x288 with 2 Axes>"
            ]
          },
          "metadata": {
            "needs_background": "light"
          },
          "output_type": "display_data"
        }
      ],
      "source": [
        "ConfusionMatrixDisplay(confusion_matrix(y_res, y_pred_train2)).plot()"
      ]
    },
    {
      "cell_type": "code",
      "execution_count": 257,
      "metadata": {},
      "outputs": [
        {
          "name": "stdout",
          "output_type": "stream",
          "text": [
            "Accuracy train: 0.9769837290916549\n",
            "Precision train: 0.9561654583230418\n",
            "Recall train: 0.999802500645671\n",
            "F1-score train: 0.9774972150018567\n"
          ]
        }
      ],
      "source": [
        "print(f'Accuracy train: {accuracy_score(y_res, y_pred_train2)}')\n",
        "print(f'Precision train: {precision_score(y_res, y_pred_train2)}')\n",
        "print(f'Recall train: {recall_score(y_res, y_pred_train2)}')\n",
        "print(f'F1-score train: {f1_score(y_res, y_pred_train2)}')"
      ]
    },
    {
      "cell_type": "code",
      "execution_count": 258,
      "metadata": {
        "colab": {
          "background_save": true
        },
        "id": "QuSudbv5kt7M"
      },
      "outputs": [],
      "source": [
        "y_pred_test2 = clf_fit2.predict(data_test.drop('isFraud', axis=1))"
      ]
    },
    {
      "cell_type": "code",
      "execution_count": 259,
      "metadata": {
        "colab": {
          "background_save": true
        },
        "id": "eM4DGUG2mv_U",
        "outputId": "aab29ec6-ef9f-4e16-f620-d0b79c7ef446"
      },
      "outputs": [
        {
          "data": {
            "text/plain": [
              "<sklearn.metrics._plot.confusion_matrix.ConfusionMatrixDisplay at 0x257ebfe1370>"
            ]
          },
          "execution_count": 259,
          "metadata": {},
          "output_type": "execute_result"
        },
        {
          "data": {
            "image/png": "[encoded data removed]",
            "text/plain": [
              "<Figure size 432x288 with 2 Axes>"
            ]
          },
          "metadata": {
            "needs_background": "light"
          },
          "output_type": "display_data"
        }
      ],
      "source": [
        "ConfusionMatrixDisplay(confusion_matrix(data_test.isFraud, y_pred_test2)).plot()\n"
      ]
    },
    {
      "cell_type": "code",
      "execution_count": 260,
      "metadata": {},
      "outputs": [
        {
          "name": "stdout",
          "output_type": "stream",
          "text": [
            "Accuracy test: 0.8946173800259404\n",
            "Precision test: 0.42776777677767774\n",
            "Recall test: 0.7289110429447853\n",
            "F1-score test: 0.5391378332387975\n"
          ]
        }
      ],
      "source": [
        "print(f'Accuracy test: {accuracy_score(data_test.isFraud, y_pred_test2)}')\n",
        "print(f'Precision test: {precision_score(data_test.isFraud, y_pred_test2)}')\n",
        "print(f'Recall test: {recall_score(data_test.isFraud, y_pred_test2)}')\n",
        "print(f'F1-score test: {f1_score(data_test.isFraud, y_pred_test2)}')"
      ]
    },
    {
      "cell_type": "code",
      "execution_count": 133,
      "metadata": {
        "id": "RvzNOqhO-K26"
      },
      "outputs": [],
      "source": [
        "random_forest2 = RandomForestClassifier(criterion='entropy', random_state=42, n_jobs=10)\n",
        "parameters2 = {\n",
        "    'n_estimators': range(100, 301, 50), \n",
        "    'max_depth': range(2,9),\n",
        "    'min_samples_leaf': range(2, 6),\n",
        "    'min_samples_split': range(2, 6)\n",
        "    }\n",
        "forest_clf2 = GridSearchCV(random_forest2, parameters2, scoring='recall')\n",
        "forest_clf_fit2 = forest_clf2.fit(X_res, y_res)"
      ]
    },
    {
      "cell_type": "code",
      "execution_count": 261,
      "metadata": {
        "id": "OEOC9D41isd4"
      },
      "outputs": [
        {
          "data": {
            "text/plain": [
              "{'max_depth': 8,\n",
              " 'min_samples_leaf': 2,\n",
              " 'min_samples_split': 2,\n",
              " 'n_estimators': 150}"
            ]
          },
          "execution_count": 261,
          "metadata": {},
          "output_type": "execute_result"
        }
      ],
      "source": [
        "forest_clf_fit2.best_params_"
      ]
    },
    {
      "cell_type": "code",
      "execution_count": 262,
      "metadata": {
        "id": "RqJVh0dZizlG"
      },
      "outputs": [],
      "source": [
        "y_pred_train2 = forest_clf_fit2.predict(X_res)"
      ]
    },
    {
      "cell_type": "code",
      "execution_count": 263,
      "metadata": {
        "id": "0PklbsKni-sw"
      },
      "outputs": [
        {
          "data": {
            "text/plain": [
              "<sklearn.metrics._plot.confusion_matrix.ConfusionMatrixDisplay at 0x25784923670>"
            ]
          },
          "execution_count": 263,
          "metadata": {},
          "output_type": "execute_result"
        },
        {
          "data": {
            "image/png": "[encoded data removed]",
            "text/plain": [
              "<Figure size 432x288 with 2 Axes>"
            ]
          },
          "metadata": {
            "needs_background": "light"
          },
          "output_type": "display_data"
        }
      ],
      "source": [
        "ConfusionMatrixDisplay(confusion_matrix(y_res, y_pred_train2)).plot()"
      ]
    },
    {
      "cell_type": "code",
      "execution_count": 264,
      "metadata": {},
      "outputs": [
        {
          "name": "stdout",
          "output_type": "stream",
          "text": [
            "Accuracy train: 0.9154019111860596\n",
            "Precision train: 0.9279163667094432\n",
            "Recall train: 0.9007793628366985\n",
            "F1-score train: 0.9141465144425345\n"
          ]
        }
      ],
      "source": [
        "print(f'Accuracy train: {accuracy_score(y_res, y_pred_train2)}')\n",
        "print(f'Precision train: {precision_score(y_res, y_pred_train2)}')\n",
        "print(f'Recall train: {recall_score(y_res, y_pred_train2)}')\n",
        "print(f'F1-score train: {f1_score(y_res, y_pred_train2)}')"
      ]
    },
    {
      "cell_type": "code",
      "execution_count": 265,
      "metadata": {
        "id": "iQtXhOdTi0Yf"
      },
      "outputs": [],
      "source": [
        "y_pred_test2 = forest_clf_fit2.predict(data_test.drop('isFraud', axis=1))"
      ]
    },
    {
      "cell_type": "code",
      "execution_count": 266,
      "metadata": {
        "id": "Lph42ESGi0yF"
      },
      "outputs": [
        {
          "data": {
            "text/plain": [
              "<sklearn.metrics._plot.confusion_matrix.ConfusionMatrixDisplay at 0x257e4320f70>"
            ]
          },
          "execution_count": 266,
          "metadata": {},
          "output_type": "execute_result"
        },
        {
          "data": {
            "image/png": "[encoded data removed]",
            "text/plain": [
              "<Figure size 432x288 with 2 Axes>"
            ]
          },
          "metadata": {
            "needs_background": "light"
          },
          "output_type": "display_data"
        }
      ],
      "source": [
        "ConfusionMatrixDisplay(confusion_matrix(data_test.isFraud, y_pred_test2)).plot()"
      ]
    },
    {
      "cell_type": "code",
      "execution_count": 267,
      "metadata": {},
      "outputs": [
        {
          "name": "stdout",
          "output_type": "stream",
          "text": [
            "Accuracy test: 0.9076848249027237\n",
            "Precision test: 0.4683443708609272\n",
            "Recall test: 0.6779141104294478\n",
            "F1-score test: 0.5539714867617107\n"
          ]
        }
      ],
      "source": [
        "print(f'Accuracy test: {accuracy_score(data_test.isFraud, y_pred_test2)}')\n",
        "print(f'Precision test: {precision_score(data_test.isFraud, y_pred_test2)}')\n",
        "print(f'Recall test: {recall_score(data_test.isFraud, y_pred_test2)}')\n",
        "print(f'F1-score test: {f1_score(data_test.isFraud, y_pred_test2)}')"
      ]
    },
    {
      "cell_type": "code",
      "execution_count": 171,
      "metadata": {
        "id": "RvzNOqhO-K26"
      },
      "outputs": [],
      "source": [
        "random_forest3 = RandomForestClassifier(\n",
        "    n_estimators=150, \n",
        "    min_samples_leaf=2, \n",
        "    min_samples_split=2,\n",
        "    criterion='entropy',\n",
        "    random_state=42, \n",
        "    n_jobs=10)\n",
        "parameters3 = {\n",
        "    'max_depth': range(10, 21),\n",
        "    }\n",
        "forest_clf3 = GridSearchCV(random_forest3, parameters3, scoring='recall')\n",
        "forest_clf_fit3 = forest_clf3.fit(X_res, y_res)"
      ]
    },
    {
      "cell_type": "code",
      "execution_count": 206,
      "metadata": {
        "id": "OEOC9D41isd4"
      },
      "outputs": [
        {
          "data": {
            "text/plain": [
              "{'max_depth': 20}"
            ]
          },
          "execution_count": 206,
          "metadata": {},
          "output_type": "execute_result"
        }
      ],
      "source": [
        "forest_clf_fit3.best_params_"
      ]
    },
    {
      "cell_type": "code",
      "execution_count": 207,
      "metadata": {
        "id": "RqJVh0dZizlG"
      },
      "outputs": [],
      "source": [
        "y_pred_train3 = forest_clf_fit3.predict(X_res)"
      ]
    },
    {
      "cell_type": "code",
      "execution_count": 208,
      "metadata": {
        "id": "0PklbsKni-sw"
      },
      "outputs": [
        {
          "data": {
            "text/plain": [
              "array([[65434,   389],\n",
              "       [ 1158, 64665]], dtype=int64)"
            ]
          },
          "execution_count": 208,
          "metadata": {},
          "output_type": "execute_result"
        }
      ],
      "source": [
        "confusion_matrix(y_res, y_pred_train3)"
      ]
    },
    {
      "cell_type": "code",
      "execution_count": 209,
      "metadata": {},
      "outputs": [
        {
          "name": "stdout",
          "output_type": "stream",
          "text": [
            "Accuracy train: 0.9882487884174225\n",
            "Precision train: 0.9940203523226858\n",
            "Recall train: 0.9824073652066907\n",
            "F1-score train: 0.9881797412838008\n"
          ]
        }
      ],
      "source": [
        "print(f'Accuracy train: {accuracy_score(y_res, y_pred_train3)}')\n",
        "print(f'Precision train: {precision_score(y_res, y_pred_train3)}')\n",
        "print(f'Recall train: {recall_score(y_res, y_pred_train3)}')\n",
        "print(f'F1-score train: {f1_score(y_res, y_pred_train3)}')"
      ]
    },
    {
      "cell_type": "code",
      "execution_count": 175,
      "metadata": {
        "id": "iQtXhOdTi0Yf"
      },
      "outputs": [],
      "source": [
        "y_pred_test3 = forest_clf_fit3.predict(data_test.drop('isFraud', axis=1))"
      ]
    },
    {
      "cell_type": "code",
      "execution_count": 176,
      "metadata": {
        "id": "Lph42ESGi0yF"
      },
      "outputs": [
        {
          "data": {
            "text/plain": [
              "array([[27727,   505],\n",
              "       [ 1010,  1598]], dtype=int64)"
            ]
          },
          "execution_count": 176,
          "metadata": {},
          "output_type": "execute_result"
        }
      ],
      "source": [
        "confusion_matrix(data_test.isFraud, y_pred_test3)\n"
      ]
    },
    {
      "cell_type": "code",
      "execution_count": 146,
      "metadata": {},
      "outputs": [],
      "source": [
        "random_forest3 = RandomForestClassifier(\n",
        "    n_estimators=150, \n",
        "    max_depth=8,\n",
        "    min_samples_leaf=2, \n",
        "    min_samples_split=2,\n",
        "    criterion='entropy',\n",
        "    random_state=42, \n",
        "    n_jobs=10)\n",
        "forest_fit_3 = random_forest3.fit(X_res, y_res)"
      ]
    },
    {
      "cell_type": "code",
      "execution_count": 147,
      "metadata": {},
      "outputs": [
        {
          "data": {
            "text/plain": [
              "array([[61217,  4606],\n",
              "       [ 6531, 59292]], dtype=int64)"
            ]
          },
          "execution_count": 147,
          "metadata": {},
          "output_type": "execute_result"
        }
      ],
      "source": [
        "confusion_matrix(y_res, forest_fit_3.predict(X_res))"
      ]
    },
    {
      "cell_type": "code",
      "execution_count": 157,
      "metadata": {},
      "outputs": [
        {
          "data": {
            "text/plain": [
              "array([[26225,  2007],\n",
              "       [  840,  1768]], dtype=int64)"
            ]
          },
          "execution_count": 157,
          "metadata": {},
          "output_type": "execute_result"
        }
      ],
      "source": [
        "confusion_matrix(data_test.isFraud, forest_fit_3.predict(data_test.drop('isFraud', axis=1)))"
      ]
    },
    {
      "cell_type": "code",
      "execution_count": null,
      "metadata": {},
      "outputs": [],
      "source": []
    }
  ],
  "metadata": {
    "colab": {
      "collapsed_sections": [],
      "name": "Data_Prep",
      "provenance": []
    },
    "interpreter": {
      "hash": "650bc04c5c210e3064c34b9d6da02de812093d325f832848f4cffb7cac6f612d"
    },
    "kernelspec": {
      "display_name": "Python 3.8.8 ('base')",
      "language": "python",
      "name": "python3"
    },
    "language_info": {
      "codemirror_mode": {
        "name": "ipython",
        "version": 3
      },
      "file_extension": ".py",
      "mimetype": "text/x-python",
      "name": "python",
      "nbconvert_exporter": "python",
      "pygments_lexer": "ipython3",
      "version": "3.8.8"
    }
  },
  "nbformat": 4,
  "nbformat_minor": 0
}
